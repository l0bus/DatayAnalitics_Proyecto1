{
  "cells": [
    {
      "cell_type": "markdown",
      "metadata": {
        "id": "view-in-github",
        "colab_type": "text"
      },
      "source": [
        "<a href=\"https://colab.research.google.com/github/l0bus/DatayAnalitics_Proyectos/blob/main/Proyecto5.ipynb\" target=\"_parent\"><img src=\"https://colab.research.google.com/assets/colab-badge.svg\" alt=\"Open In Colab\"/></a>"
      ]
    },
    {
      "cell_type": "markdown",
      "id": "e87da3b0",
      "metadata": {
        "id": "e87da3b0"
      },
      "source": [
        "# Proyecto 5 - Data Analitics\n",
        "# Luis Miguel Manrique Murriel\n",
        "\n",
        "## 1) Introducción\n",
        "\n",
        "### Entendimiento del dataset\n",
        "\n",
        "Como todos sabemos, el chocolate es una golosina muy popular en el mundo. EEUU llega a consumir 1.3 billones de kilos de chocolate anualmente. Sin embargo, como en muchas otras cosas, la calidad varía un montón.\n",
        "\n",
        "El dataset consiste en el rating de expertos sobre casi 1800 chocolates, entre otra información interesante, como por ejemplo: origen del chocolate, porcentaje de cacao, origen de los granos, etc. Un poco más adelante profundizaremos en el tema.\n",
        "\n",
        "La información esta centrada en chocolates oscuros, con el fin de hacer una apreciación del sabor del cacao (considerando que el chocolate oscuro es el que mayor porcentaje de cacao tiene).\n",
        "\n",
        "Algunas preguntas que nos interesaran responder a lo largo del desarollo del analisis son:\n",
        "\n",
        "\n",
        "- ¿De donde vienen los mejores granos de cacao?\n",
        "\n",
        "- ¿Qué país produce los chocolates de mejor calidad?\n",
        "\n",
        "- ¿Qué relación hay entre el porcentaje de cacao y la calidad del chocolate?\n",
        "\n"
      ]
    },
    {
      "cell_type": "code",
      "execution_count": null,
      "id": "9d463750",
      "metadata": {
        "id": "9d463750"
      },
      "outputs": [],
      "source": [
        "import pandas as pd\n",
        "import numpy as np\n",
        "import matplotlib.pyplot as plt\n",
        "import seaborn as sns\n",
        "import warnings\n",
        "warnings.filterwarnings('ignore')\n",
        "import numpy as np \n",
        "import pandas as pd \n",
        "import matplotlib.pyplot as plt\n",
        "from operator import itemgetter\n",
        "from sklearn.experimental import enable_iterative_imputer \n",
        "from sklearn.impute import IterativeImputer\n",
        "from sklearn.preprocessing import OrdinalEncoder\n",
        "from sklearn.preprocessing import StandardScaler\n",
        "\n",
        "\n",
        "\n",
        "from sklearn.neighbors import KNeighborsClassifier\n",
        "from sklearn.metrics import accuracy_score\n",
        "from sklearn.model_selection import cross_val_score, KFold\n",
        "from sklearn.model_selection import train_test_split\n",
        "from sklearn.metrics import classification_report, confusion_matrix\n",
        "\n",
        "\n",
        "\n",
        "from sklearn.ensemble import (GradientBoostingRegressor, GradientBoostingClassifier)\n",
        "pd.set_option('display.max_columns', 500)\n",
        "import missingno as msno\n",
        "from datetime import datetime, timedelta\n",
        "from matplotlib import rcParams\n",
        "#import xgboost\n",
        "\n",
        "%matplotlib inline\n",
        "sns.set()\n",
        "plt.rc('xtick', labelsize=10)     \n",
        "plt.rc('ytick', labelsize=10)\n",
        "\n",
        "\n"
      ]
    },
    {
      "cell_type": "code",
      "execution_count": null,
      "id": "04148158",
      "metadata": {
        "id": "04148158",
        "outputId": "a1969093-8369-4b74-be6d-23beb6f57bff"
      },
      "outputs": [
        {
          "data": {
            "text/html": [
              "<div>\n",
              "<style scoped>\n",
              "    .dataframe tbody tr th:only-of-type {\n",
              "        vertical-align: middle;\n",
              "    }\n",
              "\n",
              "    .dataframe tbody tr th {\n",
              "        vertical-align: top;\n",
              "    }\n",
              "\n",
              "    .dataframe thead th {\n",
              "        text-align: right;\n",
              "    }\n",
              "</style>\n",
              "<table border=\"1\" class=\"dataframe\">\n",
              "  <thead>\n",
              "    <tr style=\"text-align: right;\">\n",
              "      <th></th>\n",
              "      <th>Company \\n(Maker-if known)</th>\n",
              "      <th>Specific Bean Origin\\nor Bar Name</th>\n",
              "      <th>REF</th>\n",
              "      <th>Review\\nDate</th>\n",
              "      <th>Cocoa\\nPercent</th>\n",
              "      <th>Company\\nLocation</th>\n",
              "      <th>Rating</th>\n",
              "      <th>Bean\\nType</th>\n",
              "      <th>Broad Bean\\nOrigin</th>\n",
              "    </tr>\n",
              "  </thead>\n",
              "  <tbody>\n",
              "    <tr>\n",
              "      <th>0</th>\n",
              "      <td>A. Morin</td>\n",
              "      <td>Agua Grande</td>\n",
              "      <td>1876</td>\n",
              "      <td>2016</td>\n",
              "      <td>63%</td>\n",
              "      <td>France</td>\n",
              "      <td>3.75</td>\n",
              "      <td></td>\n",
              "      <td>Sao Tome</td>\n",
              "    </tr>\n",
              "    <tr>\n",
              "      <th>1</th>\n",
              "      <td>A. Morin</td>\n",
              "      <td>Kpime</td>\n",
              "      <td>1676</td>\n",
              "      <td>2015</td>\n",
              "      <td>70%</td>\n",
              "      <td>France</td>\n",
              "      <td>2.75</td>\n",
              "      <td></td>\n",
              "      <td>Togo</td>\n",
              "    </tr>\n",
              "    <tr>\n",
              "      <th>2</th>\n",
              "      <td>A. Morin</td>\n",
              "      <td>Atsane</td>\n",
              "      <td>1676</td>\n",
              "      <td>2015</td>\n",
              "      <td>70%</td>\n",
              "      <td>France</td>\n",
              "      <td>3.00</td>\n",
              "      <td></td>\n",
              "      <td>Togo</td>\n",
              "    </tr>\n",
              "  </tbody>\n",
              "</table>\n",
              "</div>"
            ],
            "text/plain": [
              "  Company \\n(Maker-if known) Specific Bean Origin\\nor Bar Name   REF  \\\n",
              "0                   A. Morin                       Agua Grande  1876   \n",
              "1                   A. Morin                             Kpime  1676   \n",
              "2                   A. Morin                            Atsane  1676   \n",
              "\n",
              "   Review\\nDate Cocoa\\nPercent Company\\nLocation  Rating Bean\\nType  \\\n",
              "0          2016            63%            France    3.75              \n",
              "1          2015            70%            France    2.75              \n",
              "2          2015            70%            France    3.00              \n",
              "\n",
              "  Broad Bean\\nOrigin  \n",
              "0           Sao Tome  \n",
              "1               Togo  \n",
              "2               Togo  "
            ]
          },
          "execution_count": 68,
          "metadata": {},
          "output_type": "execute_result"
        }
      ],
      "source": [
        "path = \"/content/Data Rating.csv\"\n",
        "\n",
        "df = pd.read_csv(path, skipinitialspace=True, skip_blank_lines=False)\n",
        "df.head(3)"
      ]
    },
    {
      "cell_type": "code",
      "execution_count": null,
      "id": "2ae16428",
      "metadata": {
        "id": "2ae16428",
        "outputId": "b06af12f-a62c-4f06-cb26-ff55e9776bc6"
      },
      "outputs": [
        {
          "data": {
            "text/plain": [
              "Company \\n(Maker-if known)            object\n",
              "Specific Bean Origin\\nor Bar Name     object\n",
              "REF                                    int64\n",
              "Review\\nDate                           int64\n",
              "Cocoa\\nPercent                        object\n",
              "Company\\nLocation                     object\n",
              "Rating                               float64\n",
              "Bean\\nType                            object\n",
              "Broad Bean\\nOrigin                    object\n",
              "dtype: object"
            ]
          },
          "execution_count": 3,
          "metadata": {},
          "output_type": "execute_result"
        }
      ],
      "source": [
        "df.dtypes"
      ]
    },
    {
      "cell_type": "markdown",
      "id": "a8414b42",
      "metadata": {
        "id": "a8414b42"
      },
      "source": [
        "Para irnos familiarizando un poco con el dataset, a continuación tendremos una pequeña descripción de cada una de las columnas."
      ]
    },
    {
      "cell_type": "code",
      "execution_count": null,
      "id": "74d15249",
      "metadata": {
        "id": "74d15249",
        "outputId": "7ea0ac72-989e-41a1-9894-ecb7312eb068"
      },
      "outputs": [
        {
          "name": "stdout",
          "output_type": "stream",
          "text": [
            "Cantidad de filas:  1795 Cantidad de columnas:  9\n"
          ]
        }
      ],
      "source": [
        "print(\"Cantidad de filas: \",df.shape[0], \"Cantidad de columnas: \",df.shape[1])"
      ]
    },
    {
      "cell_type": "markdown",
      "id": "97e0b28f",
      "metadata": {
        "id": "97e0b28f"
      },
      "source": [
        "### Familiarización con las columnas del dataset\n",
        "\n",
        "\n"
      ]
    },
    {
      "cell_type": "markdown",
      "id": "64c240cf",
      "metadata": {
        "id": "64c240cf"
      },
      "source": [
        "**1) Company:** Compañía productora del chocolate (objeto - string).\n",
        "\n",
        "**2) Specific Bean Origin or Bar Name:** La región específica de origen del chocolate (objeto - string).\n",
        "\n",
        "**3) REF:** Un valor referido a cuando fue ingresada la crítica al dataset. Mayor número = opinión más reciente (int).\n",
        "\n",
        "**4) Review Date:** Fecha de la publicación de la crítica (int).\n",
        "\n",
        "**5) Cocoa Percent:** Porcentaje de cacao del chocolate (objeto - string).\n",
        "\n",
        "**6) Company Location:** País de la empresa productora (objeto - string).\n",
        "\n",
        "**7) Rating:** Rating del experto sobre el chocolate (float).\n",
        "\n",
        "**8) Bean Type:** La variedad del grano de cacao usado en el chocolate (objeto - string).\n",
        "\n",
        "**9) Broad Bean Origin:** La región de origen del grano de cacao (objeto - string). "
      ]
    },
    {
      "cell_type": "code",
      "execution_count": null,
      "id": "514ca55d",
      "metadata": {
        "id": "514ca55d",
        "outputId": "f0f6cd84-d1f9-4c74-e40c-558cb49d212b"
      },
      "outputs": [
        {
          "data": {
            "text/html": [
              "<div>\n",
              "<style scoped>\n",
              "    .dataframe tbody tr th:only-of-type {\n",
              "        vertical-align: middle;\n",
              "    }\n",
              "\n",
              "    .dataframe tbody tr th {\n",
              "        vertical-align: top;\n",
              "    }\n",
              "\n",
              "    .dataframe thead th {\n",
              "        text-align: right;\n",
              "    }\n",
              "</style>\n",
              "<table border=\"1\" class=\"dataframe\">\n",
              "  <thead>\n",
              "    <tr style=\"text-align: right;\">\n",
              "      <th></th>\n",
              "      <th>Company \\n(Maker-if known)</th>\n",
              "      <th>Specific Bean Origin\\nor Bar Name</th>\n",
              "      <th>REF</th>\n",
              "      <th>Review\\nDate</th>\n",
              "      <th>Cocoa\\nPercent</th>\n",
              "      <th>Company\\nLocation</th>\n",
              "      <th>Rating</th>\n",
              "      <th>Bean\\nType</th>\n",
              "      <th>Broad Bean\\nOrigin</th>\n",
              "    </tr>\n",
              "  </thead>\n",
              "  <tbody>\n",
              "    <tr>\n",
              "      <th>0</th>\n",
              "      <td>A. Morin</td>\n",
              "      <td>Agua Grande</td>\n",
              "      <td>1876</td>\n",
              "      <td>2016</td>\n",
              "      <td>63%</td>\n",
              "      <td>France</td>\n",
              "      <td>3.75</td>\n",
              "      <td></td>\n",
              "      <td>Sao Tome</td>\n",
              "    </tr>\n",
              "  </tbody>\n",
              "</table>\n",
              "</div>"
            ],
            "text/plain": [
              "  Company \\n(Maker-if known) Specific Bean Origin\\nor Bar Name   REF  \\\n",
              "0                   A. Morin                       Agua Grande  1876   \n",
              "\n",
              "   Review\\nDate Cocoa\\nPercent Company\\nLocation  Rating Bean\\nType  \\\n",
              "0          2016            63%            France    3.75              \n",
              "\n",
              "  Broad Bean\\nOrigin  \n",
              "0           Sao Tome  "
            ]
          },
          "execution_count": 5,
          "metadata": {},
          "output_type": "execute_result"
        }
      ],
      "source": [
        "df.head(1)"
      ]
    },
    {
      "cell_type": "markdown",
      "id": "c71580ad",
      "metadata": {
        "id": "c71580ad"
      },
      "source": [
        "Como vemos, el nombre de las columnas necesitará un pequeño procesamiento para poder usarlas de manera más fácil y práctica. Lo haremos en seguida."
      ]
    },
    {
      "cell_type": "code",
      "execution_count": null,
      "id": "5cb084a9",
      "metadata": {
        "id": "5cb084a9",
        "outputId": "486c4844-c10e-4128-fa2e-5d00e9d8969c"
      },
      "outputs": [
        {
          "data": {
            "text/html": [
              "<div>\n",
              "<style scoped>\n",
              "    .dataframe tbody tr th:only-of-type {\n",
              "        vertical-align: middle;\n",
              "    }\n",
              "\n",
              "    .dataframe tbody tr th {\n",
              "        vertical-align: top;\n",
              "    }\n",
              "\n",
              "    .dataframe thead th {\n",
              "        text-align: right;\n",
              "    }\n",
              "</style>\n",
              "<table border=\"1\" class=\"dataframe\">\n",
              "  <thead>\n",
              "    <tr style=\"text-align: right;\">\n",
              "      <th></th>\n",
              "      <th>Company  (Maker-if known)</th>\n",
              "      <th>Specific Bean Origin or Bar Name</th>\n",
              "      <th>REF</th>\n",
              "      <th>Review Date</th>\n",
              "      <th>Cocoa Percent</th>\n",
              "      <th>Company Location</th>\n",
              "      <th>Rating</th>\n",
              "      <th>Bean Type</th>\n",
              "      <th>Broad Bean Origin</th>\n",
              "    </tr>\n",
              "  </thead>\n",
              "  <tbody>\n",
              "    <tr>\n",
              "      <th>0</th>\n",
              "      <td>A. Morin</td>\n",
              "      <td>Agua Grande</td>\n",
              "      <td>1876</td>\n",
              "      <td>2016</td>\n",
              "      <td>63%</td>\n",
              "      <td>France</td>\n",
              "      <td>3.75</td>\n",
              "      <td></td>\n",
              "      <td>Sao Tome</td>\n",
              "    </tr>\n",
              "  </tbody>\n",
              "</table>\n",
              "</div>"
            ],
            "text/plain": [
              "  Company  (Maker-if known) Specific Bean Origin or Bar Name   REF  \\\n",
              "0                  A. Morin                      Agua Grande  1876   \n",
              "\n",
              "   Review Date Cocoa Percent Company Location  Rating Bean Type  \\\n",
              "0         2016           63%           France    3.75             \n",
              "\n",
              "  Broad Bean Origin  \n",
              "0          Sao Tome  "
            ]
          },
          "execution_count": 69,
          "metadata": {},
          "output_type": "execute_result"
        }
      ],
      "source": [
        "#Sacamos los \\n que aparecen en las columnas\n",
        "df.columns = df.columns.str.replace(\"\\n\", \" \")\n",
        "df.head(1)"
      ]
    },
    {
      "cell_type": "code",
      "execution_count": null,
      "id": "dc7bec05",
      "metadata": {
        "id": "dc7bec05",
        "outputId": "ef937342-cc49-45ea-b6e0-2b251656e992"
      },
      "outputs": [
        {
          "data": {
            "text/html": [
              "<div>\n",
              "<style scoped>\n",
              "    .dataframe tbody tr th:only-of-type {\n",
              "        vertical-align: middle;\n",
              "    }\n",
              "\n",
              "    .dataframe tbody tr th {\n",
              "        vertical-align: top;\n",
              "    }\n",
              "\n",
              "    .dataframe thead th {\n",
              "        text-align: right;\n",
              "    }\n",
              "</style>\n",
              "<table border=\"1\" class=\"dataframe\">\n",
              "  <thead>\n",
              "    <tr style=\"text-align: right;\">\n",
              "      <th></th>\n",
              "      <th>Company</th>\n",
              "      <th>Specific Bean Origin or Bar Name</th>\n",
              "      <th>REF</th>\n",
              "      <th>Review Date</th>\n",
              "      <th>Cocoa Percent</th>\n",
              "      <th>Company Location</th>\n",
              "      <th>Rating</th>\n",
              "      <th>Bean Type</th>\n",
              "      <th>Broad Bean Origin</th>\n",
              "    </tr>\n",
              "  </thead>\n",
              "  <tbody>\n",
              "    <tr>\n",
              "      <th>0</th>\n",
              "      <td>A. Morin</td>\n",
              "      <td>Agua Grande</td>\n",
              "      <td>1876</td>\n",
              "      <td>2016</td>\n",
              "      <td>63%</td>\n",
              "      <td>France</td>\n",
              "      <td>3.75</td>\n",
              "      <td></td>\n",
              "      <td>Sao Tome</td>\n",
              "    </tr>\n",
              "  </tbody>\n",
              "</table>\n",
              "</div>"
            ],
            "text/plain": [
              "  Company   Specific Bean Origin or Bar Name   REF  Review Date Cocoa Percent  \\\n",
              "0  A. Morin                      Agua Grande  1876         2016           63%   \n",
              "\n",
              "  Company Location  Rating Bean Type Broad Bean Origin  \n",
              "0           France    3.75                    Sao Tome  "
            ]
          },
          "execution_count": 70,
          "metadata": {},
          "output_type": "execute_result"
        }
      ],
      "source": [
        "#Sacamos los parentesis y lo que tenia dentro en la primera columna\n",
        "df.columns = df.columns.str.replace(r\"\\(.*\\)\",\"\")\n",
        "df.head(1)"
      ]
    },
    {
      "cell_type": "code",
      "execution_count": null,
      "id": "a9f0fb1b",
      "metadata": {
        "id": "a9f0fb1b",
        "outputId": "b3060434-c432-4761-a25d-401cdcbce508"
      },
      "outputs": [
        {
          "data": {
            "text/html": [
              "<div>\n",
              "<style scoped>\n",
              "    .dataframe tbody tr th:only-of-type {\n",
              "        vertical-align: middle;\n",
              "    }\n",
              "\n",
              "    .dataframe tbody tr th {\n",
              "        vertical-align: top;\n",
              "    }\n",
              "\n",
              "    .dataframe thead th {\n",
              "        text-align: right;\n",
              "    }\n",
              "</style>\n",
              "<table border=\"1\" class=\"dataframe\">\n",
              "  <thead>\n",
              "    <tr style=\"text-align: right;\">\n",
              "      <th></th>\n",
              "      <th>Company</th>\n",
              "      <th>Specific Bean Origin or Bar Name</th>\n",
              "      <th>REF</th>\n",
              "      <th>Review Date</th>\n",
              "      <th>Cocoa Percent</th>\n",
              "      <th>Company Location</th>\n",
              "      <th>Rating</th>\n",
              "      <th>Bean Type</th>\n",
              "      <th>Broad Bean Origin</th>\n",
              "    </tr>\n",
              "  </thead>\n",
              "  <tbody>\n",
              "    <tr>\n",
              "      <th>0</th>\n",
              "      <td>A. Morin</td>\n",
              "      <td>Agua Grande</td>\n",
              "      <td>1876</td>\n",
              "      <td>2016</td>\n",
              "      <td>63%</td>\n",
              "      <td>France</td>\n",
              "      <td>3.75</td>\n",
              "      <td></td>\n",
              "      <td>Sao Tome</td>\n",
              "    </tr>\n",
              "  </tbody>\n",
              "</table>\n",
              "</div>"
            ],
            "text/plain": [
              "    Company Specific Bean Origin or Bar Name   REF  Review Date Cocoa Percent  \\\n",
              "0  A. Morin                      Agua Grande  1876         2016           63%   \n",
              "\n",
              "  Company Location  Rating Bean Type Broad Bean Origin  \n",
              "0           France    3.75                    Sao Tome  "
            ]
          },
          "execution_count": 71,
          "metadata": {},
          "output_type": "execute_result"
        }
      ],
      "source": [
        "#Sacamos los espacios que se encuentran delante de las columnas\n",
        "df.columns = df.columns.str.rstrip()\n",
        "df.head(1)"
      ]
    },
    {
      "cell_type": "markdown",
      "id": "8ab9f08b",
      "metadata": {
        "id": "8ab9f08b"
      },
      "source": [
        "Veremos las dimensiones del dataset e informacion que nos sera de ayuda para entenderlo mejor."
      ]
    },
    {
      "cell_type": "code",
      "execution_count": null,
      "id": "7eafbe01",
      "metadata": {
        "id": "7eafbe01",
        "outputId": "b7d74f26-636c-4d73-a834-a9c75f7165d5"
      },
      "outputs": [
        {
          "data": {
            "text/html": [
              "<div>\n",
              "<style scoped>\n",
              "    .dataframe tbody tr th:only-of-type {\n",
              "        vertical-align: middle;\n",
              "    }\n",
              "\n",
              "    .dataframe tbody tr th {\n",
              "        vertical-align: top;\n",
              "    }\n",
              "\n",
              "    .dataframe thead th {\n",
              "        text-align: right;\n",
              "    }\n",
              "</style>\n",
              "<table border=\"1\" class=\"dataframe\">\n",
              "  <thead>\n",
              "    <tr style=\"text-align: right;\">\n",
              "      <th></th>\n",
              "      <th>REF</th>\n",
              "      <th>Review Date</th>\n",
              "      <th>Rating</th>\n",
              "    </tr>\n",
              "  </thead>\n",
              "  <tbody>\n",
              "    <tr>\n",
              "      <th>count</th>\n",
              "      <td>1795.000000</td>\n",
              "      <td>1795.000000</td>\n",
              "      <td>1795.000000</td>\n",
              "    </tr>\n",
              "    <tr>\n",
              "      <th>mean</th>\n",
              "      <td>1035.904735</td>\n",
              "      <td>2012.325348</td>\n",
              "      <td>3.185933</td>\n",
              "    </tr>\n",
              "    <tr>\n",
              "      <th>std</th>\n",
              "      <td>552.886365</td>\n",
              "      <td>2.927210</td>\n",
              "      <td>0.478062</td>\n",
              "    </tr>\n",
              "    <tr>\n",
              "      <th>min</th>\n",
              "      <td>5.000000</td>\n",
              "      <td>2006.000000</td>\n",
              "      <td>1.000000</td>\n",
              "    </tr>\n",
              "    <tr>\n",
              "      <th>25%</th>\n",
              "      <td>576.000000</td>\n",
              "      <td>2010.000000</td>\n",
              "      <td>2.875000</td>\n",
              "    </tr>\n",
              "    <tr>\n",
              "      <th>50%</th>\n",
              "      <td>1069.000000</td>\n",
              "      <td>2013.000000</td>\n",
              "      <td>3.250000</td>\n",
              "    </tr>\n",
              "    <tr>\n",
              "      <th>75%</th>\n",
              "      <td>1502.000000</td>\n",
              "      <td>2015.000000</td>\n",
              "      <td>3.500000</td>\n",
              "    </tr>\n",
              "    <tr>\n",
              "      <th>max</th>\n",
              "      <td>1952.000000</td>\n",
              "      <td>2017.000000</td>\n",
              "      <td>5.000000</td>\n",
              "    </tr>\n",
              "  </tbody>\n",
              "</table>\n",
              "</div>"
            ],
            "text/plain": [
              "               REF  Review Date       Rating\n",
              "count  1795.000000  1795.000000  1795.000000\n",
              "mean   1035.904735  2012.325348     3.185933\n",
              "std     552.886365     2.927210     0.478062\n",
              "min       5.000000  2006.000000     1.000000\n",
              "25%     576.000000  2010.000000     2.875000\n",
              "50%    1069.000000  2013.000000     3.250000\n",
              "75%    1502.000000  2015.000000     3.500000\n",
              "max    1952.000000  2017.000000     5.000000"
            ]
          },
          "execution_count": 72,
          "metadata": {},
          "output_type": "execute_result"
        }
      ],
      "source": [
        "df.describe()"
      ]
    },
    {
      "cell_type": "code",
      "execution_count": null,
      "id": "7668f392",
      "metadata": {
        "id": "7668f392",
        "outputId": "5e62b6d8-cc8f-4049-8513-3aad09909f86"
      },
      "outputs": [
        {
          "name": "stdout",
          "output_type": "stream",
          "text": [
            "Cantidad de instancias nulas por columna: \n",
            "Company                             0\n",
            "Specific Bean Origin or Bar Name    0\n",
            "REF                                 0\n",
            "Review Date                         0\n",
            "Cocoa Percent                       0\n",
            "Company Location                    0\n",
            "Rating                              0\n",
            "Bean Type                           1\n",
            "Broad Bean Origin                   1\n",
            "dtype: int64\n",
            "% de instancias nulas por columna: \n",
            "Company                             0.000000\n",
            "Specific Bean Origin or Bar Name    0.000000\n",
            "REF                                 0.000000\n",
            "Review Date                         0.000000\n",
            "Cocoa Percent                       0.000000\n",
            "Company Location                    0.000000\n",
            "Rating                              0.000000\n",
            "Bean Type                           0.000557\n",
            "Broad Bean Origin                   0.000557\n",
            "dtype: float64\n"
          ]
        }
      ],
      "source": [
        "print(\"Cantidad de instancias nulas por columna: \")\n",
        "print(df.isnull().sum())\n",
        "\n",
        "print(\"% de instancias nulas por columna: \")\n",
        "print(df.isnull().mean())"
      ]
    },
    {
      "cell_type": "markdown",
      "id": "3a8cbe1f",
      "metadata": {
        "id": "3a8cbe1f"
      },
      "source": [
        "Parece que tenemos una cantidad de instancias nulas muy baja. Suena positivo."
      ]
    },
    {
      "cell_type": "markdown",
      "id": "3e8af055",
      "metadata": {
        "id": "3e8af055"
      },
      "source": [
        "De acuerdo a la fuente, la columna \"Specific Bean Origin or Bar Name\" corresponde a la región específica de origen de la barra de chocolate. Teniendo eso en cuenta, el nombre resultaría algo confuso, asi que renombraremos la columna."
      ]
    },
    {
      "cell_type": "code",
      "execution_count": null,
      "id": "d6631ef5",
      "metadata": {
        "id": "d6631ef5"
      },
      "outputs": [],
      "source": [
        "df.rename(columns={\"Specific Bean Origin or Bar Name\" : \"Chocolate Bar Origin\"}, inplace =True)#[\"Specific Bean Origin or Bar Name\"]"
      ]
    },
    {
      "cell_type": "code",
      "execution_count": null,
      "id": "b7395c73",
      "metadata": {
        "id": "b7395c73",
        "outputId": "be3b9364-6801-4c83-8e72-a961218f5bc9"
      },
      "outputs": [
        {
          "data": {
            "text/plain": [
              "Index(['Company', 'Chocolate Bar Origin', 'REF', 'Review Date',\n",
              "       'Cocoa Percent', 'Company Location', 'Rating', 'Bean Type',\n",
              "       'Broad Bean Origin'],\n",
              "      dtype='object')"
            ]
          },
          "execution_count": 58,
          "metadata": {},
          "output_type": "execute_result"
        }
      ],
      "source": [
        "df.columns"
      ]
    },
    {
      "cell_type": "markdown",
      "id": "bc8864fd",
      "metadata": {
        "id": "bc8864fd"
      },
      "source": [
        "## 2)  Preprocesamiento de features"
      ]
    },
    {
      "cell_type": "markdown",
      "id": "b36e7185",
      "metadata": {
        "id": "b36e7185"
      },
      "source": [
        "### Creación de variable target"
      ]
    },
    {
      "cell_type": "markdown",
      "id": "38a1a99d",
      "metadata": {
        "id": "38a1a99d"
      },
      "source": [
        "Como equipo de trabajo, decidimos definir una variable target que no venía dada en el dataset. Ésta será binaria (0 y 1), y será basada en la columna \"Rating\".  \n",
        "\n",
        "Por criterio propio, definimos que si el \"Rating\" es mayor o igual a 3.5, será considerado un chocolate aceptable o bueno, y por el lado contrario, bajo dicho número será inaceptable o malo.\n",
        "\n",
        "Muy importante ahora tener en cuenta que la feature \"Rating\" formará directamente nuestra target, por lo tanto no la podremos utilizar si queremos un modelo fiable y realista.\n"
      ]
    },
    {
      "cell_type": "code",
      "execution_count": null,
      "id": "c68f674f",
      "metadata": {
        "id": "c68f674f"
      },
      "outputs": [],
      "source": [
        "df[\"chocolate_acceptance\"]=df.Rating.apply(lambda x: 1 if x>=3.5 else 0)"
      ]
    },
    {
      "cell_type": "markdown",
      "id": "f6297dbf",
      "metadata": {
        "id": "f6297dbf"
      },
      "source": [
        "Crearemos una version con \"yes\" and \"no\", para posteriores visualizaciones."
      ]
    },
    {
      "cell_type": "code",
      "execution_count": null,
      "id": "81c9b740",
      "metadata": {
        "id": "81c9b740"
      },
      "outputs": [],
      "source": [
        "df[\"chocolate_acceptance_yn\"]=df[\"chocolate_acceptance\"].apply(lambda x : \"yes\" if x==1 else \"no\")"
      ]
    },
    {
      "cell_type": "code",
      "execution_count": null,
      "id": "d0f26932",
      "metadata": {
        "id": "d0f26932",
        "outputId": "9446d033-e7ea-41c8-a667-ec45540e46a3"
      },
      "outputs": [
        {
          "data": {
            "text/html": [
              "<div>\n",
              "<style scoped>\n",
              "    .dataframe tbody tr th:only-of-type {\n",
              "        vertical-align: middle;\n",
              "    }\n",
              "\n",
              "    .dataframe tbody tr th {\n",
              "        vertical-align: top;\n",
              "    }\n",
              "\n",
              "    .dataframe thead th {\n",
              "        text-align: right;\n",
              "    }\n",
              "</style>\n",
              "<table border=\"1\" class=\"dataframe\">\n",
              "  <thead>\n",
              "    <tr style=\"text-align: right;\">\n",
              "      <th></th>\n",
              "      <th>Company</th>\n",
              "      <th>Chocolate Bar Origin</th>\n",
              "      <th>REF</th>\n",
              "      <th>Review Date</th>\n",
              "      <th>Cocoa Percent</th>\n",
              "      <th>Company Location</th>\n",
              "      <th>Rating</th>\n",
              "      <th>Bean Type</th>\n",
              "      <th>Broad Bean Origin</th>\n",
              "      <th>chocolate_acceptance</th>\n",
              "      <th>chocolate_acceptance_yn</th>\n",
              "    </tr>\n",
              "  </thead>\n",
              "  <tbody>\n",
              "    <tr>\n",
              "      <th>0</th>\n",
              "      <td>A. Morin</td>\n",
              "      <td>Agua Grande</td>\n",
              "      <td>1876</td>\n",
              "      <td>2016</td>\n",
              "      <td>63%</td>\n",
              "      <td>France</td>\n",
              "      <td>3.75</td>\n",
              "      <td></td>\n",
              "      <td>Sao Tome</td>\n",
              "      <td>1</td>\n",
              "      <td>yes</td>\n",
              "    </tr>\n",
              "  </tbody>\n",
              "</table>\n",
              "</div>"
            ],
            "text/plain": [
              "    Company Chocolate Bar Origin   REF  Review Date Cocoa Percent  \\\n",
              "0  A. Morin          Agua Grande  1876         2016           63%   \n",
              "\n",
              "  Company Location  Rating Bean Type Broad Bean Origin  chocolate_acceptance  \\\n",
              "0           France    3.75                    Sao Tome                     1   \n",
              "\n",
              "  chocolate_acceptance_yn  \n",
              "0                     yes  "
            ]
          },
          "execution_count": 61,
          "metadata": {},
          "output_type": "execute_result"
        }
      ],
      "source": [
        "df.head(1)"
      ]
    },
    {
      "cell_type": "markdown",
      "id": "4a68fb6e",
      "metadata": {
        "id": "4a68fb6e"
      },
      "source": [
        "### \"Cocoa Percent\" de object - string a float"
      ]
    },
    {
      "cell_type": "code",
      "execution_count": null,
      "id": "565640e8",
      "metadata": {
        "id": "565640e8"
      },
      "outputs": [],
      "source": [
        "df[\"Cocoa Percent\"]=df[\"Cocoa Percent\"].str[:2].astype(float)/100\n"
      ]
    },
    {
      "cell_type": "markdown",
      "id": "978c628f",
      "metadata": {
        "id": "978c628f"
      },
      "source": [
        "### Creación de columna \"Review date\"  en formato datetime"
      ]
    },
    {
      "cell_type": "code",
      "execution_count": null,
      "id": "313fa414",
      "metadata": {
        "id": "313fa414",
        "outputId": "0de05819-dadb-4b49-92b1-b7fd196a82bb"
      },
      "outputs": [
        {
          "data": {
            "text/html": [
              "<div>\n",
              "<style scoped>\n",
              "    .dataframe tbody tr th:only-of-type {\n",
              "        vertical-align: middle;\n",
              "    }\n",
              "\n",
              "    .dataframe tbody tr th {\n",
              "        vertical-align: top;\n",
              "    }\n",
              "\n",
              "    .dataframe thead th {\n",
              "        text-align: right;\n",
              "    }\n",
              "</style>\n",
              "<table border=\"1\" class=\"dataframe\">\n",
              "  <thead>\n",
              "    <tr style=\"text-align: right;\">\n",
              "      <th></th>\n",
              "      <th>REF</th>\n",
              "      <th>Review Date</th>\n",
              "      <th>Cocoa Percent</th>\n",
              "      <th>Rating</th>\n",
              "      <th>chocolate_acceptance</th>\n",
              "    </tr>\n",
              "  </thead>\n",
              "  <tbody>\n",
              "    <tr>\n",
              "      <th>REF</th>\n",
              "      <td>1.000000</td>\n",
              "      <td>0.985076</td>\n",
              "      <td>0.067270</td>\n",
              "      <td>0.101030</td>\n",
              "      <td>0.045046</td>\n",
              "    </tr>\n",
              "    <tr>\n",
              "      <th>Review Date</th>\n",
              "      <td>0.985076</td>\n",
              "      <td>1.000000</td>\n",
              "      <td>0.063565</td>\n",
              "      <td>0.099846</td>\n",
              "      <td>0.040028</td>\n",
              "    </tr>\n",
              "    <tr>\n",
              "      <th>Cocoa Percent</th>\n",
              "      <td>0.067270</td>\n",
              "      <td>0.063565</td>\n",
              "      <td>1.000000</td>\n",
              "      <td>0.108469</td>\n",
              "      <td>0.018120</td>\n",
              "    </tr>\n",
              "    <tr>\n",
              "      <th>Rating</th>\n",
              "      <td>0.101030</td>\n",
              "      <td>0.099846</td>\n",
              "      <td>0.108469</td>\n",
              "      <td>1.000000</td>\n",
              "      <td>0.776261</td>\n",
              "    </tr>\n",
              "    <tr>\n",
              "      <th>chocolate_acceptance</th>\n",
              "      <td>0.045046</td>\n",
              "      <td>0.040028</td>\n",
              "      <td>0.018120</td>\n",
              "      <td>0.776261</td>\n",
              "      <td>1.000000</td>\n",
              "    </tr>\n",
              "  </tbody>\n",
              "</table>\n",
              "</div>"
            ],
            "text/plain": [
              "                           REF  Review Date  Cocoa Percent    Rating  \\\n",
              "REF                   1.000000     0.985076       0.067270  0.101030   \n",
              "Review Date           0.985076     1.000000       0.063565  0.099846   \n",
              "Cocoa Percent         0.067270     0.063565       1.000000  0.108469   \n",
              "Rating                0.101030     0.099846       0.108469  1.000000   \n",
              "chocolate_acceptance  0.045046     0.040028       0.018120  0.776261   \n",
              "\n",
              "                      chocolate_acceptance  \n",
              "REF                               0.045046  \n",
              "Review Date                       0.040028  \n",
              "Cocoa Percent                     0.018120  \n",
              "Rating                            0.776261  \n",
              "chocolate_acceptance              1.000000  "
            ]
          },
          "execution_count": 17,
          "metadata": {},
          "output_type": "execute_result"
        }
      ],
      "source": [
        "df.corr()"
      ]
    },
    {
      "cell_type": "markdown",
      "id": "01a8c632",
      "metadata": {
        "id": "01a8c632"
      },
      "source": [
        "A primera vista, \"Review Date\" no parece tener relación importante con nuestro target \"chocolate_acceptance\". De igual manera, agregaremos una columna con la feature \"Review Date\" en formato datetime, para ver si nos sirve en el análisis posterior."
      ]
    },
    {
      "cell_type": "code",
      "execution_count": null,
      "id": "073f3ccf",
      "metadata": {
        "id": "073f3ccf",
        "outputId": "b6985eaf-8725-4ba1-f56c-82bef723c0bd"
      },
      "outputs": [
        {
          "data": {
            "text/plain": [
              "Company                     object\n",
              "Chocolate Bar Origin        object\n",
              "REF                          int64\n",
              "Review Date                  int64\n",
              "Cocoa Percent              float64\n",
              "Company Location            object\n",
              "Rating                     float64\n",
              "Bean Type                   object\n",
              "Broad Bean Origin           object\n",
              "chocolate_acceptance         int64\n",
              "chocolate_acceptance_yn     object\n",
              "dtype: object"
            ]
          },
          "execution_count": 18,
          "metadata": {},
          "output_type": "execute_result"
        }
      ],
      "source": [
        "df.dtypes"
      ]
    },
    {
      "cell_type": "code",
      "execution_count": null,
      "id": "019631f8",
      "metadata": {
        "id": "019631f8"
      },
      "outputs": [],
      "source": [
        "df[\"review_date_datetime\"]=df[\"Review Date\"].apply(lambda x : str(x))"
      ]
    },
    {
      "cell_type": "code",
      "execution_count": null,
      "id": "0ba2c435",
      "metadata": {
        "id": "0ba2c435",
        "outputId": "b928845e-1189-435d-ea6f-d827fe4864e9"
      },
      "outputs": [
        {
          "data": {
            "text/plain": [
              "Company                     object\n",
              "Chocolate Bar Origin        object\n",
              "REF                          int64\n",
              "Review Date                  int64\n",
              "Cocoa Percent              float64\n",
              "Company Location            object\n",
              "Rating                     float64\n",
              "Bean Type                   object\n",
              "Broad Bean Origin           object\n",
              "chocolate_acceptance         int64\n",
              "chocolate_acceptance_yn     object\n",
              "review_date_datetime        object\n",
              "dtype: object"
            ]
          },
          "execution_count": 78,
          "metadata": {},
          "output_type": "execute_result"
        }
      ],
      "source": [
        "df.dtypes"
      ]
    },
    {
      "cell_type": "code",
      "execution_count": null,
      "id": "3e5f6d7d",
      "metadata": {
        "id": "3e5f6d7d"
      },
      "outputs": [],
      "source": [
        "df[\"review_date_datetime\"]=df[\"review_date_datetime\"].apply(lambda x : datetime.strptime(x,\"%Y\"))"
      ]
    },
    {
      "cell_type": "code",
      "execution_count": null,
      "id": "e13f3d42",
      "metadata": {
        "id": "e13f3d42",
        "outputId": "30d4dd28-66ec-498f-8e1a-1e342ad1822d"
      },
      "outputs": [
        {
          "data": {
            "text/plain": [
              "Company                            object\n",
              "Chocolate Bar Origin               object\n",
              "REF                                 int64\n",
              "Review Date                         int64\n",
              "Cocoa Percent                     float64\n",
              "Company Location                   object\n",
              "Rating                            float64\n",
              "Bean Type                          object\n",
              "Broad Bean Origin                  object\n",
              "chocolate_acceptance                int64\n",
              "chocolate_acceptance_yn            object\n",
              "review_date_datetime       datetime64[ns]\n",
              "dtype: object"
            ]
          },
          "execution_count": 22,
          "metadata": {},
          "output_type": "execute_result"
        }
      ],
      "source": [
        "df.dtypes"
      ]
    },
    {
      "cell_type": "markdown",
      "id": "84d92ad5",
      "metadata": {
        "id": "84d92ad5"
      },
      "source": [
        "### Valores Nulos"
      ]
    },
    {
      "cell_type": "markdown",
      "id": "f359ece9",
      "metadata": {
        "id": "f359ece9"
      },
      "source": [
        "Volviendo al tema de los nulos, la proporción de éstos es ínfima, por lo que tomamos la decision de dropearlos."
      ]
    },
    {
      "cell_type": "code",
      "execution_count": null,
      "id": "640b0a0a",
      "metadata": {
        "id": "640b0a0a",
        "outputId": "f119233d-3a9e-48b8-9422-6ad29cbff248"
      },
      "outputs": [
        {
          "data": {
            "text/plain": [
              "Company                    0.000000\n",
              "Chocolate Bar Origin       0.000000\n",
              "REF                        0.000000\n",
              "Review Date                0.000000\n",
              "Cocoa Percent              0.000000\n",
              "Company Location           0.000000\n",
              "Rating                     0.000000\n",
              "Bean Type                  0.000557\n",
              "Broad Bean Origin          0.000557\n",
              "chocolate_acceptance       0.000000\n",
              "chocolate_acceptance_yn    0.000000\n",
              "review_date_datetime       0.000000\n",
              "dtype: float64"
            ]
          },
          "execution_count": 23,
          "metadata": {},
          "output_type": "execute_result"
        }
      ],
      "source": [
        "df.isnull().mean()"
      ]
    },
    {
      "cell_type": "code",
      "execution_count": null,
      "id": "93a29977",
      "metadata": {
        "id": "93a29977",
        "outputId": "7a23473e-81a3-4c54-ff00-56ca4be4af93"
      },
      "outputs": [
        {
          "name": "stdout",
          "output_type": "stream",
          "text": [
            "(1795, 12)\n",
            "(1793, 12)\n"
          ]
        }
      ],
      "source": [
        "print(df.shape)\n",
        "df.dropna(inplace=True)\n",
        "print(df.shape)\n"
      ]
    },
    {
      "cell_type": "code",
      "execution_count": null,
      "id": "2005d114",
      "metadata": {
        "id": "2005d114",
        "outputId": "0f560928-c760-4d2b-dd3c-a987783035da"
      },
      "outputs": [
        {
          "data": {
            "text/plain": [
              "Company                    0.0\n",
              "Chocolate Bar Origin       0.0\n",
              "REF                        0.0\n",
              "Review Date                0.0\n",
              "Cocoa Percent              0.0\n",
              "Company Location           0.0\n",
              "Rating                     0.0\n",
              "Bean Type                  0.0\n",
              "Broad Bean Origin          0.0\n",
              "chocolate_acceptance       0.0\n",
              "chocolate_acceptance_yn    0.0\n",
              "review_date_datetime       0.0\n",
              "dtype: float64"
            ]
          },
          "execution_count": 25,
          "metadata": {},
          "output_type": "execute_result"
        }
      ],
      "source": [
        "df.isnull().mean()"
      ]
    },
    {
      "cell_type": "markdown",
      "id": "90215fa9",
      "metadata": {
        "id": "90215fa9"
      },
      "source": [
        "## 3) EDA (Exploratory Data Analysis)"
      ]
    },
    {
      "cell_type": "markdown",
      "id": "c558c4bb",
      "metadata": {
        "id": "c558c4bb"
      },
      "source": [
        "Es momento de empezar con el análisis exploratorio de los datos."
      ]
    },
    {
      "cell_type": "markdown",
      "id": "b9b12aa5",
      "metadata": {
        "id": "b9b12aa5"
      },
      "source": [
        "### Distribución del target"
      ]
    },
    {
      "cell_type": "markdown",
      "id": "bb575b2d",
      "metadata": {
        "id": "bb575b2d"
      },
      "source": [
        "### \"chocolate_acceptance\""
      ]
    },
    {
      "cell_type": "code",
      "execution_count": null,
      "id": "ff8c9e37",
      "metadata": {
        "id": "ff8c9e37",
        "outputId": "363f4568-1fe0-4d80-9cbf-29a34fdbf9a6"
      },
      "outputs": [
        {
          "name": "stdout",
          "output_type": "stream",
          "text": [
            "Distribución de la variable target: \n",
            "0    1092\n",
            "1     701\n",
            "Name: chocolate_acceptance, dtype: int64\n",
            "Distribución de la variable target en %: \n",
            "0    0.609035\n",
            "1    0.390965\n",
            "Name: chocolate_acceptance, dtype: float64\n"
          ]
        }
      ],
      "source": [
        "print(\"Distribución de la variable target: \")\n",
        "print(df.chocolate_acceptance.value_counts())\n",
        "print(\"Distribución de la variable target en %: \")\n",
        "print(df.chocolate_acceptance.value_counts()/df.chocolate_acceptance.count())\n",
        "target_distrib=df.chocolate_acceptance.value_counts()/df.chocolate_acceptance.count()"
      ]
    },
    {
      "cell_type": "code",
      "execution_count": null,
      "id": "160d92c1",
      "metadata": {
        "scrolled": true,
        "id": "160d92c1",
        "outputId": "687c8d05-484b-44cb-b4ab-02560dc99dc7"
      },
      "outputs": [
        {
          "data": {
            "image/png": "[encoded data removed]",
            "text/plain": [
              "<Figure size 720x360 with 1 Axes>"
            ]
          },
          "metadata": {},
          "output_type": "display_data"
        }
      ],
      "source": [
        "labels= target_distrib.index\n",
        "\n",
        "fig = plt.figure(figsize=(10,5)); ax = plt.axes()\n",
        "\n",
        "ax.pie(target_distrib, labels = labels ,autopct='%1.2f%%')\n",
        "plt.show()"
      ]
    },
    {
      "cell_type": "markdown",
      "id": "a32b3a1f",
      "metadata": {
        "id": "a32b3a1f"
      },
      "source": [
        "La variable target está \"medianamente desbalanceada\". Éste tema lo volveremos a retormar cuando nos metamos en el modelo."
      ]
    },
    {
      "cell_type": "markdown",
      "id": "ee763cef",
      "metadata": {
        "id": "ee763cef"
      },
      "source": [
        "### \"Rating\""
      ]
    },
    {
      "cell_type": "markdown",
      "id": "3e4dc5b2",
      "metadata": {
        "id": "3e4dc5b2"
      },
      "source": [
        "Miraremos la distribucion segun el rating. Como ya sabemos, esta feature ya no la podremos usar ya que conforma nuestro target, pero la miraremos a modo ilustrativo."
      ]
    },
    {
      "cell_type": "code",
      "execution_count": null,
      "id": "4fec30ad",
      "metadata": {
        "id": "4fec30ad",
        "outputId": "40de93db-8a0c-4c55-ea93-f59df73efacc"
      },
      "outputs": [
        {
          "data": {
            "image/png": "[encoded data removed]",
            "text/plain": [
              "<Figure size 1008x432 with 1 Axes>"
            ]
          },
          "metadata": {},
          "output_type": "display_data"
        }
      ],
      "source": [
        "rcParams['figure.figsize'] = 14,6\n",
        "trabajos = sns.countplot(x = 'Rating', data = df)#,\n",
        "              #order = df['Rating'].value_counts().index)\n",
        "plt.xlabel(\"Puntaje (Rating)\")\n",
        "plt.ylabel(\"Cantidad de chocolates\")\n",
        "plt.title(\"Cantidad de chocolates por Puntaje (Rating)\") \n",
        "plt.show(trabajos)\n"
      ]
    },
    {
      "cell_type": "code",
      "execution_count": null,
      "id": "5ff2a3ba",
      "metadata": {
        "id": "5ff2a3ba",
        "outputId": "fd02299a-4d4f-4946-8631-0f7335df2fb0"
      },
      "outputs": [
        {
          "data": {
            "text/plain": [
              "3.50    392\n",
              "3.00    341\n",
              "3.25    303\n",
              "2.75    259\n",
              "3.75    210\n",
              "2.50    126\n",
              "4.00     97\n",
              "2.00     32\n",
              "2.25     14\n",
              "1.50     10\n",
              "1.00      4\n",
              "1.75      3\n",
              "5.00      2\n",
              "Name: Rating, dtype: int64"
            ]
          },
          "execution_count": 29,
          "metadata": {},
          "output_type": "execute_result"
        }
      ],
      "source": [
        "df.Rating.value_counts()"
      ]
    },
    {
      "cell_type": "markdown",
      "id": "37df7777",
      "metadata": {
        "id": "37df7777"
      },
      "source": [
        "### \"Review Date\""
      ]
    },
    {
      "cell_type": "markdown",
      "id": "da21241c",
      "metadata": {
        "id": "da21241c"
      },
      "source": [
        "Para entender la distribución de la variable target a lo largo de los años en los que se fueron haciendo las reviews..."
      ]
    },
    {
      "cell_type": "code",
      "execution_count": null,
      "id": "8ccb152a",
      "metadata": {
        "id": "8ccb152a"
      },
      "outputs": [],
      "source": [
        "paleta = [\"#fc8d59\",\"#3288bd\"]\n",
        "yes_df = df[df['chocolate_acceptance'] == 1]\n",
        "no_df = df[df['chocolate_acceptance'] == 0]"
      ]
    },
    {
      "cell_type": "code",
      "execution_count": null,
      "id": "26ffe75c",
      "metadata": {
        "id": "26ffe75c",
        "outputId": "583006dc-7867-48d1-ae20-e175aa93febc"
      },
      "outputs": [
        {
          "data": {
            "image/png": "[encoded data removed]",
            "text/plain": [
              "<Figure size 936x360 with 2 Axes>"
            ]
          },
          "metadata": {},
          "output_type": "display_data"
        }
      ],
      "source": [
        "fig, (ax1, ax2) = plt.subplots(nrows = 1, ncols = 2, figsize = (13, 5))\n",
        "\n",
        "\n",
        "sns.boxplot(y='Review Date', x='chocolate_acceptance', data=df, palette=paleta, ax = ax1)\n",
        "ax1.set_xlabel('chocolate_acceptance', fontsize=10)\n",
        "ax1.set_ylabel('Año de ingreso de la review', fontsize=10)\n",
        "ax1.set_title('Boxplot Review Date', fontsize=10)\n",
        "ax1.tick_params(labelsize=10)\n",
        "\n",
        "\n",
        "sns.distplot(yes_df['Review Date'],color='#3288bd', ax = ax2)\n",
        "sns.distplot(no_df['Review Date'],color = '#fc8d59', ax = ax2) \n",
        "ax2.set_xlabel('Año de ingreso de la review', fontsize=10)\n",
        "ax2.set_ylabel('Ocurrencia', fontsize=10)\n",
        "ax2.set_title('Frecuencia de datos de la variable Review Date', fontsize=10)\n",
        "ax2.tick_params(labelsize=10)\n",
        "\n",
        "\n",
        "\n",
        "plt.subplots_adjust(wspace=0.5)\n",
        "\n",
        "plt.tight_layout() "
      ]
    },
    {
      "cell_type": "markdown",
      "id": "f641a97b",
      "metadata": {
        "id": "f641a97b"
      },
      "source": [
        "Por deduccion, la fecha de ingreso de la Review no debe tener incidencia sobre la calidad del chocolate. Igual revisaremos la tasa de aceptacion del chocolate segun año de ingreso de la critica o review."
      ]
    },
    {
      "cell_type": "code",
      "execution_count": null,
      "id": "391c2204",
      "metadata": {
        "id": "391c2204",
        "outputId": "4d84c716-6f77-4250-ca00-4d02ee336888"
      },
      "outputs": [
        {
          "data": {
            "text/html": [
              "<div>\n",
              "<style scoped>\n",
              "    .dataframe tbody tr th:only-of-type {\n",
              "        vertical-align: middle;\n",
              "    }\n",
              "\n",
              "    .dataframe tbody tr th {\n",
              "        vertical-align: top;\n",
              "    }\n",
              "\n",
              "    .dataframe thead th {\n",
              "        text-align: right;\n",
              "    }\n",
              "</style>\n",
              "<table border=\"1\" class=\"dataframe\">\n",
              "  <thead>\n",
              "    <tr style=\"text-align: right;\">\n",
              "      <th>chocolate_acceptance_yn</th>\n",
              "      <th>no</th>\n",
              "      <th>yes</th>\n",
              "    </tr>\n",
              "    <tr>\n",
              "      <th>Review Date</th>\n",
              "      <th></th>\n",
              "      <th></th>\n",
              "    </tr>\n",
              "  </thead>\n",
              "  <tbody>\n",
              "    <tr>\n",
              "      <th>2006</th>\n",
              "      <td>55.555556</td>\n",
              "      <td>44.444444</td>\n",
              "    </tr>\n",
              "    <tr>\n",
              "      <th>2007</th>\n",
              "      <td>55.844156</td>\n",
              "      <td>44.155844</td>\n",
              "    </tr>\n",
              "    <tr>\n",
              "      <th>2008</th>\n",
              "      <td>69.892473</td>\n",
              "      <td>30.107527</td>\n",
              "    </tr>\n",
              "    <tr>\n",
              "      <th>2009</th>\n",
              "      <td>73.983740</td>\n",
              "      <td>26.016260</td>\n",
              "    </tr>\n",
              "    <tr>\n",
              "      <th>2010</th>\n",
              "      <td>65.765766</td>\n",
              "      <td>34.234234</td>\n",
              "    </tr>\n",
              "    <tr>\n",
              "      <th>2011</th>\n",
              "      <td>54.268293</td>\n",
              "      <td>45.731707</td>\n",
              "    </tr>\n",
              "    <tr>\n",
              "      <th>2012</th>\n",
              "      <td>61.855670</td>\n",
              "      <td>38.144330</td>\n",
              "    </tr>\n",
              "    <tr>\n",
              "      <th>2013</th>\n",
              "      <td>63.586957</td>\n",
              "      <td>36.413043</td>\n",
              "    </tr>\n",
              "    <tr>\n",
              "      <th>2014</th>\n",
              "      <td>61.538462</td>\n",
              "      <td>38.461538</td>\n",
              "    </tr>\n",
              "    <tr>\n",
              "      <th>2015</th>\n",
              "      <td>57.192982</td>\n",
              "      <td>42.807018</td>\n",
              "    </tr>\n",
              "    <tr>\n",
              "      <th>2016</th>\n",
              "      <td>58.904110</td>\n",
              "      <td>41.095890</td>\n",
              "    </tr>\n",
              "    <tr>\n",
              "      <th>2017</th>\n",
              "      <td>41.666667</td>\n",
              "      <td>58.333333</td>\n",
              "    </tr>\n",
              "  </tbody>\n",
              "</table>\n",
              "</div>"
            ],
            "text/plain": [
              "chocolate_acceptance_yn         no        yes\n",
              "Review Date                                  \n",
              "2006                     55.555556  44.444444\n",
              "2007                     55.844156  44.155844\n",
              "2008                     69.892473  30.107527\n",
              "2009                     73.983740  26.016260\n",
              "2010                     65.765766  34.234234\n",
              "2011                     54.268293  45.731707\n",
              "2012                     61.855670  38.144330\n",
              "2013                     63.586957  36.413043\n",
              "2014                     61.538462  38.461538\n",
              "2015                     57.192982  42.807018\n",
              "2016                     58.904110  41.095890\n",
              "2017                     41.666667  58.333333"
            ]
          },
          "execution_count": 32,
          "metadata": {},
          "output_type": "execute_result"
        }
      ],
      "source": [
        "\n",
        "cross_tab_review = pd.crosstab(df['chocolate_acceptance_yn'],df[\"Review Date\"]).apply(lambda x: x/x.sum() * 100)\n",
        "cross_tab_review = cross_tab_review.transpose()\n",
        "cross_tab_review\n",
        "\n"
      ]
    },
    {
      "cell_type": "code",
      "execution_count": null,
      "id": "8f73f9ae",
      "metadata": {
        "id": "8f73f9ae",
        "outputId": "7aed6894-9324-4e07-deb7-b2998c164526"
      },
      "outputs": [
        {
          "data": {
            "image/png": "[encoded data removed]",
            "text/plain": [
              "<Figure size 864x432 with 1 Axes>"
            ]
          },
          "metadata": {},
          "output_type": "display_data"
        }
      ],
      "source": [
        "review = cross_tab_review['yes'].sort_values(ascending = True).plot(kind ='barh', color = \"#2ca25f\",\n",
        "                                                                           figsize = (12,6))\n",
        "                                                                               \n",
        "plt.title('Tasa de aprobacion del chocolate')\n",
        "plt.xlabel('Tasa de aprobacion')\n",
        "plt.ylabel('País de origen de la empresa productora')\n",
        "\n",
        "# Por estas funciones prefiero ggplot\n",
        "for rec, label in zip(review.patches,\n",
        "                      cross_tab_review[\"yes\"].sort_values(ascending = True).round(1).astype(str)):\n",
        "    review.text(rec.get_width()+0.8, \n",
        "                  rec.get_y()+ rec.get_height()-0.5, \n",
        "                  label+'%', \n",
        "                  ha = 'center', \n",
        "                  va='bottom')"
      ]
    },
    {
      "cell_type": "markdown",
      "id": "fe59b22f",
      "metadata": {
        "id": "fe59b22f"
      },
      "source": [
        "### \"Company Location\""
      ]
    },
    {
      "cell_type": "markdown",
      "id": "60b65e8d",
      "metadata": {
        "id": "60b65e8d"
      },
      "source": [
        "Vamos a visualizar la distribución del target según la compañía productora del chocolate y de donde viene el grano. Nos quedaremos con el top 10 de ambos para graficarlo por cuestiones prácticas. Ademas ahi se encuentra la gran mayoria de instancias."
      ]
    },
    {
      "cell_type": "code",
      "execution_count": null,
      "id": "815ea67e",
      "metadata": {
        "id": "815ea67e"
      },
      "outputs": [],
      "source": [
        "top_company=['U.S.A.', 'France', 'Canada', 'U.K.', 'Italy', 'Ecuador',\n",
        "       'Australia', 'Belgium', 'Switzerland', 'Germany']\n",
        "\n",
        "mask_top_company=df[\"Company Location\"].apply(lambda x: x in top_company) \n"
      ]
    },
    {
      "cell_type": "code",
      "execution_count": null,
      "id": "5988ca81",
      "metadata": {
        "id": "5988ca81"
      },
      "outputs": [],
      "source": [
        "\n",
        "top_company=['U.S.A.', 'France', 'Canada', 'U.K.', 'Italy', 'Ecuador',\n",
        "       'Australia', 'Belgium', 'Switzerland', 'Germany']\n",
        "\n",
        "mask_top_company=df[\"Company Location\"].apply(lambda x: x in top_company) "
      ]
    },
    {
      "cell_type": "code",
      "execution_count": null,
      "id": "3a26bf0a",
      "metadata": {
        "id": "3a26bf0a",
        "outputId": "0f4a1d11-9809-4191-dcee-0eeebf884f8f"
      },
      "outputs": [
        {
          "data": {
            "text/plain": [
              "Text(0.5, 1.0, 'Chocolate acceptance through company location')"
            ]
          },
          "execution_count": 36,
          "metadata": {},
          "output_type": "execute_result"
        },
        {
          "data": {
            "image/png": "[encoded data removed]",
            "text/plain": [
              "<Figure size 648x360 with 1 Axes>"
            ]
          },
          "metadata": {},
          "output_type": "display_data"
        }
      ],
      "source": [
        "fig, ax = plt.subplots(figsize = (9, 5))\n",
        "sns.histplot(data=df[mask_top_company], x=\"Company Location\", hue='chocolate_acceptance', binwidth=10,multiple='stack',stat=\"count\", edgecolor ='black')\n",
        "plt.setp( ax.get_xticklabels(),rotation=75)\n",
        "plt.xlabel(\"Company Location\") \n",
        "plt.ylabel(\"Count\")\n",
        "plt.title(\"Chocolate acceptance through company location\")"
      ]
    },
    {
      "cell_type": "code",
      "execution_count": null,
      "id": "945ddfc1",
      "metadata": {
        "id": "945ddfc1",
        "outputId": "d36f4582-4fe0-4317-bc59-07f30847b11a"
      },
      "outputs": [
        {
          "data": {
            "text/html": [
              "<div>\n",
              "<style scoped>\n",
              "    .dataframe tbody tr th:only-of-type {\n",
              "        vertical-align: middle;\n",
              "    }\n",
              "\n",
              "    .dataframe tbody tr th {\n",
              "        vertical-align: top;\n",
              "    }\n",
              "\n",
              "    .dataframe thead th {\n",
              "        text-align: right;\n",
              "    }\n",
              "</style>\n",
              "<table border=\"1\" class=\"dataframe\">\n",
              "  <thead>\n",
              "    <tr style=\"text-align: right;\">\n",
              "      <th>chocolate_acceptance_yn</th>\n",
              "      <th>no</th>\n",
              "      <th>yes</th>\n",
              "    </tr>\n",
              "    <tr>\n",
              "      <th>Company Location</th>\n",
              "      <th></th>\n",
              "      <th></th>\n",
              "    </tr>\n",
              "  </thead>\n",
              "  <tbody>\n",
              "    <tr>\n",
              "      <th>Australia</th>\n",
              "      <td>46.938776</td>\n",
              "      <td>53.061224</td>\n",
              "    </tr>\n",
              "    <tr>\n",
              "      <th>Belgium</th>\n",
              "      <td>52.500000</td>\n",
              "      <td>47.500000</td>\n",
              "    </tr>\n",
              "    <tr>\n",
              "      <th>Canada</th>\n",
              "      <td>52.419355</td>\n",
              "      <td>47.580645</td>\n",
              "    </tr>\n",
              "    <tr>\n",
              "      <th>Ecuador</th>\n",
              "      <td>70.370370</td>\n",
              "      <td>29.629630</td>\n",
              "    </tr>\n",
              "    <tr>\n",
              "      <th>France</th>\n",
              "      <td>52.564103</td>\n",
              "      <td>47.435897</td>\n",
              "    </tr>\n",
              "    <tr>\n",
              "      <th>Germany</th>\n",
              "      <td>62.857143</td>\n",
              "      <td>37.142857</td>\n",
              "    </tr>\n",
              "    <tr>\n",
              "      <th>Italy</th>\n",
              "      <td>50.793651</td>\n",
              "      <td>49.206349</td>\n",
              "    </tr>\n",
              "    <tr>\n",
              "      <th>Switzerland</th>\n",
              "      <td>52.631579</td>\n",
              "      <td>47.368421</td>\n",
              "    </tr>\n",
              "    <tr>\n",
              "      <th>U.K.</th>\n",
              "      <td>70.833333</td>\n",
              "      <td>29.166667</td>\n",
              "    </tr>\n",
              "    <tr>\n",
              "      <th>U.S.A.</th>\n",
              "      <td>64.613368</td>\n",
              "      <td>35.386632</td>\n",
              "    </tr>\n",
              "  </tbody>\n",
              "</table>\n",
              "</div>"
            ],
            "text/plain": [
              "chocolate_acceptance_yn         no        yes\n",
              "Company Location                             \n",
              "Australia                46.938776  53.061224\n",
              "Belgium                  52.500000  47.500000\n",
              "Canada                   52.419355  47.580645\n",
              "Ecuador                  70.370370  29.629630\n",
              "France                   52.564103  47.435897\n",
              "Germany                  62.857143  37.142857\n",
              "Italy                    50.793651  49.206349\n",
              "Switzerland              52.631579  47.368421\n",
              "U.K.                     70.833333  29.166667\n",
              "U.S.A.                   64.613368  35.386632"
            ]
          },
          "execution_count": 37,
          "metadata": {},
          "output_type": "execute_result"
        }
      ],
      "source": [
        "df_top_company=df[mask_top_company]\n",
        "\n",
        "cross_tab_company = pd.crosstab(df_top_company['chocolate_acceptance_yn'],df_top_company[\"Company Location\"]).apply(lambda x: x/x.sum() * 100)\n",
        "cross_tab_company = cross_tab_company.transpose()\n",
        "cross_tab_company\n"
      ]
    },
    {
      "cell_type": "code",
      "execution_count": null,
      "id": "26950851",
      "metadata": {
        "id": "26950851",
        "outputId": "c30e4a3a-d5bb-481a-85a9-bf18075b050c"
      },
      "outputs": [
        {
          "data": {
            "image/png": "[encoded data removed]",
            "text/plain": [
              "<Figure size 864x432 with 1 Axes>"
            ]
          },
          "metadata": {},
          "output_type": "display_data"
        }
      ],
      "source": [
        "company = cross_tab_company['yes'].sort_values(ascending = True).plot(kind ='barh', color = \"#2ca25f\",\n",
        "                                                                           figsize = (12,6))\n",
        "                                                                               \n",
        "plt.title('Tasa de aprobacion del chocolate')\n",
        "plt.xlabel('Tasa de aprobacion')\n",
        "plt.ylabel('País de origen de la empresa productora')\n",
        "\n",
        "# Por estas funciones prefiero ggplot\n",
        "for rec, label in zip(company.patches,\n",
        "                      cross_tab_company[\"yes\"].sort_values(ascending = True).round(1).astype(str)):\n",
        "    company.text(rec.get_width()+0.8, \n",
        "                  rec.get_y()+ rec.get_height()-0.5, \n",
        "                  label+'%', \n",
        "                  ha = 'center', \n",
        "                  va='bottom')"
      ]
    },
    {
      "cell_type": "markdown",
      "id": "6d1e4b4a",
      "metadata": {
        "id": "6d1e4b4a"
      },
      "source": [
        "Podriamos decir que en promedio, los mejores chocolates son producidos por Australia."
      ]
    },
    {
      "cell_type": "markdown",
      "id": "9e477ef1",
      "metadata": {
        "id": "9e477ef1"
      },
      "source": [
        "### \"Broad Bean Origin\""
      ]
    },
    {
      "cell_type": "code",
      "execution_count": null,
      "id": "efd6566d",
      "metadata": {
        "id": "efd6566d",
        "outputId": "783bcda4-7ab2-4f10-f9f7-84a896528c53"
      },
      "outputs": [
        {
          "data": {
            "text/plain": [
              "Venezuela             214\n",
              "Ecuador               193\n",
              "Peru                  165\n",
              "Madagascar            145\n",
              "Dominican Republic    141\n",
              "                       73\n",
              "Nicaragua              60\n",
              "Brazil                 58\n",
              "Bolivia                57\n",
              "Belize                 49\n",
              "Name: Broad Bean Origin, dtype: int64"
            ]
          },
          "execution_count": 38,
          "metadata": {},
          "output_type": "execute_result"
        }
      ],
      "source": [
        "df[\"Broad Bean Origin\"].value_counts().head(10)"
      ]
    },
    {
      "cell_type": "markdown",
      "id": "0b3dd2db",
      "metadata": {
        "id": "0b3dd2db"
      },
      "source": [
        "Hay nulos escondidos con un string vacío en \"Broad Bean Origin\". Corresponden a 73 registros, los mantendremos como una categoria. Otorgaremos la palabra \"unknown\"."
      ]
    },
    {
      "cell_type": "code",
      "execution_count": null,
      "id": "c39e0ba3",
      "metadata": {
        "id": "c39e0ba3",
        "outputId": "76b44e33-641c-4104-ac97-79a2daafbf24"
      },
      "outputs": [
        {
          "data": {
            "text/plain": [
              "Int64Index([  77,   85,   86,   87,  144,  148,  182,  214,  245,  277,  329,\n",
              "             381,  393,  416,  417,  421,  465,  482,  554,  564,  565,  634,\n",
              "             644,  739,  749,  754,  755,  756,  759,  760,  762,  764,  769,\n",
              "             770,  772,  774,  775,  776,  777,  779,  897,  937,  938,  975,\n",
              "            1048, 1074, 1114, 1115, 1120, 1129, 1175, 1231, 1272, 1366, 1374,\n",
              "            1411, 1414, 1436, 1439, 1440, 1443, 1506, 1526, 1624, 1625, 1683,\n",
              "            1686, 1694, 1766, 1774, 1778, 1780, 1789],\n",
              "           dtype='int64')"
            ]
          },
          "execution_count": 45,
          "metadata": {},
          "output_type": "execute_result"
        }
      ],
      "source": [
        "hide_nulls_index=df[df[\"Broad Bean Origin\"]== \"\\xa0\"].index\n",
        "hide_nulls_index"
      ]
    },
    {
      "cell_type": "code",
      "execution_count": null,
      "id": "5c75a420",
      "metadata": {
        "id": "5c75a420"
      },
      "outputs": [],
      "source": [
        "df[\"Broad Bean Origin\"]=df[\"Broad Bean Origin\"].apply(lambda x : \"unknown\" if x==\"\\xa0\" else x)"
      ]
    },
    {
      "cell_type": "code",
      "execution_count": null,
      "id": "41f56f5d",
      "metadata": {
        "id": "41f56f5d"
      },
      "outputs": [],
      "source": [
        "#df['Broad Bean Origin'] = df['Broad Bean Origin'].map({'\\xa0':\"unknown\"})"
      ]
    },
    {
      "cell_type": "code",
      "execution_count": null,
      "id": "7004cad7",
      "metadata": {
        "id": "7004cad7"
      },
      "outputs": [],
      "source": [
        "top_bean=list(df[\"Broad Bean Origin\"].value_counts().head(10).index)\n",
        "\n",
        "mask_top_bean=df[\"Broad Bean Origin\"].apply(lambda x: x in top_bean) \n"
      ]
    },
    {
      "cell_type": "code",
      "execution_count": null,
      "id": "60178bae",
      "metadata": {
        "id": "60178bae",
        "outputId": "e3bc79a5-dc93-4ead-8263-31b55b85e6f7"
      },
      "outputs": [
        {
          "data": {
            "text/plain": [
              "Text(0.5, 1.0, 'Bean Origin through company location')"
            ]
          },
          "execution_count": 42,
          "metadata": {},
          "output_type": "execute_result"
        },
        {
          "data": {
            "image/png": "[encoded data removed]",
            "text/plain": [
              "<Figure size 648x360 with 1 Axes>"
            ]
          },
          "metadata": {},
          "output_type": "display_data"
        }
      ],
      "source": [
        "fig, ax = plt.subplots(figsize = (9, 5))\n",
        "sns.histplot(data=df[mask_top_bean], x=\"Broad Bean Origin\", hue='chocolate_acceptance', binwidth=10,multiple='stack',stat=\"count\", edgecolor ='black')\n",
        "plt.setp( ax.get_xticklabels(),rotation=75)\n",
        "plt.xlabel(\"Origen del grano\") \n",
        "plt.ylabel(\"Count\")\n",
        "plt.title(\"Bean Origin through company location\")"
      ]
    },
    {
      "cell_type": "code",
      "execution_count": null,
      "id": "1719832f",
      "metadata": {
        "id": "1719832f"
      },
      "outputs": [],
      "source": [
        "df_top_bean=df[mask_top_bean]"
      ]
    },
    {
      "cell_type": "code",
      "execution_count": null,
      "id": "8961f6ea",
      "metadata": {
        "id": "8961f6ea",
        "outputId": "fb4779e5-4faf-440f-8a32-f7545fa1fd72"
      },
      "outputs": [
        {
          "data": {
            "text/html": [
              "<div>\n",
              "<style scoped>\n",
              "    .dataframe tbody tr th:only-of-type {\n",
              "        vertical-align: middle;\n",
              "    }\n",
              "\n",
              "    .dataframe tbody tr th {\n",
              "        vertical-align: top;\n",
              "    }\n",
              "\n",
              "    .dataframe thead th {\n",
              "        text-align: right;\n",
              "    }\n",
              "</style>\n",
              "<table border=\"1\" class=\"dataframe\">\n",
              "  <thead>\n",
              "    <tr style=\"text-align: right;\">\n",
              "      <th>chocolate_acceptance_yn</th>\n",
              "      <th>no</th>\n",
              "      <th>yes</th>\n",
              "    </tr>\n",
              "    <tr>\n",
              "      <th>Broad Bean Origin</th>\n",
              "      <th></th>\n",
              "      <th></th>\n",
              "    </tr>\n",
              "  </thead>\n",
              "  <tbody>\n",
              "    <tr>\n",
              "      <th>Belize</th>\n",
              "      <td>69.387755</td>\n",
              "      <td>30.612245</td>\n",
              "    </tr>\n",
              "    <tr>\n",
              "      <th>Bolivia</th>\n",
              "      <td>66.666667</td>\n",
              "      <td>33.333333</td>\n",
              "    </tr>\n",
              "    <tr>\n",
              "      <th>Brazil</th>\n",
              "      <td>50.000000</td>\n",
              "      <td>50.000000</td>\n",
              "    </tr>\n",
              "    <tr>\n",
              "      <th>Dominican Republic</th>\n",
              "      <td>63.120567</td>\n",
              "      <td>36.879433</td>\n",
              "    </tr>\n",
              "    <tr>\n",
              "      <th>Ecuador</th>\n",
              "      <td>61.658031</td>\n",
              "      <td>38.341969</td>\n",
              "    </tr>\n",
              "    <tr>\n",
              "      <th>Madagascar</th>\n",
              "      <td>54.482759</td>\n",
              "      <td>45.517241</td>\n",
              "    </tr>\n",
              "    <tr>\n",
              "      <th>Nicaragua</th>\n",
              "      <td>63.333333</td>\n",
              "      <td>36.666667</td>\n",
              "    </tr>\n",
              "    <tr>\n",
              "      <th>Papua New Guinea</th>\n",
              "      <td>52.380952</td>\n",
              "      <td>47.619048</td>\n",
              "    </tr>\n",
              "    <tr>\n",
              "      <th>Peru</th>\n",
              "      <td>63.636364</td>\n",
              "      <td>36.363636</td>\n",
              "    </tr>\n",
              "    <tr>\n",
              "      <th>Venezuela</th>\n",
              "      <td>55.607477</td>\n",
              "      <td>44.392523</td>\n",
              "    </tr>\n",
              "  </tbody>\n",
              "</table>\n",
              "</div>"
            ],
            "text/plain": [
              "chocolate_acceptance_yn         no        yes\n",
              "Broad Bean Origin                            \n",
              "Belize                   69.387755  30.612245\n",
              "Bolivia                  66.666667  33.333333\n",
              "Brazil                   50.000000  50.000000\n",
              "Dominican Republic       63.120567  36.879433\n",
              "Ecuador                  61.658031  38.341969\n",
              "Madagascar               54.482759  45.517241\n",
              "Nicaragua                63.333333  36.666667\n",
              "Papua New Guinea         52.380952  47.619048\n",
              "Peru                     63.636364  36.363636\n",
              "Venezuela                55.607477  44.392523"
            ]
          },
          "execution_count": 44,
          "metadata": {},
          "output_type": "execute_result"
        }
      ],
      "source": [
        "cross_tab_origin = pd.crosstab(df_top_bean['chocolate_acceptance_yn'],df_top_bean['Broad Bean Origin']).apply(lambda x: x/x.sum() * 100)\n",
        "cross_tab_origin = cross_tab_origin.transpose()\n",
        "cross_tab_origin\n"
      ]
    },
    {
      "cell_type": "code",
      "execution_count": null,
      "id": "4f6aa600",
      "metadata": {
        "id": "4f6aa600",
        "outputId": "5bacbe8a-cd4c-4b11-e1f2-1ce8cfe7ec05"
      },
      "outputs": [
        {
          "data": {
            "image/png": "[encoded data removed]",
            "text/plain": [
              "<Figure size 864x432 with 1 Axes>"
            ]
          },
          "metadata": {},
          "output_type": "display_data"
        }
      ],
      "source": [
        "origin = cross_tab_origin['yes'].sort_values(ascending = True).plot(kind ='barh', color = \"#2ca25f\",\n",
        "                                                                           figsize = (12,6))\n",
        "                                                                               \n",
        "plt.title('Tasa de aprobacion del chocolate')\n",
        "plt.xlabel('Tasa de aprobacion')\n",
        "plt.ylabel('Origen del grano')\n",
        "\n",
        "# Por estas funciones prefiero ggplot\n",
        "for rec, label in zip(origin.patches,\n",
        "                      cross_tab_origin[\"yes\"].sort_values(ascending = True).round(1).astype(str)):\n",
        "    origin.text(rec.get_width()+0.8, \n",
        "                  rec.get_y()+ rec.get_height()-0.5, \n",
        "                  label+'%', \n",
        "                  ha = 'center', \n",
        "                  va='bottom')"
      ]
    },
    {
      "cell_type": "markdown",
      "id": "e459d96e",
      "metadata": {
        "id": "e459d96e"
      },
      "source": [
        "Podriamos decir que los granos que producen mejor chocolate en promedio, son los de Brasil."
      ]
    },
    {
      "cell_type": "markdown",
      "id": "de013181",
      "metadata": {
        "id": "de013181"
      },
      "source": [
        "Descrubrimos nuevos nulos encondidos con un string vacío en \"Bean Type\". Esta vez son 836, lo cual representa un 49% de los datos. No tiene ningun sentido imputarlos, hay riesgo de producir un gran bias. Al igual que con \"Broad Bean Origin\", a estos \"nulos\", los consideraremos una categoría, \"unknown\"."
      ]
    },
    {
      "cell_type": "code",
      "execution_count": null,
      "id": "0eb3f7d3",
      "metadata": {
        "id": "0eb3f7d3",
        "outputId": "1765b1aa-966c-41bf-cd5e-00b84f0e350b"
      },
      "outputs": [
        {
          "data": {
            "text/plain": [
              "0"
            ]
          },
          "execution_count": 90,
          "metadata": {},
          "output_type": "execute_result"
        }
      ],
      "source": [
        "df[\"Bean Type\"][df[\"Bean Type\"]== \"\\xa0\"].count()"
      ]
    },
    {
      "cell_type": "code",
      "execution_count": null,
      "id": "eda6001a",
      "metadata": {
        "id": "eda6001a"
      },
      "outputs": [],
      "source": [
        "df[\"Bean Type\"]=df[\"Bean Type\"].apply(lambda x : \"unknown\" if x==\"\\xa0\" else x)"
      ]
    },
    {
      "cell_type": "markdown",
      "id": "d26e9769",
      "metadata": {
        "id": "d26e9769"
      },
      "source": [
        "Vamos a crear rangos de porcentaje de cacao en base a la feature \"Cocoa Percent\", para que sea más práctico el trabajo sobre ella."
      ]
    },
    {
      "cell_type": "code",
      "execution_count": null,
      "id": "f710464d",
      "metadata": {
        "id": "f710464d"
      },
      "outputs": [],
      "source": [
        "ranges=[0,0.5,0.6,0.7,0.8,1]\n",
        "labels= [\"50% and under\",\"51%-60%\",\"61%-70%\",\"71%-80%\",\"over 80%\"]\n",
        "\n",
        "df[\"cocoa_percent_range\"]=pd.cut(df['Cocoa Percent'],bins= ranges,labels=labels)"
      ]
    },
    {
      "cell_type": "code",
      "execution_count": null,
      "id": "6e1db3a6",
      "metadata": {
        "id": "6e1db3a6",
        "outputId": "ac777ea2-80fc-457b-8152-7d44b59ed6af"
      },
      "outputs": [
        {
          "data": {
            "text/plain": [
              "Text(0.5, 1.0, 'Porcentaje de cacao y target')"
            ]
          },
          "execution_count": 52,
          "metadata": {},
          "output_type": "execute_result"
        },
        {
          "data": {
            "image/png": "[encoded data removed]",
            "text/plain": [
              "<Figure size 648x360 with 1 Axes>"
            ]
          },
          "metadata": {},
          "output_type": "display_data"
        }
      ],
      "source": [
        "fig, ax = plt.subplots(figsize = (9, 5))\n",
        "sns.histplot(data=df, x=\"cocoa_percent_range\", hue='chocolate_acceptance', binwidth=10,multiple='stack',stat=\"count\", edgecolor ='black')\n",
        "plt.setp( ax.get_xticklabels(),rotation=75)\n",
        "plt.xlabel(\"% de cacao\") \n",
        "plt.ylabel(\"Count\")\n",
        "plt.title(\"Porcentaje de cacao y target\")"
      ]
    },
    {
      "cell_type": "code",
      "execution_count": null,
      "id": "fbbc0376",
      "metadata": {
        "id": "fbbc0376",
        "outputId": "40191853-8cfa-4c91-a656-017cffa7c62c"
      },
      "outputs": [
        {
          "data": {
            "text/html": [
              "<div>\n",
              "<style scoped>\n",
              "    .dataframe tbody tr th:only-of-type {\n",
              "        vertical-align: middle;\n",
              "    }\n",
              "\n",
              "    .dataframe tbody tr th {\n",
              "        vertical-align: top;\n",
              "    }\n",
              "\n",
              "    .dataframe thead th {\n",
              "        text-align: right;\n",
              "    }\n",
              "</style>\n",
              "<table border=\"1\" class=\"dataframe\">\n",
              "  <thead>\n",
              "    <tr style=\"text-align: right;\">\n",
              "      <th>chocolate_acceptance_yn</th>\n",
              "      <th>no</th>\n",
              "      <th>yes</th>\n",
              "    </tr>\n",
              "    <tr>\n",
              "      <th>cocoa_percent_range</th>\n",
              "      <th></th>\n",
              "      <th></th>\n",
              "    </tr>\n",
              "  </thead>\n",
              "  <tbody>\n",
              "    <tr>\n",
              "      <th>50% and under</th>\n",
              "      <td>91.304348</td>\n",
              "      <td>8.695652</td>\n",
              "    </tr>\n",
              "    <tr>\n",
              "      <th>51%-60%</th>\n",
              "      <td>86.111111</td>\n",
              "      <td>13.888889</td>\n",
              "    </tr>\n",
              "    <tr>\n",
              "      <th>61%-70%</th>\n",
              "      <td>53.354978</td>\n",
              "      <td>46.645022</td>\n",
              "    </tr>\n",
              "    <tr>\n",
              "      <th>71%-80%</th>\n",
              "      <td>65.153734</td>\n",
              "      <td>34.846266</td>\n",
              "    </tr>\n",
              "    <tr>\n",
              "      <th>over 80%</th>\n",
              "      <td>78.021978</td>\n",
              "      <td>21.978022</td>\n",
              "    </tr>\n",
              "  </tbody>\n",
              "</table>\n",
              "</div>"
            ],
            "text/plain": [
              "chocolate_acceptance_yn         no        yes\n",
              "cocoa_percent_range                          \n",
              "50% and under            91.304348   8.695652\n",
              "51%-60%                  86.111111  13.888889\n",
              "61%-70%                  53.354978  46.645022\n",
              "71%-80%                  65.153734  34.846266\n",
              "over 80%                 78.021978  21.978022"
            ]
          },
          "execution_count": 92,
          "metadata": {},
          "output_type": "execute_result"
        }
      ],
      "source": [
        "cross_tab_cocoa = pd.crosstab(df['chocolate_acceptance_yn'],df['cocoa_percent_range']).apply(lambda x: x/x.sum() * 100)\n",
        "cross_tab_cocoa = cross_tab_cocoa.transpose()\n",
        "cross_tab_cocoa"
      ]
    },
    {
      "cell_type": "code",
      "execution_count": null,
      "id": "652d6d1f",
      "metadata": {
        "id": "652d6d1f",
        "outputId": "b974e996-a021-4db4-ab96-0e31f3a28405"
      },
      "outputs": [
        {
          "data": {
            "image/png": "[encoded data removed]",
            "text/plain": [
              "<Figure size 864x432 with 1 Axes>"
            ]
          },
          "metadata": {},
          "output_type": "display_data"
        }
      ],
      "source": [
        "cocoa = cross_tab_cocoa['yes'].sort_values(ascending = True).plot(kind ='barh', color = \"#2ca25f\",\n",
        "                                                                           figsize = (12,6))\n",
        "                                                                               \n",
        "plt.title('Tasa de aprobacion del chocolate')\n",
        "plt.xlabel('Tasa de aprobacion')\n",
        "plt.ylabel('% de cacao')\n",
        "\n",
        "# Por estas funciones prefiero ggplot\n",
        "for rec, label in zip(cocoa.patches,\n",
        "                      cross_tab_cocoa[\"yes\"].sort_values(ascending = True).round(1).astype(str)):\n",
        "    cocoa.text(rec.get_width()+0.8, \n",
        "                  rec.get_y()+ rec.get_height()-0.5, \n",
        "                  label+'%', \n",
        "                  ha = 'center', \n",
        "                  va='bottom')"
      ]
    },
    {
      "cell_type": "markdown",
      "id": "6f083f52",
      "metadata": {
        "id": "6f083f52"
      },
      "source": [
        "La mejor calidad de chocolates, parece estar en el rango de 61%-70% de cacao."
      ]
    },
    {
      "cell_type": "markdown",
      "id": "88d951c9",
      "metadata": {
        "id": "88d951c9"
      },
      "source": [
        "### \"Chocolate Bar Origin\" "
      ]
    },
    {
      "cell_type": "code",
      "execution_count": null,
      "id": "23d918a5",
      "metadata": {
        "id": "23d918a5"
      },
      "outputs": [],
      "source": [
        "top_choc_bar_orig=list(df[\"Chocolate Bar Origin\"].value_counts().head(10).index)\n",
        "\n",
        "mask_top_choc_bar=df[\"Chocolate Bar Origin\"].apply(lambda x: x in top_choc_bar_orig) \n"
      ]
    },
    {
      "cell_type": "code",
      "execution_count": null,
      "id": "e2864fc9",
      "metadata": {
        "id": "e2864fc9",
        "outputId": "d4d09888-3398-4841-ac23-f1b5b4abbade"
      },
      "outputs": [
        {
          "data": {
            "text/plain": [
              "Text(0.5, 1.0, 'Origen de la barra del chocolate y target')"
            ]
          },
          "execution_count": 56,
          "metadata": {},
          "output_type": "execute_result"
        },
        {
          "data": {
            "image/png": "[encoded data removed]",
            "text/plain": [
              "<Figure size 648x360 with 1 Axes>"
            ]
          },
          "metadata": {},
          "output_type": "display_data"
        }
      ],
      "source": [
        "fig, ax = plt.subplots(figsize = (9, 5))\n",
        "sns.histplot(data=df[mask_top_choc_bar], x=\"Chocolate Bar Origin\", hue='chocolate_acceptance', binwidth=10,multiple='stack',stat=\"count\", edgecolor ='black')\n",
        "plt.setp( ax.get_xticklabels(),rotation=75)\n",
        "plt.xlabel(\"Chocolate Bar Origin\") \n",
        "plt.ylabel(\"Count\")\n",
        "plt.title(\"Origen de la barra del chocolate y target\")"
      ]
    },
    {
      "cell_type": "code",
      "execution_count": null,
      "id": "a2e529a5",
      "metadata": {
        "id": "a2e529a5",
        "outputId": "73c117cd-7764-4d80-d451-ac60800db96a"
      },
      "outputs": [
        {
          "data": {
            "text/html": [
              "<div>\n",
              "<style scoped>\n",
              "    .dataframe tbody tr th:only-of-type {\n",
              "        vertical-align: middle;\n",
              "    }\n",
              "\n",
              "    .dataframe tbody tr th {\n",
              "        vertical-align: top;\n",
              "    }\n",
              "\n",
              "    .dataframe thead th {\n",
              "        text-align: right;\n",
              "    }\n",
              "</style>\n",
              "<table border=\"1\" class=\"dataframe\">\n",
              "  <thead>\n",
              "    <tr style=\"text-align: right;\">\n",
              "      <th>chocolate_acceptance_yn</th>\n",
              "      <th>no</th>\n",
              "      <th>yes</th>\n",
              "    </tr>\n",
              "    <tr>\n",
              "      <th>Chocolate Bar Origin</th>\n",
              "      <th></th>\n",
              "      <th></th>\n",
              "    </tr>\n",
              "  </thead>\n",
              "  <tbody>\n",
              "    <tr>\n",
              "      <th>Chuao</th>\n",
              "      <td>52.631579</td>\n",
              "      <td>47.368421</td>\n",
              "    </tr>\n",
              "    <tr>\n",
              "      <th>Dominican Republic</th>\n",
              "      <td>75.675676</td>\n",
              "      <td>24.324324</td>\n",
              "    </tr>\n",
              "    <tr>\n",
              "      <th>Ecuador</th>\n",
              "      <td>73.809524</td>\n",
              "      <td>26.190476</td>\n",
              "    </tr>\n",
              "    <tr>\n",
              "      <th>Ghana</th>\n",
              "      <td>73.333333</td>\n",
              "      <td>26.666667</td>\n",
              "    </tr>\n",
              "    <tr>\n",
              "      <th>Madagascar</th>\n",
              "      <td>50.000000</td>\n",
              "      <td>50.000000</td>\n",
              "    </tr>\n",
              "    <tr>\n",
              "      <th>Ocumare</th>\n",
              "      <td>47.058824</td>\n",
              "      <td>52.941176</td>\n",
              "    </tr>\n",
              "    <tr>\n",
              "      <th>Papua New Guinea</th>\n",
              "      <td>66.666667</td>\n",
              "      <td>33.333333</td>\n",
              "    </tr>\n",
              "    <tr>\n",
              "      <th>Peru</th>\n",
              "      <td>84.444444</td>\n",
              "      <td>15.555556</td>\n",
              "    </tr>\n",
              "    <tr>\n",
              "      <th>Sambirano</th>\n",
              "      <td>52.631579</td>\n",
              "      <td>47.368421</td>\n",
              "    </tr>\n",
              "    <tr>\n",
              "      <th>Venezuela</th>\n",
              "      <td>66.666667</td>\n",
              "      <td>33.333333</td>\n",
              "    </tr>\n",
              "  </tbody>\n",
              "</table>\n",
              "</div>"
            ],
            "text/plain": [
              "chocolate_acceptance_yn         no        yes\n",
              "Chocolate Bar Origin                         \n",
              "Chuao                    52.631579  47.368421\n",
              "Dominican Republic       75.675676  24.324324\n",
              "Ecuador                  73.809524  26.190476\n",
              "Ghana                    73.333333  26.666667\n",
              "Madagascar               50.000000  50.000000\n",
              "Ocumare                  47.058824  52.941176\n",
              "Papua New Guinea         66.666667  33.333333\n",
              "Peru                     84.444444  15.555556\n",
              "Sambirano                52.631579  47.368421\n",
              "Venezuela                66.666667  33.333333"
            ]
          },
          "execution_count": 94,
          "metadata": {},
          "output_type": "execute_result"
        }
      ],
      "source": [
        "df_top_bar_orig=df[mask_top_choc_bar]\n",
        "\n",
        "cross_tab_bar_orig = pd.crosstab(df_top_bar_orig['chocolate_acceptance_yn'],df_top_bar_orig[\"Chocolate Bar Origin\"]).apply(lambda x: x/x.sum() * 100)\n",
        "cross_tab_bar_orig = cross_tab_bar_orig.transpose()\n",
        "cross_tab_bar_orig\n"
      ]
    },
    {
      "cell_type": "code",
      "execution_count": null,
      "id": "ae118787",
      "metadata": {
        "id": "ae118787",
        "outputId": "1d5ff54c-8b68-405d-b135-f1fe793bdb2a"
      },
      "outputs": [
        {
          "data": {
            "image/png": "[encoded data removed]",
            "text/plain": [
              "<Figure size 864x432 with 1 Axes>"
            ]
          },
          "metadata": {},
          "output_type": "display_data"
        }
      ],
      "source": [
        "orig = cross_tab_bar_orig['yes'].sort_values(ascending = True).plot(kind ='barh', color = \"#2ca25f\",\n",
        "                                                                           figsize = (12,6))\n",
        "                                                                               \n",
        "plt.title('Tasa de aprobacion del chocolate')\n",
        "plt.xlabel('Tasa de aprobacion')\n",
        "plt.ylabel('Origen barra de chocolate')\n",
        "\n",
        "# Por estas funciones prefiero ggplot\n",
        "for rec, label in zip(orig.patches,\n",
        "                      cross_tab_bar_orig[\"yes\"].sort_values(ascending = True).round(1).astype(str)):\n",
        "    orig.text(rec.get_width()+0.8, \n",
        "                  rec.get_y()+ rec.get_height()-0.5, \n",
        "                  label+'%', \n",
        "                  ha = 'center', \n",
        "                  va='bottom')"
      ]
    },
    {
      "cell_type": "markdown",
      "id": "6723cd67",
      "metadata": {
        "id": "6723cd67"
      },
      "source": [
        "Las barras de chocolates con la mejor tasa de aceptación vienen de Ocumare."
      ]
    },
    {
      "cell_type": "markdown",
      "id": "b8b53b0b",
      "metadata": {
        "id": "b8b53b0b"
      },
      "source": [
        "### \"Company\""
      ]
    },
    {
      "cell_type": "code",
      "execution_count": null,
      "id": "5992e0f2",
      "metadata": {
        "id": "5992e0f2"
      },
      "outputs": [],
      "source": [
        "top_choc_company=list(df[\"Company\"].value_counts().head(10).index)\n",
        "\n",
        "mask_top_choc_company=df[\"Company\"].apply(lambda x: x in top_choc_company) \n",
        "\n"
      ]
    },
    {
      "cell_type": "code",
      "execution_count": null,
      "id": "f9fd3746",
      "metadata": {
        "id": "f9fd3746",
        "outputId": "9a80260e-e1b2-47d4-827c-c3ed8fd9e25a"
      },
      "outputs": [
        {
          "data": {
            "text/plain": [
              "Text(0.5, 1.0, 'Compañia productora del chocolate y target')"
            ]
          },
          "execution_count": 60,
          "metadata": {},
          "output_type": "execute_result"
        },
        {
          "data": {
            "image/png": "[encoded data removed]",
            "text/plain": [
              "<Figure size 648x360 with 1 Axes>"
            ]
          },
          "metadata": {},
          "output_type": "display_data"
        }
      ],
      "source": [
        "fig, ax = plt.subplots(figsize = (9, 5))\n",
        "sns.histplot(data=df[mask_top_choc_company], x=\"Company\", hue='chocolate_acceptance', binwidth=10,multiple='stack',stat=\"count\", edgecolor ='black')\n",
        "plt.setp( ax.get_xticklabels(),rotation=75)\n",
        "plt.xlabel(\"Company\") \n",
        "plt.ylabel(\"Count\")\n",
        "plt.title(\"Compañia productora del chocolate y target\")"
      ]
    },
    {
      "cell_type": "code",
      "execution_count": null,
      "id": "02d74b0d",
      "metadata": {
        "id": "02d74b0d",
        "outputId": "dc859f3a-a488-4bf9-fcb0-b5c6c381ca08"
      },
      "outputs": [
        {
          "data": {
            "text/html": [
              "<div>\n",
              "<style scoped>\n",
              "    .dataframe tbody tr th:only-of-type {\n",
              "        vertical-align: middle;\n",
              "    }\n",
              "\n",
              "    .dataframe tbody tr th {\n",
              "        vertical-align: top;\n",
              "    }\n",
              "\n",
              "    .dataframe thead th {\n",
              "        text-align: right;\n",
              "    }\n",
              "</style>\n",
              "<table border=\"1\" class=\"dataframe\">\n",
              "  <thead>\n",
              "    <tr style=\"text-align: right;\">\n",
              "      <th>chocolate_acceptance_yn</th>\n",
              "      <th>no</th>\n",
              "      <th>yes</th>\n",
              "    </tr>\n",
              "    <tr>\n",
              "      <th>Company</th>\n",
              "      <th></th>\n",
              "      <th></th>\n",
              "    </tr>\n",
              "  </thead>\n",
              "  <tbody>\n",
              "    <tr>\n",
              "      <th>A. Morin</th>\n",
              "      <td>43.478261</td>\n",
              "      <td>56.521739</td>\n",
              "    </tr>\n",
              "    <tr>\n",
              "      <th>Arete</th>\n",
              "      <td>27.272727</td>\n",
              "      <td>72.727273</td>\n",
              "    </tr>\n",
              "    <tr>\n",
              "      <th>Bonnat</th>\n",
              "      <td>37.037037</td>\n",
              "      <td>62.962963</td>\n",
              "    </tr>\n",
              "    <tr>\n",
              "      <th>Domori</th>\n",
              "      <td>36.363636</td>\n",
              "      <td>63.636364</td>\n",
              "    </tr>\n",
              "    <tr>\n",
              "      <th>Fresco</th>\n",
              "      <td>46.153846</td>\n",
              "      <td>53.846154</td>\n",
              "    </tr>\n",
              "    <tr>\n",
              "      <th>Guittard</th>\n",
              "      <td>63.636364</td>\n",
              "      <td>36.363636</td>\n",
              "    </tr>\n",
              "    <tr>\n",
              "      <th>Hotel Chocolat (Coppeneur)</th>\n",
              "      <td>84.210526</td>\n",
              "      <td>15.789474</td>\n",
              "    </tr>\n",
              "    <tr>\n",
              "      <th>Pralus</th>\n",
              "      <td>48.000000</td>\n",
              "      <td>52.000000</td>\n",
              "    </tr>\n",
              "    <tr>\n",
              "      <th>Soma</th>\n",
              "      <td>23.913043</td>\n",
              "      <td>76.086957</td>\n",
              "    </tr>\n",
              "    <tr>\n",
              "      <th>Valrhona</th>\n",
              "      <td>42.857143</td>\n",
              "      <td>57.142857</td>\n",
              "    </tr>\n",
              "  </tbody>\n",
              "</table>\n",
              "</div>"
            ],
            "text/plain": [
              "chocolate_acceptance_yn            no        yes\n",
              "Company                                         \n",
              "A. Morin                    43.478261  56.521739\n",
              "Arete                       27.272727  72.727273\n",
              "Bonnat                      37.037037  62.962963\n",
              "Domori                      36.363636  63.636364\n",
              "Fresco                      46.153846  53.846154\n",
              "Guittard                    63.636364  36.363636\n",
              "Hotel Chocolat (Coppeneur)  84.210526  15.789474\n",
              "Pralus                      48.000000  52.000000\n",
              "Soma                        23.913043  76.086957\n",
              "Valrhona                    42.857143  57.142857"
            ]
          },
          "execution_count": 96,
          "metadata": {},
          "output_type": "execute_result"
        }
      ],
      "source": [
        "df_top_choc_company=df[mask_top_choc_company]\n",
        "\n",
        "cross_tab_choc_company = pd.crosstab(df_top_choc_company['chocolate_acceptance_yn'],df_top_choc_company[\"Company\"]).apply(lambda x: x/x.sum() * 100)\n",
        "cross_tab_choc_company = cross_tab_choc_company.transpose()\n",
        "cross_tab_choc_company\n",
        "\n"
      ]
    },
    {
      "cell_type": "code",
      "execution_count": null,
      "id": "79341ff0",
      "metadata": {
        "id": "79341ff0",
        "outputId": "2f1da31c-46d8-4ad5-900e-68687d6d682e"
      },
      "outputs": [
        {
          "data": {
            "image/png": "[encoded data removed]",
            "text/plain": [
              "<Figure size 864x432 with 1 Axes>"
            ]
          },
          "metadata": {},
          "output_type": "display_data"
        }
      ],
      "source": [
        "comp = cross_tab_choc_company['yes'].sort_values(ascending = True).plot(kind ='barh', color = \"#2ca25f\",\n",
        "                                                                           figsize = (12,6))\n",
        "                                                                               \n",
        "plt.title('Tasa de aprobacion del chocolate')\n",
        "plt.xlabel('Tasa de aprobacion')\n",
        "plt.ylabel('Company')\n",
        "\n",
        "# Por estas funciones prefiero ggplot\n",
        "for rec, label in zip(comp.patches,\n",
        "                      cross_tab_choc_company[\"yes\"].sort_values(ascending = True).round(1).astype(str)):\n",
        "    comp.text(rec.get_width()+0.8, \n",
        "                  rec.get_y()+ rec.get_height()-0.5, \n",
        "                  label+'%', \n",
        "                  ha = 'center', \n",
        "                  va='bottom')"
      ]
    },
    {
      "cell_type": "markdown",
      "id": "afd2185e",
      "metadata": {
        "id": "afd2185e"
      },
      "source": [
        "La compañía Soma produce las barras de chocolate con mejor tasa de aceptacion."
      ]
    },
    {
      "cell_type": "markdown",
      "id": "f3d1e9e3",
      "metadata": {
        "id": "f3d1e9e3"
      },
      "source": [
        "## 5) Outliers"
      ]
    },
    {
      "cell_type": "code",
      "execution_count": null,
      "id": "cda90dd4",
      "metadata": {
        "id": "cda90dd4",
        "outputId": "e2ba69b2-515d-48ab-d5c2-76c3cd8b7be9"
      },
      "outputs": [
        {
          "data": {
            "text/html": [
              "<div>\n",
              "<style scoped>\n",
              "    .dataframe tbody tr th:only-of-type {\n",
              "        vertical-align: middle;\n",
              "    }\n",
              "\n",
              "    .dataframe tbody tr th {\n",
              "        vertical-align: top;\n",
              "    }\n",
              "\n",
              "    .dataframe thead th {\n",
              "        text-align: right;\n",
              "    }\n",
              "</style>\n",
              "<table border=\"1\" class=\"dataframe\">\n",
              "  <thead>\n",
              "    <tr style=\"text-align: right;\">\n",
              "      <th></th>\n",
              "      <th>REF</th>\n",
              "      <th>Review Date</th>\n",
              "      <th>Cocoa Percent</th>\n",
              "      <th>Rating</th>\n",
              "      <th>chocolate_acceptance</th>\n",
              "    </tr>\n",
              "  </thead>\n",
              "  <tbody>\n",
              "    <tr>\n",
              "      <th>0</th>\n",
              "      <td>1876</td>\n",
              "      <td>2016</td>\n",
              "      <td>0.63</td>\n",
              "      <td>3.75</td>\n",
              "      <td>1</td>\n",
              "    </tr>\n",
              "    <tr>\n",
              "      <th>1</th>\n",
              "      <td>1676</td>\n",
              "      <td>2015</td>\n",
              "      <td>0.70</td>\n",
              "      <td>2.75</td>\n",
              "      <td>0</td>\n",
              "    </tr>\n",
              "    <tr>\n",
              "      <th>2</th>\n",
              "      <td>1676</td>\n",
              "      <td>2015</td>\n",
              "      <td>0.70</td>\n",
              "      <td>3.00</td>\n",
              "      <td>0</td>\n",
              "    </tr>\n",
              "  </tbody>\n",
              "</table>\n",
              "</div>"
            ],
            "text/plain": [
              "    REF  Review Date  Cocoa Percent  Rating  chocolate_acceptance\n",
              "0  1876         2016           0.63    3.75                     1\n",
              "1  1676         2015           0.70    2.75                     0\n",
              "2  1676         2015           0.70    3.00                     0"
            ]
          },
          "execution_count": 63,
          "metadata": {},
          "output_type": "execute_result"
        }
      ],
      "source": [
        "df._get_numeric_data().head(3)\n"
      ]
    },
    {
      "cell_type": "markdown",
      "id": "7987513c",
      "metadata": {
        "id": "7987513c"
      },
      "source": [
        "Buscaremos outliers unicamente en \"Cocoa Percent\", ya que \"REF\", \"Review Date\" y \"Rating\" corresponden a variables numéricas ordinales y analizando los casos puntuales, no vemos mucha conveniencia en hacerlo. Las primeras dos, hacen referencia a momentos en el tiempo. El Rating corresponde a clasificaciones de los chocolates, variable que forma muy directamente nuestro target."
      ]
    },
    {
      "cell_type": "code",
      "execution_count": null,
      "id": "e4d9124e",
      "metadata": {
        "id": "e4d9124e",
        "outputId": "a14a6907-4fb5-4c2c-9807-73a2cca5903c"
      },
      "outputs": [
        {
          "data": {
            "image/png": "[encoded data removed]",
            "text/plain": [
              "<Figure size 1440x720 with 2 Axes>"
            ]
          },
          "metadata": {},
          "output_type": "display_data"
        }
      ],
      "source": [
        "plt.figure(figsize = (20,10))\n",
        "\n",
        "plt.subplot(1, 2, 1)\n",
        "sns.boxplot(data = df, x= 'Cocoa Percent', palette = 'pink')\n",
        "plt.title('Cocoa Percent boxplot',size=30)\n",
        "plt.xlabel('Cocoa Percent',size=30)\n",
        "\n",
        "plt.subplot(1, 2, 2)\n",
        "sns.boxplot(data = df, x= \"Rating\", palette = 'pink')\n",
        "plt.title('Rating boxplot',size=30)\n",
        "plt.xlabel('Rating',size=30)\n",
        "\n",
        "plt.tight_layout()\n",
        "plt.show()"
      ]
    },
    {
      "cell_type": "markdown",
      "id": "58acfe96",
      "metadata": {
        "id": "58acfe96"
      },
      "source": [
        "Vemos algunos outliers en ambas features. Haciendo investigación del producto (chocolate), existen efectivamente chocolates con un porcentaje de cacao menor a 50%, incluso 10% (los chocolates de leche por ejemplo, suelen tener un porcentaje muy bajo de cacao). \n",
        "\n",
        "En el lado contrario, los chocolates amargos y más \"sanos\", suelen tener sobre un 70% de cacao al menos, por consiguiente, no vemos valores que puedieran ser considerados atípicos, ya que muy normalmente le podria llegar a nuestro modelo, un chocolate a clasificar que posea un porcentaje de cacao similar a los que se presentan en el rango de la feature \"Cocoa Percent\".\n",
        "\n"
      ]
    },
    {
      "cell_type": "markdown",
      "id": "8dca7a3d",
      "metadata": {
        "id": "8dca7a3d"
      },
      "source": [
        "## 6) Modelización"
      ]
    },
    {
      "cell_type": "markdown",
      "id": "ee1cb9c7",
      "metadata": {
        "id": "ee1cb9c7"
      },
      "source": [
        "Dropeamos la columna de target \"chocolate_acceptance_yn\" (yes / no), que habiamos creado para visualizacion y nos quedamos con la binaria."
      ]
    },
    {
      "cell_type": "code",
      "execution_count": null,
      "id": "aacaa53e",
      "metadata": {
        "id": "aacaa53e"
      },
      "outputs": [],
      "source": [
        "df.drop(columns=\"chocolate_acceptance_yn\",inplace=True,axis=1)"
      ]
    },
    {
      "cell_type": "markdown",
      "id": "72be14ea",
      "metadata": {
        "id": "72be14ea"
      },
      "source": [
        "Dropeamos columna \"Rating\", que como ya hemos hablado, forma muy directamente el target. De no ser eliminada, distorcionaría nuestro modelo."
      ]
    },
    {
      "cell_type": "code",
      "execution_count": null,
      "id": "99a3765d",
      "metadata": {
        "id": "99a3765d"
      },
      "outputs": [],
      "source": [
        "df.drop(columns=\"Rating\",inplace=True,axis=1)"
      ]
    },
    {
      "cell_type": "markdown",
      "id": "16987585",
      "metadata": {
        "id": "16987585"
      },
      "source": [
        "Dropeamos columna \"review_date_datetime\", la creamos a modo exploratorio, ya no nos sirve de mucho y es redundante con \"REF\" y \"Review Date\"."
      ]
    },
    {
      "cell_type": "code",
      "execution_count": null,
      "id": "350622d2",
      "metadata": {
        "id": "350622d2"
      },
      "outputs": [],
      "source": [
        "df.drop(columns=\"review_date_datetime\",inplace=True,axis=1)"
      ]
    },
    {
      "cell_type": "code",
      "execution_count": null,
      "id": "44022b28",
      "metadata": {
        "id": "44022b28",
        "outputId": "9988b8b9-664a-447b-9f80-94ae46757d15"
      },
      "outputs": [
        {
          "data": {
            "text/plain": [
              "Index(['Company', 'Chocolate Bar Origin', 'REF', 'Review Date',\n",
              "       'Cocoa Percent', 'Company Location', 'Bean Type', 'Broad Bean Origin',\n",
              "       'chocolate_acceptance', 'cocoa_percent_range'],\n",
              "      dtype='object')"
            ]
          },
          "execution_count": 100,
          "metadata": {},
          "output_type": "execute_result"
        }
      ],
      "source": [
        "df.columns"
      ]
    },
    {
      "cell_type": "code",
      "execution_count": null,
      "id": "db76b259",
      "metadata": {
        "id": "db76b259",
        "outputId": "448d949e-98db-4968-d0a8-a273b5578580"
      },
      "outputs": [
        {
          "data": {
            "text/plain": [
              "Company                   object\n",
              "Chocolate Bar Origin      object\n",
              "REF                        int64\n",
              "Review Date                int64\n",
              "Cocoa Percent            float64\n",
              "Company Location          object\n",
              "Broad Bean Origin         object\n",
              "chocolate_acceptance       int64\n",
              "cocoa_percent_range     category\n",
              "dtype: object"
            ]
          },
          "execution_count": 69,
          "metadata": {},
          "output_type": "execute_result"
        }
      ],
      "source": [
        "df.dtypes"
      ]
    },
    {
      "cell_type": "code",
      "execution_count": null,
      "id": "55326546",
      "metadata": {
        "id": "55326546"
      },
      "outputs": [],
      "source": [
        "categorical_columns=['Company', 'Chocolate Bar Origin','Company Location', 'Broad Bean Origin','cocoa_percent_range', \"Bean Type\"]\n"
      ]
    },
    {
      "cell_type": "markdown",
      "id": "0d9a3d06",
      "metadata": {
        "id": "0d9a3d06"
      },
      "source": [
        "### Binarizacion de variables categoricas"
      ]
    },
    {
      "cell_type": "code",
      "execution_count": null,
      "id": "b36d30bf",
      "metadata": {
        "id": "b36d30bf"
      },
      "outputs": [],
      "source": [
        "df_dummies = pd.get_dummies(df, columns = categorical_columns)"
      ]
    },
    {
      "cell_type": "code",
      "execution_count": null,
      "id": "77992d83",
      "metadata": {
        "id": "77992d83",
        "outputId": "d5c022f5-806f-41eb-ab73-710e0a75a507"
      },
      "outputs": [
        {
          "name": "stdout",
          "output_type": "stream",
          "text": [
            "(1793, 1663)\n"
          ]
        },
        {
          "data": {
            "text/html": [
              "<div>\n",
              "<style scoped>\n",
              "    .dataframe tbody tr th:only-of-type {\n",
              "        vertical-align: middle;\n",
              "    }\n",
              "\n",
              "    .dataframe tbody tr th {\n",
              "        vertical-align: top;\n",
              "    }\n",
              "\n",
              "    .dataframe thead th {\n",
              "        text-align: right;\n",
              "    }\n",
              "</style>\n",
              "<table border=\"1\" class=\"dataframe\">\n",
              "  <thead>\n",
              "    <tr style=\"text-align: right;\">\n",
              "      <th></th>\n",
              "      <th>REF</th>\n",
              "      <th>Review Date</th>\n",
              "      <th>Cocoa Percent</th>\n",
              "      <th>chocolate_acceptance</th>\n",
              "      <th>Company_A. Morin</th>\n",
              "      <th>Company_AMMA</th>\n",
              "      <th>Company_Acalli</th>\n",
              "      <th>Company_Adi</th>\n",
              "      <th>Company_Aequare (Gianduja)</th>\n",
              "      <th>Company_Ah Cacao</th>\n",
              "      <th>Company_Akesson's (Pralus)</th>\n",
              "      <th>Company_Alain Ducasse</th>\n",
              "      <th>Company_Alexandre</th>\n",
              "      <th>Company_Altus aka Cao Artisan</th>\n",
              "      <th>Company_Amano</th>\n",
              "      <th>Company_Amatller (Simon Coll)</th>\n",
              "      <th>Company_Amazona</th>\n",
              "      <th>Company_Ambrosia</th>\n",
              "      <th>Company_Amedei</th>\n",
              "      <th>Company_Anahata</th>\n",
              "      <th>Company_Animas</th>\n",
              "      <th>Company_Ara</th>\n",
              "      <th>Company_Arete</th>\n",
              "      <th>Company_Artisan du Chocolat</th>\n",
              "      <th>Company_Artisan du Chocolat (Casa Luker)</th>\n",
              "      <th>Company_Askinosie</th>\n",
              "      <th>Company_Bahen &amp; Co.</th>\n",
              "      <th>Company_Bakau</th>\n",
              "      <th>Company_Bar Au Chocolat</th>\n",
              "      <th>Company_Baravelli's</th>\n",
              "      <th>Company_Batch</th>\n",
              "      <th>Company_Beau Cacao</th>\n",
              "      <th>Company_Beehive</th>\n",
              "      <th>Company_Belcolade</th>\n",
              "      <th>Company_Bellflower</th>\n",
              "      <th>Company_Belyzium</th>\n",
              "      <th>Company_Benoit Nihant</th>\n",
              "      <th>Company_Bernachon</th>\n",
              "      <th>Company_Beschle (Felchlin)</th>\n",
              "      <th>Company_Bisou</th>\n",
              "      <th>Company_Bittersweet Origins</th>\n",
              "      <th>Company_Black Mountain</th>\n",
              "      <th>Company_Black River (A. Morin)</th>\n",
              "      <th>Company_Blanxart</th>\n",
              "      <th>Company_Blue Bandana</th>\n",
              "      <th>Company_Bonnat</th>\n",
              "      <th>Company_Bouga Cacao (Tulicorp)</th>\n",
              "      <th>Company_Bowler Man</th>\n",
              "      <th>Company_Brasstown aka It's Chocolate</th>\n",
              "      <th>Company_Brazen</th>\n",
              "      <th>Company_Breeze Mill</th>\n",
              "      <th>Company_Bright</th>\n",
              "      <th>Company_Britarev</th>\n",
              "      <th>Company_Bronx Grrl Chocolate</th>\n",
              "      <th>Company_Burnt Fork Bend</th>\n",
              "      <th>Company_C-Amaro</th>\n",
              "      <th>Company_Cacao Arabuco</th>\n",
              "      <th>Company_Cacao Atlanta</th>\n",
              "      <th>Company_Cacao Barry</th>\n",
              "      <th>Company_Cacao Hunters</th>\n",
              "      <th>Company_Cacao Market</th>\n",
              "      <th>Company_Cacao Prieto</th>\n",
              "      <th>Company_Cacao Sampaka</th>\n",
              "      <th>Company_Cacao Store</th>\n",
              "      <th>Company_Cacao de Origen</th>\n",
              "      <th>Company_Cacao de Origin</th>\n",
              "      <th>Company_Cacaosuyo (Theobroma Inversiones)</th>\n",
              "      <th>Company_Cacaoyere (Ecuatoriana)</th>\n",
              "      <th>Company_Callebaut</th>\n",
              "      <th>Company_Cao</th>\n",
              "      <th>Company_Caoni (Tulicorp)</th>\n",
              "      <th>Company_Captain Pembleton</th>\n",
              "      <th>Company_Caribeans</th>\n",
              "      <th>Company_Carlotta Chocolat</th>\n",
              "      <th>Company_Castronovo</th>\n",
              "      <th>Company_Cello</th>\n",
              "      <th>Company_Cemoi</th>\n",
              "      <th>Company_Chaleur B</th>\n",
              "      <th>Company_Charm School</th>\n",
              "      <th>Company_Chchukululu (Tulicorp)</th>\n",
              "      <th>Company_Chequessett</th>\n",
              "      <th>Company_Chloe Chocolat</th>\n",
              "      <th>Company_Chocablog</th>\n",
              "      <th>Company_Choco Del Sol</th>\n",
              "      <th>Company_Choco Dong</th>\n",
              "      <th>Company_ChocoReko</th>\n",
              "      <th>Company_Chocola'te</th>\n",
              "      <th>Company_Chocolarder</th>\n",
              "      <th>Company_Chocolate Alchemist-Philly</th>\n",
              "      <th>Company_Chocolate Con Amor</th>\n",
              "      <th>Company_Chocolate Conspiracy</th>\n",
              "      <th>Company_Chocolate Makers</th>\n",
              "      <th>Company_Chocolate Tree, The</th>\n",
              "      <th>Company_Chocolats Privilege</th>\n",
              "      <th>Company_Chocosol</th>\n",
              "      <th>Company_Chocovic</th>\n",
              "      <th>Company_Chocovivo</th>\n",
              "      <th>Company_Choklat</th>\n",
              "      <th>Company_Chokolat Elot (Girard)</th>\n",
              "      <th>Company_Choocsol</th>\n",
              "      <th>Company_Christopher Morel (Felchlin)</th>\n",
              "      <th>Company_Chuao Chocolatier</th>\n",
              "      <th>Company_Chuao Chocolatier (Pralus)</th>\n",
              "      <th>Company_Claudio Corallo</th>\n",
              "      <th>Company_Cloudforest</th>\n",
              "      <th>Company_Coleman &amp; Davis</th>\n",
              "      <th>Company_Compania de Chocolate (Salgado)</th>\n",
              "      <th>Company_Condor</th>\n",
              "      <th>Company_Confluence</th>\n",
              "      <th>Company_Coppeneur</th>\n",
              "      <th>Company_Cote d' Or (Kraft)</th>\n",
              "      <th>Company_Cravve</th>\n",
              "      <th>Company_Creo</th>\n",
              "      <th>Company_DAR</th>\n",
              "      <th>Company_Daintree</th>\n",
              "      <th>Company_Dalloway</th>\n",
              "      <th>Company_Damson</th>\n",
              "      <th>Company_Dandelion</th>\n",
              "      <th>Company_Danta</th>\n",
              "      <th>Company_Dark Forest</th>\n",
              "      <th>Company_Davis</th>\n",
              "      <th>Company_De Mendes</th>\n",
              "      <th>Company_De Villiers</th>\n",
              "      <th>Company_DeVries</th>\n",
              "      <th>Company_Dean and Deluca (Belcolade)</th>\n",
              "      <th>Company_Debauve &amp; Gallais (Michel Cluizel)</th>\n",
              "      <th>Company_Desbarres</th>\n",
              "      <th>Company_Dick Taylor</th>\n",
              "      <th>Company_Doble &amp; Bignall</th>\n",
              "      <th>Company_Dole (Guittard)</th>\n",
              "      <th>Company_Dolfin (Belcolade)</th>\n",
              "      <th>Company_Domori</th>\n",
              "      <th>Company_Dormouse</th>\n",
              "      <th>Company_Duffy's</th>\n",
              "      <th>Company_Dulcinea</th>\n",
              "      <th>Company_Durand</th>\n",
              "      <th>Company_Durci</th>\n",
              "      <th>Company_ENNA</th>\n",
              "      <th>Company_East Van Roasters</th>\n",
              "      <th>Company_Eau de Rose</th>\n",
              "      <th>Company_Eclat (Felchlin)</th>\n",
              "      <th>Company_Edelmond</th>\n",
              "      <th>Company_El Ceibo</th>\n",
              "      <th>Company_El Rey</th>\n",
              "      <th>Company_Emerald Estate</th>\n",
              "      <th>Company_Emily's</th>\n",
              "      <th>Company_Enric Rovira (Claudio Corallo)</th>\n",
              "      <th>Company_Erithaj (A. Morin)</th>\n",
              "      <th>Company_Escazu</th>\n",
              "      <th>Company_Ethel's Artisan (Mars)</th>\n",
              "      <th>Company_Ethereal</th>\n",
              "      <th>Company_Fearless (AMMA)</th>\n",
              "      <th>Company_Feitoria Cacao</th>\n",
              "      <th>Company_Felchlin</th>\n",
              "      <th>Company_Finca</th>\n",
              "      <th>Company_Forever Cacao</th>\n",
              "      <th>Company_Forteza (Cortes)</th>\n",
              "      <th>Company_Fossa</th>\n",
              "      <th>Company_Franceschi</th>\n",
              "      <th>Company_Frederic Blondeel</th>\n",
              "      <th>Company_French Broad</th>\n",
              "      <th>Company_Fresco</th>\n",
              "      <th>Company_Friis Holm</th>\n",
              "      <th>Company_Friis Holm (Bonnat)</th>\n",
              "      <th>Company_Fruition</th>\n",
              "      <th>Company_Garden Island</th>\n",
              "      <th>Company_Georgia Ramon</th>\n",
              "      <th>Company_Glennmade</th>\n",
              "      <th>Company_Goodnow Farms</th>\n",
              "      <th>Company_Grand Place</th>\n",
              "      <th>Company_Green &amp; Black's (ICAM)</th>\n",
              "      <th>Company_Green Bean to Bar</th>\n",
              "      <th>Company_Grenada Chocolate Co.</th>\n",
              "      <th>Company_Guido Castagna</th>\n",
              "      <th>Company_Guittard</th>\n",
              "      <th>Company_Habitual</th>\n",
              "      <th>Company_Hachez</th>\n",
              "      <th>Company_Hacienda El Castillo</th>\n",
              "      <th>Company_Haigh</th>\n",
              "      <th>Company_Harper Macaw</th>\n",
              "      <th>Company_Heilemann</th>\n",
              "      <th>Company_Heirloom Cacao Preservation (Brasstown)</th>\n",
              "      <th>Company_Heirloom Cacao Preservation (Fruition)</th>\n",
              "      <th>Company_Heirloom Cacao Preservation (Guittard)</th>\n",
              "      <th>Company_Heirloom Cacao Preservation (Manoa)</th>\n",
              "      <th>Company_Heirloom Cacao Preservation (Millcreek)</th>\n",
              "      <th>Company_Heirloom Cacao Preservation (Mindo)</th>\n",
              "      <th>Company_Heirloom Cacao Preservation (Zokoko)</th>\n",
              "      <th>Company_Hogarth</th>\n",
              "      <th>Company_Hoja Verde (Tulicorp)</th>\n",
              "      <th>Company_Holy Cacao</th>\n",
              "      <th>Company_Honest</th>\n",
              "      <th>Company_Hotel Chocolat</th>\n",
              "      <th>Company_Hotel Chocolat (Coppeneur)</th>\n",
              "      <th>Company_Hummingbird</th>\n",
              "      <th>Company_Idilio (Felchlin)</th>\n",
              "      <th>Company_Indah</th>\n",
              "      <th>Company_Indaphoria</th>\n",
              "      <th>Company_Indi</th>\n",
              "      <th>Company_Isidro</th>\n",
              "      <th>Company_Izard</th>\n",
              "      <th>Company_Jacque Torres</th>\n",
              "      <th>Company_Jordis</th>\n",
              "      <th>Company_Just Good Chocolate</th>\n",
              "      <th>Company_K'ul</th>\n",
              "      <th>Company_Kah Kow</th>\n",
              "      <th>Company_Kakao</th>\n",
              "      <th>Company_Kallari (Ecuatoriana)</th>\n",
              "      <th>Company_Kaoka (Cemoi)</th>\n",
              "      <th>Company_Kerchner</th>\n",
              "      <th>Company_Ki' Xocolatl</th>\n",
              "      <th>Company_Kiskadee</th>\n",
              "      <th>Company_Kto</th>\n",
              "      <th>Company_Kyya</th>\n",
              "      <th>Company_L'Amourette</th>\n",
              "      <th>Company_L.A. Burdick (Felchlin)</th>\n",
              "      <th>Company_La Chocolaterie Nanairo</th>\n",
              "      <th>Company_La Maison du Chocolat (Valrhona)</th>\n",
              "      <th>Company_La Oroquidea</th>\n",
              "      <th>Company_La Pepa de Oro</th>\n",
              "      <th>Company_Laia aka Chat-Noir</th>\n",
              "      <th>Company_Lajedo do Ouro</th>\n",
              "      <th>Company_Lake Champlain (Callebaut)</th>\n",
              "      <th>Company_Letterpress</th>\n",
              "      <th>Company_Levy</th>\n",
              "      <th>Company_Lilla</th>\n",
              "      <th>Company_Lillie Belle</th>\n",
              "      <th>Company_Lindt &amp; Sprungli</th>\n",
              "      <th>Company_Loiza</th>\n",
              "      <th>Company_Lonohana</th>\n",
              "      <th>Company_Love Bar</th>\n",
              "      <th>Company_Luker</th>\n",
              "      <th>Company_Machu Picchu Trading Co.</th>\n",
              "      <th>Company_Madecasse (Cinagra)</th>\n",
              "      <th>Company_Madre</th>\n",
              "      <th>Company_Maglio</th>\n",
              "      <th>Company_Majani</th>\n",
              "      <th>Company_Malagasy (Chocolaterie Robert)</th>\n",
              "      <th>Company_Malagos</th>\n",
              "      <th>Company_Malie Kai (Guittard)</th>\n",
              "      <th>Company_Malmo</th>\n",
              "      <th>Company_Mana</th>\n",
              "      <th>Company_Manifesto Cacao</th>\n",
              "      <th>Company_Manoa</th>\n",
              "      <th>Company_Manufaktura Czekolady</th>\n",
              "      <th>Company_Map Chocolate</th>\n",
              "      <th>Company_Marana</th>\n",
              "      <th>Company_Marigold's Finest</th>\n",
              "      <th>Company_Marou</th>\n",
              "      <th>Company_Mars</th>\n",
              "      <th>...</th>\n",
              "      <th>Chocolate Bar Origin_Vale do Juliana E., Atlantic Forest</th>\n",
              "      <th>Chocolate Bar Origin_Vale do Juliana, w/ nibs</th>\n",
              "      <th>Chocolate Bar Origin_Vanua Levu</th>\n",
              "      <th>Chocolate Bar Origin_Vanua Levu, Ami-Ami-CA</th>\n",
              "      <th>Chocolate Bar Origin_Vanua Levu, Toto-A</th>\n",
              "      <th>Chocolate Bar Origin_Vanuatu</th>\n",
              "      <th>Chocolate Bar Origin_Vanuatu, batch 2410</th>\n",
              "      <th>Chocolate Bar Origin_Venezuela</th>\n",
              "      <th>Chocolate Bar Origin_Venezuela, Trinidad</th>\n",
              "      <th>Chocolate Bar Origin_Venezuela, batch 122</th>\n",
              "      <th>Chocolate Bar Origin_Venezuela; Barinos, Merida, Tachron</th>\n",
              "      <th>Chocolate Bar Origin_Venzuela</th>\n",
              "      <th>Chocolate Bar Origin_Vietnam</th>\n",
              "      <th>Chocolate Bar Origin_Vietnam, Batch 50/100</th>\n",
              "      <th>Chocolate Bar Origin_Vila Gracinda</th>\n",
              "      <th>Chocolate Bar Origin_Villa Andina</th>\n",
              "      <th>Chocolate Bar Origin_Vinces</th>\n",
              "      <th>Chocolate Bar Origin_Virunga</th>\n",
              "      <th>Chocolate Bar Origin_Waiahole, O'ahu</th>\n",
              "      <th>Chocolate Bar Origin_Wampusirpi Region</th>\n",
              "      <th>Chocolate Bar Origin_Wampusirpi, batch 007</th>\n",
              "      <th>Chocolate Bar Origin_Wasatch</th>\n",
              "      <th>Chocolate Bar Origin_West Africa</th>\n",
              "      <th>Chocolate Bar Origin_Wild Beni, Lower Rio Beni, Tranquilidad, 2014</th>\n",
              "      <th>Chocolate Bar Origin_Wild Beni, Lower Rio Beni, Tranquilidad, 2015</th>\n",
              "      <th>Chocolate Bar Origin_Wild Beniano, 2016, batch 128, Heirloom</th>\n",
              "      <th>Chocolate Bar Origin_Wild Bolivia</th>\n",
              "      <th>Chocolate Bar Origin_Wild Bolivian</th>\n",
              "      <th>Chocolate Bar Origin_Wild Bolivian, Batch 2</th>\n",
              "      <th>Chocolate Bar Origin_Wild Bolivian, Jungle Love</th>\n",
              "      <th>Chocolate Bar Origin_Wild Thing</th>\n",
              "      <th>Chocolate Bar Origin_Winak Coop, Napo</th>\n",
              "      <th>Chocolate Bar Origin_Winak, Sumaco</th>\n",
              "      <th>Chocolate Bar Origin_Xoconusco</th>\n",
              "      <th>Chocolate Bar Origin_Xoconusco, Chiapas</th>\n",
              "      <th>Chocolate Bar Origin_Xoconusco, cacao Real</th>\n",
              "      <th>Chocolate Bar Origin_Xocunusco, Chiapas, Pichucalco</th>\n",
              "      <th>Chocolate Bar Origin_Zorzal Reserva</th>\n",
              "      <th>Chocolate Bar Origin_Zorzal Reserva w/ Charles Kerchner</th>\n",
              "      <th>Chocolate Bar Origin_Zorzal Reserva, 2015 H., Kerchner</th>\n",
              "      <th>Chocolate Bar Origin_black label</th>\n",
              "      <th>Chocolate Bar Origin_la Amistad</th>\n",
              "      <th>Chocolate Bar Origin_one hundred</th>\n",
              "      <th>Chocolate Bar Origin_single estate</th>\n",
              "      <th>Chocolate Bar Origin_the lost city, gracias a dias, batch 362</th>\n",
              "      <th>Company Location_Amsterdam</th>\n",
              "      <th>Company Location_Argentina</th>\n",
              "      <th>Company Location_Australia</th>\n",
              "      <th>Company Location_Austria</th>\n",
              "      <th>Company Location_Belgium</th>\n",
              "      <th>Company Location_Bolivia</th>\n",
              "      <th>Company Location_Brazil</th>\n",
              "      <th>Company Location_Canada</th>\n",
              "      <th>Company Location_Chile</th>\n",
              "      <th>Company Location_Colombia</th>\n",
              "      <th>Company Location_Costa Rica</th>\n",
              "      <th>Company Location_Czech Republic</th>\n",
              "      <th>Company Location_Denmark</th>\n",
              "      <th>Company Location_Domincan Republic</th>\n",
              "      <th>Company Location_Ecuador</th>\n",
              "      <th>Company Location_Eucador</th>\n",
              "      <th>Company Location_Fiji</th>\n",
              "      <th>Company Location_Finland</th>\n",
              "      <th>Company Location_France</th>\n",
              "      <th>Company Location_Germany</th>\n",
              "      <th>Company Location_Ghana</th>\n",
              "      <th>Company Location_Grenada</th>\n",
              "      <th>Company Location_Guatemala</th>\n",
              "      <th>Company Location_Honduras</th>\n",
              "      <th>Company Location_Hungary</th>\n",
              "      <th>Company Location_Iceland</th>\n",
              "      <th>Company Location_India</th>\n",
              "      <th>Company Location_Ireland</th>\n",
              "      <th>Company Location_Israel</th>\n",
              "      <th>Company Location_Italy</th>\n",
              "      <th>Company Location_Japan</th>\n",
              "      <th>Company Location_Lithuania</th>\n",
              "      <th>Company Location_Madagascar</th>\n",
              "      <th>Company Location_Martinique</th>\n",
              "      <th>Company Location_Mexico</th>\n",
              "      <th>Company Location_Netherlands</th>\n",
              "      <th>Company Location_New Zealand</th>\n",
              "      <th>Company Location_Niacragua</th>\n",
              "      <th>Company Location_Nicaragua</th>\n",
              "      <th>Company Location_Peru</th>\n",
              "      <th>Company Location_Philippines</th>\n",
              "      <th>Company Location_Poland</th>\n",
              "      <th>Company Location_Portugal</th>\n",
              "      <th>Company Location_Puerto Rico</th>\n",
              "      <th>Company Location_Russia</th>\n",
              "      <th>Company Location_Sao Tome</th>\n",
              "      <th>Company Location_Scotland</th>\n",
              "      <th>Company Location_Singapore</th>\n",
              "      <th>Company Location_South Africa</th>\n",
              "      <th>Company Location_South Korea</th>\n",
              "      <th>Company Location_Spain</th>\n",
              "      <th>Company Location_St. Lucia</th>\n",
              "      <th>Company Location_Suriname</th>\n",
              "      <th>Company Location_Sweden</th>\n",
              "      <th>Company Location_Switzerland</th>\n",
              "      <th>Company Location_U.K.</th>\n",
              "      <th>Company Location_U.S.A.</th>\n",
              "      <th>Company Location_Venezuela</th>\n",
              "      <th>Company Location_Vietnam</th>\n",
              "      <th>Company Location_Wales</th>\n",
              "      <th>Broad Bean Origin_Africa, Carribean, C. Am.</th>\n",
              "      <th>Broad Bean Origin_Australia</th>\n",
              "      <th>Broad Bean Origin_Belize</th>\n",
              "      <th>Broad Bean Origin_Bolivia</th>\n",
              "      <th>Broad Bean Origin_Brazil</th>\n",
              "      <th>Broad Bean Origin_Burma</th>\n",
              "      <th>Broad Bean Origin_Cameroon</th>\n",
              "      <th>Broad Bean Origin_Carribean</th>\n",
              "      <th>Broad Bean Origin_Carribean(DR/Jam/Tri)</th>\n",
              "      <th>Broad Bean Origin_Central and S. America</th>\n",
              "      <th>Broad Bean Origin_Colombia</th>\n",
              "      <th>Broad Bean Origin_Colombia, Ecuador</th>\n",
              "      <th>Broad Bean Origin_Congo</th>\n",
              "      <th>Broad Bean Origin_Cost Rica, Ven</th>\n",
              "      <th>Broad Bean Origin_Costa Rica</th>\n",
              "      <th>Broad Bean Origin_Cuba</th>\n",
              "      <th>Broad Bean Origin_DR, Ecuador, Peru</th>\n",
              "      <th>Broad Bean Origin_Dom. Rep., Madagascar</th>\n",
              "      <th>Broad Bean Origin_Domincan Republic</th>\n",
              "      <th>Broad Bean Origin_Dominican Rep., Bali</th>\n",
              "      <th>Broad Bean Origin_Dominican Republic</th>\n",
              "      <th>Broad Bean Origin_Ecuador</th>\n",
              "      <th>Broad Bean Origin_Ecuador, Costa Rica</th>\n",
              "      <th>Broad Bean Origin_Ecuador, Mad., PNG</th>\n",
              "      <th>Broad Bean Origin_El Salvador</th>\n",
              "      <th>Broad Bean Origin_Fiji</th>\n",
              "      <th>Broad Bean Origin_Gabon</th>\n",
              "      <th>Broad Bean Origin_Ghana</th>\n",
              "      <th>Broad Bean Origin_Ghana &amp; Madagascar</th>\n",
              "      <th>Broad Bean Origin_Ghana, Domin. Rep</th>\n",
              "      <th>Broad Bean Origin_Ghana, Panama, Ecuador</th>\n",
              "      <th>Broad Bean Origin_Gre., PNG, Haw., Haiti, Mad</th>\n",
              "      <th>Broad Bean Origin_Grenada</th>\n",
              "      <th>Broad Bean Origin_Guat., D.R., Peru, Mad., PNG</th>\n",
              "      <th>Broad Bean Origin_Guatemala</th>\n",
              "      <th>Broad Bean Origin_Haiti</th>\n",
              "      <th>Broad Bean Origin_Hawaii</th>\n",
              "      <th>Broad Bean Origin_Honduras</th>\n",
              "      <th>Broad Bean Origin_India</th>\n",
              "      <th>Broad Bean Origin_Indonesia</th>\n",
              "      <th>Broad Bean Origin_Indonesia, Ghana</th>\n",
              "      <th>Broad Bean Origin_Ivory Coast</th>\n",
              "      <th>Broad Bean Origin_Jamaica</th>\n",
              "      <th>Broad Bean Origin_Liberia</th>\n",
              "      <th>Broad Bean Origin_Mad., Java, PNG</th>\n",
              "      <th>Broad Bean Origin_Madagascar</th>\n",
              "      <th>Broad Bean Origin_Madagascar &amp; Ecuador</th>\n",
              "      <th>Broad Bean Origin_Malaysia</th>\n",
              "      <th>Broad Bean Origin_Martinique</th>\n",
              "      <th>Broad Bean Origin_Mexico</th>\n",
              "      <th>Broad Bean Origin_Nicaragua</th>\n",
              "      <th>Broad Bean Origin_Nigeria</th>\n",
              "      <th>Broad Bean Origin_PNG, Vanuatu, Mad</th>\n",
              "      <th>Broad Bean Origin_Panama</th>\n",
              "      <th>Broad Bean Origin_Papua New Guinea</th>\n",
              "      <th>Broad Bean Origin_Peru</th>\n",
              "      <th>Broad Bean Origin_Peru(SMartin,Pangoa,nacional)</th>\n",
              "      <th>Broad Bean Origin_Peru, Belize</th>\n",
              "      <th>Broad Bean Origin_Peru, Dom. Rep</th>\n",
              "      <th>Broad Bean Origin_Peru, Ecuador</th>\n",
              "      <th>Broad Bean Origin_Peru, Ecuador, Venezuela</th>\n",
              "      <th>Broad Bean Origin_Peru, Mad., Dom. Rep.</th>\n",
              "      <th>Broad Bean Origin_Peru, Madagascar</th>\n",
              "      <th>Broad Bean Origin_Philippines</th>\n",
              "      <th>Broad Bean Origin_Principe</th>\n",
              "      <th>Broad Bean Origin_Puerto Rico</th>\n",
              "      <th>Broad Bean Origin_Samoa</th>\n",
              "      <th>Broad Bean Origin_Sao Tome</th>\n",
              "      <th>Broad Bean Origin_Sao Tome &amp; Principe</th>\n",
              "      <th>Broad Bean Origin_Solomon Islands</th>\n",
              "      <th>Broad Bean Origin_South America</th>\n",
              "      <th>Broad Bean Origin_South America, Africa</th>\n",
              "      <th>Broad Bean Origin_Sri Lanka</th>\n",
              "      <th>Broad Bean Origin_St. Lucia</th>\n",
              "      <th>Broad Bean Origin_Suriname</th>\n",
              "      <th>Broad Bean Origin_Tanzania</th>\n",
              "      <th>Broad Bean Origin_Tobago</th>\n",
              "      <th>Broad Bean Origin_Togo</th>\n",
              "      <th>Broad Bean Origin_Trinidad</th>\n",
              "      <th>Broad Bean Origin_Trinidad, Ecuador</th>\n",
              "      <th>Broad Bean Origin_Trinidad, Tobago</th>\n",
              "      <th>Broad Bean Origin_Trinidad-Tobago</th>\n",
              "      <th>Broad Bean Origin_Uganda</th>\n",
              "      <th>Broad Bean Origin_Vanuatu</th>\n",
              "      <th>Broad Bean Origin_Ven, Trinidad, Ecuador</th>\n",
              "      <th>Broad Bean Origin_Ven., Indonesia, Ecuad.</th>\n",
              "      <th>Broad Bean Origin_Ven., Trinidad, Mad.</th>\n",
              "      <th>Broad Bean Origin_Ven.,Ecu.,Peru,Nic.</th>\n",
              "      <th>Broad Bean Origin_Venez,Africa,Brasil,Peru,Mex</th>\n",
              "      <th>Broad Bean Origin_Venezuela</th>\n",
              "      <th>Broad Bean Origin_Venezuela, Carribean</th>\n",
              "      <th>Broad Bean Origin_Venezuela, Dom. Rep.</th>\n",
              "      <th>Broad Bean Origin_Venezuela, Ghana</th>\n",
              "      <th>Broad Bean Origin_Venezuela, Java</th>\n",
              "      <th>Broad Bean Origin_Venezuela, Trinidad</th>\n",
              "      <th>Broad Bean Origin_Venezuela/ Ghana</th>\n",
              "      <th>Broad Bean Origin_Vietnam</th>\n",
              "      <th>Broad Bean Origin_West Africa</th>\n",
              "      <th>Broad Bean Origin_unknown</th>\n",
              "      <th>cocoa_percent_range_50% and under</th>\n",
              "      <th>cocoa_percent_range_51%-60%</th>\n",
              "      <th>cocoa_percent_range_61%-70%</th>\n",
              "      <th>cocoa_percent_range_71%-80%</th>\n",
              "      <th>cocoa_percent_range_over 80%</th>\n",
              "      <th>Bean Type_Amazon</th>\n",
              "      <th>Bean Type_Amazon mix</th>\n",
              "      <th>Bean Type_Amazon, ICS</th>\n",
              "      <th>Bean Type_Beniano</th>\n",
              "      <th>Bean Type_Blend</th>\n",
              "      <th>Bean Type_Blend-Forastero,Criollo</th>\n",
              "      <th>Bean Type_CCN51</th>\n",
              "      <th>Bean Type_Criollo</th>\n",
              "      <th>Bean Type_Criollo (Amarru)</th>\n",
              "      <th>Bean Type_Criollo (Ocumare 61)</th>\n",
              "      <th>Bean Type_Criollo (Ocumare 67)</th>\n",
              "      <th>Bean Type_Criollo (Ocumare 77)</th>\n",
              "      <th>Bean Type_Criollo (Ocumare)</th>\n",
              "      <th>Bean Type_Criollo (Porcelana)</th>\n",
              "      <th>Bean Type_Criollo (Wild)</th>\n",
              "      <th>Bean Type_Criollo, +</th>\n",
              "      <th>Bean Type_Criollo, Forastero</th>\n",
              "      <th>Bean Type_Criollo, Trinitario</th>\n",
              "      <th>Bean Type_EET</th>\n",
              "      <th>Bean Type_Forastero</th>\n",
              "      <th>Bean Type_Forastero (Amelonado)</th>\n",
              "      <th>Bean Type_Forastero (Arriba)</th>\n",
              "      <th>Bean Type_Forastero (Arriba) ASS</th>\n",
              "      <th>Bean Type_Forastero (Arriba) ASSS</th>\n",
              "      <th>Bean Type_Forastero (Catongo)</th>\n",
              "      <th>Bean Type_Forastero (Nacional)</th>\n",
              "      <th>Bean Type_Forastero (Parazinho)</th>\n",
              "      <th>Bean Type_Forastero(Arriba, CCN)</th>\n",
              "      <th>Bean Type_Forastero, Trinitario</th>\n",
              "      <th>Bean Type_Matina</th>\n",
              "      <th>Bean Type_Nacional</th>\n",
              "      <th>Bean Type_Nacional (Arriba)</th>\n",
              "      <th>Bean Type_Trinitario</th>\n",
              "      <th>Bean Type_Trinitario (85% Criollo)</th>\n",
              "      <th>Bean Type_Trinitario (Amelonado)</th>\n",
              "      <th>Bean Type_Trinitario (Scavina)</th>\n",
              "      <th>Bean Type_Trinitario, Criollo</th>\n",
              "      <th>Bean Type_Trinitario, Forastero</th>\n",
              "      <th>Bean Type_Trinitario, Nacional</th>\n",
              "      <th>Bean Type_Trinitario, TCGA</th>\n",
              "      <th>Bean Type_unknown</th>\n",
              "    </tr>\n",
              "  </thead>\n",
              "  <tbody>\n",
              "    <tr>\n",
              "      <th>0</th>\n",
              "      <td>1876</td>\n",
              "      <td>2016</td>\n",
              "      <td>0.63</td>\n",
              "      <td>1</td>\n",
              "      <td>1</td>\n",
              "      <td>0</td>\n",
              "      <td>0</td>\n",
              "      <td>0</td>\n",
              "      <td>0</td>\n",
              "      <td>0</td>\n",
              "      <td>0</td>\n",
              "      <td>0</td>\n",
              "      <td>0</td>\n",
              "      <td>0</td>\n",
              "      <td>0</td>\n",
              "      <td>0</td>\n",
              "      <td>0</td>\n",
              "      <td>0</td>\n",
              "      <td>0</td>\n",
              "      <td>0</td>\n",
              "      <td>0</td>\n",
              "      <td>0</td>\n",
              "      <td>0</td>\n",
              "      <td>0</td>\n",
              "      <td>0</td>\n",
              "      <td>0</td>\n",
              "      <td>0</td>\n",
              "      <td>0</td>\n",
              "      <td>0</td>\n",
              "      <td>0</td>\n",
              "      <td>0</td>\n",
              "      <td>0</td>\n",
              "      <td>0</td>\n",
              "      <td>0</td>\n",
              "      <td>0</td>\n",
              "      <td>0</td>\n",
              "      <td>0</td>\n",
              "      <td>0</td>\n",
              "      <td>0</td>\n",
              "      <td>0</td>\n",
              "      <td>0</td>\n",
              "      <td>0</td>\n",
              "      <td>0</td>\n",
              "      <td>0</td>\n",
              "      <td>0</td>\n",
              "      <td>0</td>\n",
              "      <td>0</td>\n",
              "      <td>0</td>\n",
              "      <td>0</td>\n",
              "      <td>0</td>\n",
              "      <td>0</td>\n",
              "      <td>0</td>\n",
              "      <td>0</td>\n",
              "      <td>0</td>\n",
              "      <td>0</td>\n",
              "      <td>0</td>\n",
              "      <td>0</td>\n",
              "      <td>0</td>\n",
              "      <td>0</td>\n",
              "      <td>0</td>\n",
              "      <td>0</td>\n",
              "      <td>0</td>\n",
              "      <td>0</td>\n",
              "      <td>0</td>\n",
              "      <td>0</td>\n",
              "      <td>0</td>\n",
              "      <td>0</td>\n",
              "      <td>0</td>\n",
              "      <td>0</td>\n",
              "      <td>0</td>\n",
              "      <td>0</td>\n",
              "      <td>0</td>\n",
              "      <td>0</td>\n",
              "      <td>0</td>\n",
              "      <td>0</td>\n",
              "      <td>0</td>\n",
              "      <td>0</td>\n",
              "      <td>0</td>\n",
              "      <td>0</td>\n",
              "      <td>0</td>\n",
              "      <td>0</td>\n",
              "      <td>0</td>\n",
              "      <td>0</td>\n",
              "      <td>0</td>\n",
              "      <td>0</td>\n",
              "      <td>0</td>\n",
              "      <td>0</td>\n",
              "      <td>0</td>\n",
              "      <td>0</td>\n",
              "      <td>0</td>\n",
              "      <td>0</td>\n",
              "      <td>0</td>\n",
              "      <td>0</td>\n",
              "      <td>0</td>\n",
              "      <td>0</td>\n",
              "      <td>0</td>\n",
              "      <td>0</td>\n",
              "      <td>0</td>\n",
              "      <td>0</td>\n",
              "      <td>0</td>\n",
              "      <td>0</td>\n",
              "      <td>0</td>\n",
              "      <td>0</td>\n",
              "      <td>0</td>\n",
              "      <td>0</td>\n",
              "      <td>0</td>\n",
              "      <td>0</td>\n",
              "      <td>0</td>\n",
              "      <td>0</td>\n",
              "      <td>0</td>\n",
              "      <td>0</td>\n",
              "      <td>0</td>\n",
              "      <td>0</td>\n",
              "      <td>0</td>\n",
              "      <td>0</td>\n",
              "      <td>0</td>\n",
              "      <td>0</td>\n",
              "      <td>0</td>\n",
              "      <td>0</td>\n",
              "      <td>0</td>\n",
              "      <td>0</td>\n",
              "      <td>0</td>\n",
              "      <td>0</td>\n",
              "      <td>0</td>\n",
              "      <td>0</td>\n",
              "      <td>0</td>\n",
              "      <td>0</td>\n",
              "      <td>0</td>\n",
              "      <td>0</td>\n",
              "      <td>0</td>\n",
              "      <td>0</td>\n",
              "      <td>0</td>\n",
              "      <td>0</td>\n",
              "      <td>0</td>\n",
              "      <td>0</td>\n",
              "      <td>0</td>\n",
              "      <td>0</td>\n",
              "      <td>0</td>\n",
              "      <td>0</td>\n",
              "      <td>0</td>\n",
              "      <td>0</td>\n",
              "      <td>0</td>\n",
              "      <td>0</td>\n",
              "      <td>0</td>\n",
              "      <td>0</td>\n",
              "      <td>0</td>\n",
              "      <td>0</td>\n",
              "      <td>0</td>\n",
              "      <td>0</td>\n",
              "      <td>0</td>\n",
              "      <td>0</td>\n",
              "      <td>0</td>\n",
              "      <td>0</td>\n",
              "      <td>0</td>\n",
              "      <td>0</td>\n",
              "      <td>0</td>\n",
              "      <td>0</td>\n",
              "      <td>0</td>\n",
              "      <td>0</td>\n",
              "      <td>0</td>\n",
              "      <td>0</td>\n",
              "      <td>0</td>\n",
              "      <td>0</td>\n",
              "      <td>0</td>\n",
              "      <td>0</td>\n",
              "      <td>0</td>\n",
              "      <td>0</td>\n",
              "      <td>0</td>\n",
              "      <td>0</td>\n",
              "      <td>0</td>\n",
              "      <td>0</td>\n",
              "      <td>0</td>\n",
              "      <td>0</td>\n",
              "      <td>0</td>\n",
              "      <td>0</td>\n",
              "      <td>0</td>\n",
              "      <td>0</td>\n",
              "      <td>0</td>\n",
              "      <td>0</td>\n",
              "      <td>0</td>\n",
              "      <td>0</td>\n",
              "      <td>0</td>\n",
              "      <td>0</td>\n",
              "      <td>0</td>\n",
              "      <td>0</td>\n",
              "      <td>0</td>\n",
              "      <td>0</td>\n",
              "      <td>0</td>\n",
              "      <td>0</td>\n",
              "      <td>0</td>\n",
              "      <td>0</td>\n",
              "      <td>0</td>\n",
              "      <td>0</td>\n",
              "      <td>0</td>\n",
              "      <td>0</td>\n",
              "      <td>0</td>\n",
              "      <td>0</td>\n",
              "      <td>0</td>\n",
              "      <td>0</td>\n",
              "      <td>0</td>\n",
              "      <td>0</td>\n",
              "      <td>0</td>\n",
              "      <td>0</td>\n",
              "      <td>0</td>\n",
              "      <td>0</td>\n",
              "      <td>0</td>\n",
              "      <td>0</td>\n",
              "      <td>0</td>\n",
              "      <td>0</td>\n",
              "      <td>0</td>\n",
              "      <td>0</td>\n",
              "      <td>0</td>\n",
              "      <td>0</td>\n",
              "      <td>0</td>\n",
              "      <td>0</td>\n",
              "      <td>0</td>\n",
              "      <td>0</td>\n",
              "      <td>0</td>\n",
              "      <td>0</td>\n",
              "      <td>0</td>\n",
              "      <td>0</td>\n",
              "      <td>0</td>\n",
              "      <td>0</td>\n",
              "      <td>0</td>\n",
              "      <td>0</td>\n",
              "      <td>0</td>\n",
              "      <td>0</td>\n",
              "      <td>0</td>\n",
              "      <td>0</td>\n",
              "      <td>0</td>\n",
              "      <td>0</td>\n",
              "      <td>0</td>\n",
              "      <td>0</td>\n",
              "      <td>0</td>\n",
              "      <td>0</td>\n",
              "      <td>0</td>\n",
              "      <td>0</td>\n",
              "      <td>0</td>\n",
              "      <td>0</td>\n",
              "      <td>0</td>\n",
              "      <td>0</td>\n",
              "      <td>0</td>\n",
              "      <td>0</td>\n",
              "      <td>0</td>\n",
              "      <td>0</td>\n",
              "      <td>0</td>\n",
              "      <td>0</td>\n",
              "      <td>0</td>\n",
              "      <td>0</td>\n",
              "      <td>0</td>\n",
              "      <td>...</td>\n",
              "      <td>0</td>\n",
              "      <td>0</td>\n",
              "      <td>0</td>\n",
              "      <td>0</td>\n",
              "      <td>0</td>\n",
              "      <td>0</td>\n",
              "      <td>0</td>\n",
              "      <td>0</td>\n",
              "      <td>0</td>\n",
              "      <td>0</td>\n",
              "      <td>0</td>\n",
              "      <td>0</td>\n",
              "      <td>0</td>\n",
              "      <td>0</td>\n",
              "      <td>0</td>\n",
              "      <td>0</td>\n",
              "      <td>0</td>\n",
              "      <td>0</td>\n",
              "      <td>0</td>\n",
              "      <td>0</td>\n",
              "      <td>0</td>\n",
              "      <td>0</td>\n",
              "      <td>0</td>\n",
              "      <td>0</td>\n",
              "      <td>0</td>\n",
              "      <td>0</td>\n",
              "      <td>0</td>\n",
              "      <td>0</td>\n",
              "      <td>0</td>\n",
              "      <td>0</td>\n",
              "      <td>0</td>\n",
              "      <td>0</td>\n",
              "      <td>0</td>\n",
              "      <td>0</td>\n",
              "      <td>0</td>\n",
              "      <td>0</td>\n",
              "      <td>0</td>\n",
              "      <td>0</td>\n",
              "      <td>0</td>\n",
              "      <td>0</td>\n",
              "      <td>0</td>\n",
              "      <td>0</td>\n",
              "      <td>0</td>\n",
              "      <td>0</td>\n",
              "      <td>0</td>\n",
              "      <td>0</td>\n",
              "      <td>0</td>\n",
              "      <td>0</td>\n",
              "      <td>0</td>\n",
              "      <td>0</td>\n",
              "      <td>0</td>\n",
              "      <td>0</td>\n",
              "      <td>0</td>\n",
              "      <td>0</td>\n",
              "      <td>0</td>\n",
              "      <td>0</td>\n",
              "      <td>0</td>\n",
              "      <td>0</td>\n",
              "      <td>0</td>\n",
              "      <td>0</td>\n",
              "      <td>0</td>\n",
              "      <td>0</td>\n",
              "      <td>0</td>\n",
              "      <td>1</td>\n",
              "      <td>0</td>\n",
              "      <td>0</td>\n",
              "      <td>0</td>\n",
              "      <td>0</td>\n",
              "      <td>0</td>\n",
              "      <td>0</td>\n",
              "      <td>0</td>\n",
              "      <td>0</td>\n",
              "      <td>0</td>\n",
              "      <td>0</td>\n",
              "      <td>0</td>\n",
              "      <td>0</td>\n",
              "      <td>0</td>\n",
              "      <td>0</td>\n",
              "      <td>0</td>\n",
              "      <td>0</td>\n",
              "      <td>0</td>\n",
              "      <td>0</td>\n",
              "      <td>0</td>\n",
              "      <td>0</td>\n",
              "      <td>0</td>\n",
              "      <td>0</td>\n",
              "      <td>0</td>\n",
              "      <td>0</td>\n",
              "      <td>0</td>\n",
              "      <td>0</td>\n",
              "      <td>0</td>\n",
              "      <td>0</td>\n",
              "      <td>0</td>\n",
              "      <td>0</td>\n",
              "      <td>0</td>\n",
              "      <td>0</td>\n",
              "      <td>0</td>\n",
              "      <td>0</td>\n",
              "      <td>0</td>\n",
              "      <td>0</td>\n",
              "      <td>0</td>\n",
              "      <td>0</td>\n",
              "      <td>0</td>\n",
              "      <td>0</td>\n",
              "      <td>0</td>\n",
              "      <td>0</td>\n",
              "      <td>0</td>\n",
              "      <td>0</td>\n",
              "      <td>0</td>\n",
              "      <td>0</td>\n",
              "      <td>0</td>\n",
              "      <td>0</td>\n",
              "      <td>0</td>\n",
              "      <td>0</td>\n",
              "      <td>0</td>\n",
              "      <td>0</td>\n",
              "      <td>0</td>\n",
              "      <td>0</td>\n",
              "      <td>0</td>\n",
              "      <td>0</td>\n",
              "      <td>0</td>\n",
              "      <td>0</td>\n",
              "      <td>0</td>\n",
              "      <td>0</td>\n",
              "      <td>0</td>\n",
              "      <td>0</td>\n",
              "      <td>0</td>\n",
              "      <td>0</td>\n",
              "      <td>0</td>\n",
              "      <td>0</td>\n",
              "      <td>0</td>\n",
              "      <td>0</td>\n",
              "      <td>0</td>\n",
              "      <td>0</td>\n",
              "      <td>0</td>\n",
              "      <td>0</td>\n",
              "      <td>0</td>\n",
              "      <td>0</td>\n",
              "      <td>0</td>\n",
              "      <td>0</td>\n",
              "      <td>0</td>\n",
              "      <td>0</td>\n",
              "      <td>0</td>\n",
              "      <td>0</td>\n",
              "      <td>0</td>\n",
              "      <td>0</td>\n",
              "      <td>0</td>\n",
              "      <td>0</td>\n",
              "      <td>0</td>\n",
              "      <td>0</td>\n",
              "      <td>0</td>\n",
              "      <td>0</td>\n",
              "      <td>0</td>\n",
              "      <td>0</td>\n",
              "      <td>0</td>\n",
              "      <td>0</td>\n",
              "      <td>0</td>\n",
              "      <td>0</td>\n",
              "      <td>0</td>\n",
              "      <td>0</td>\n",
              "      <td>0</td>\n",
              "      <td>0</td>\n",
              "      <td>0</td>\n",
              "      <td>0</td>\n",
              "      <td>0</td>\n",
              "      <td>0</td>\n",
              "      <td>0</td>\n",
              "      <td>0</td>\n",
              "      <td>0</td>\n",
              "      <td>0</td>\n",
              "      <td>0</td>\n",
              "      <td>0</td>\n",
              "      <td>1</td>\n",
              "      <td>0</td>\n",
              "      <td>0</td>\n",
              "      <td>0</td>\n",
              "      <td>0</td>\n",
              "      <td>0</td>\n",
              "      <td>0</td>\n",
              "      <td>0</td>\n",
              "      <td>0</td>\n",
              "      <td>0</td>\n",
              "      <td>0</td>\n",
              "      <td>0</td>\n",
              "      <td>0</td>\n",
              "      <td>0</td>\n",
              "      <td>0</td>\n",
              "      <td>0</td>\n",
              "      <td>0</td>\n",
              "      <td>0</td>\n",
              "      <td>0</td>\n",
              "      <td>0</td>\n",
              "      <td>0</td>\n",
              "      <td>0</td>\n",
              "      <td>0</td>\n",
              "      <td>0</td>\n",
              "      <td>0</td>\n",
              "      <td>0</td>\n",
              "      <td>0</td>\n",
              "      <td>0</td>\n",
              "      <td>0</td>\n",
              "      <td>0</td>\n",
              "      <td>0</td>\n",
              "      <td>0</td>\n",
              "      <td>0</td>\n",
              "      <td>0</td>\n",
              "      <td>1</td>\n",
              "      <td>0</td>\n",
              "      <td>0</td>\n",
              "      <td>0</td>\n",
              "      <td>0</td>\n",
              "      <td>0</td>\n",
              "      <td>0</td>\n",
              "      <td>0</td>\n",
              "      <td>0</td>\n",
              "      <td>0</td>\n",
              "      <td>0</td>\n",
              "      <td>0</td>\n",
              "      <td>0</td>\n",
              "      <td>0</td>\n",
              "      <td>0</td>\n",
              "      <td>0</td>\n",
              "      <td>0</td>\n",
              "      <td>0</td>\n",
              "      <td>0</td>\n",
              "      <td>0</td>\n",
              "      <td>0</td>\n",
              "      <td>0</td>\n",
              "      <td>0</td>\n",
              "      <td>0</td>\n",
              "      <td>0</td>\n",
              "      <td>0</td>\n",
              "      <td>0</td>\n",
              "      <td>0</td>\n",
              "      <td>0</td>\n",
              "      <td>0</td>\n",
              "      <td>0</td>\n",
              "      <td>0</td>\n",
              "      <td>0</td>\n",
              "      <td>0</td>\n",
              "      <td>0</td>\n",
              "      <td>0</td>\n",
              "      <td>0</td>\n",
              "      <td>0</td>\n",
              "      <td>0</td>\n",
              "      <td>0</td>\n",
              "      <td>0</td>\n",
              "      <td>0</td>\n",
              "      <td>0</td>\n",
              "      <td>1</td>\n",
              "    </tr>\n",
              "    <tr>\n",
              "      <th>1</th>\n",
              "      <td>1676</td>\n",
              "      <td>2015</td>\n",
              "      <td>0.70</td>\n",
              "      <td>0</td>\n",
              "      <td>1</td>\n",
              "      <td>0</td>\n",
              "      <td>0</td>\n",
              "      <td>0</td>\n",
              "      <td>0</td>\n",
              "      <td>0</td>\n",
              "      <td>0</td>\n",
              "      <td>0</td>\n",
              "      <td>0</td>\n",
              "      <td>0</td>\n",
              "      <td>0</td>\n",
              "      <td>0</td>\n",
              "      <td>0</td>\n",
              "      <td>0</td>\n",
              "      <td>0</td>\n",
              "      <td>0</td>\n",
              "      <td>0</td>\n",
              "      <td>0</td>\n",
              "      <td>0</td>\n",
              "      <td>0</td>\n",
              "      <td>0</td>\n",
              "      <td>0</td>\n",
              "      <td>0</td>\n",
              "      <td>0</td>\n",
              "      <td>0</td>\n",
              "      <td>0</td>\n",
              "      <td>0</td>\n",
              "      <td>0</td>\n",
              "      <td>0</td>\n",
              "      <td>0</td>\n",
              "      <td>0</td>\n",
              "      <td>0</td>\n",
              "      <td>0</td>\n",
              "      <td>0</td>\n",
              "      <td>0</td>\n",
              "      <td>0</td>\n",
              "      <td>0</td>\n",
              "      <td>0</td>\n",
              "      <td>0</td>\n",
              "      <td>0</td>\n",
              "      <td>0</td>\n",
              "      <td>0</td>\n",
              "      <td>0</td>\n",
              "      <td>0</td>\n",
              "      <td>0</td>\n",
              "      <td>0</td>\n",
              "      <td>0</td>\n",
              "      <td>0</td>\n",
              "      <td>0</td>\n",
              "      <td>0</td>\n",
              "      <td>0</td>\n",
              "      <td>0</td>\n",
              "      <td>0</td>\n",
              "      <td>0</td>\n",
              "      <td>0</td>\n",
              "      <td>0</td>\n",
              "      <td>0</td>\n",
              "      <td>0</td>\n",
              "      <td>0</td>\n",
              "      <td>0</td>\n",
              "      <td>0</td>\n",
              "      <td>0</td>\n",
              "      <td>0</td>\n",
              "      <td>0</td>\n",
              "      <td>0</td>\n",
              "      <td>0</td>\n",
              "      <td>0</td>\n",
              "      <td>0</td>\n",
              "      <td>0</td>\n",
              "      <td>0</td>\n",
              "      <td>0</td>\n",
              "      <td>0</td>\n",
              "      <td>0</td>\n",
              "      <td>0</td>\n",
              "      <td>0</td>\n",
              "      <td>0</td>\n",
              "      <td>0</td>\n",
              "      <td>0</td>\n",
              "      <td>0</td>\n",
              "      <td>0</td>\n",
              "      <td>0</td>\n",
              "      <td>0</td>\n",
              "      <td>0</td>\n",
              "      <td>0</td>\n",
              "      <td>0</td>\n",
              "      <td>0</td>\n",
              "      <td>0</td>\n",
              "      <td>0</td>\n",
              "      <td>0</td>\n",
              "      <td>0</td>\n",
              "      <td>0</td>\n",
              "      <td>0</td>\n",
              "      <td>0</td>\n",
              "      <td>0</td>\n",
              "      <td>0</td>\n",
              "      <td>0</td>\n",
              "      <td>0</td>\n",
              "      <td>0</td>\n",
              "      <td>0</td>\n",
              "      <td>0</td>\n",
              "      <td>0</td>\n",
              "      <td>0</td>\n",
              "      <td>0</td>\n",
              "      <td>0</td>\n",
              "      <td>0</td>\n",
              "      <td>0</td>\n",
              "      <td>0</td>\n",
              "      <td>0</td>\n",
              "      <td>0</td>\n",
              "      <td>0</td>\n",
              "      <td>0</td>\n",
              "      <td>0</td>\n",
              "      <td>0</td>\n",
              "      <td>0</td>\n",
              "      <td>0</td>\n",
              "      <td>0</td>\n",
              "      <td>0</td>\n",
              "      <td>0</td>\n",
              "      <td>0</td>\n",
              "      <td>0</td>\n",
              "      <td>0</td>\n",
              "      <td>0</td>\n",
              "      <td>0</td>\n",
              "      <td>0</td>\n",
              "      <td>0</td>\n",
              "      <td>0</td>\n",
              "      <td>0</td>\n",
              "      <td>0</td>\n",
              "      <td>0</td>\n",
              "      <td>0</td>\n",
              "      <td>0</td>\n",
              "      <td>0</td>\n",
              "      <td>0</td>\n",
              "      <td>0</td>\n",
              "      <td>0</td>\n",
              "      <td>0</td>\n",
              "      <td>0</td>\n",
              "      <td>0</td>\n",
              "      <td>0</td>\n",
              "      <td>0</td>\n",
              "      <td>0</td>\n",
              "      <td>0</td>\n",
              "      <td>0</td>\n",
              "      <td>0</td>\n",
              "      <td>0</td>\n",
              "      <td>0</td>\n",
              "      <td>0</td>\n",
              "      <td>0</td>\n",
              "      <td>0</td>\n",
              "      <td>0</td>\n",
              "      <td>0</td>\n",
              "      <td>0</td>\n",
              "      <td>0</td>\n",
              "      <td>0</td>\n",
              "      <td>0</td>\n",
              "      <td>0</td>\n",
              "      <td>0</td>\n",
              "      <td>0</td>\n",
              "      <td>0</td>\n",
              "      <td>0</td>\n",
              "      <td>0</td>\n",
              "      <td>0</td>\n",
              "      <td>0</td>\n",
              "      <td>0</td>\n",
              "      <td>0</td>\n",
              "      <td>0</td>\n",
              "      <td>0</td>\n",
              "      <td>0</td>\n",
              "      <td>0</td>\n",
              "      <td>0</td>\n",
              "      <td>0</td>\n",
              "      <td>0</td>\n",
              "      <td>0</td>\n",
              "      <td>0</td>\n",
              "      <td>0</td>\n",
              "      <td>0</td>\n",
              "      <td>0</td>\n",
              "      <td>0</td>\n",
              "      <td>0</td>\n",
              "      <td>0</td>\n",
              "      <td>0</td>\n",
              "      <td>0</td>\n",
              "      <td>0</td>\n",
              "      <td>0</td>\n",
              "      <td>0</td>\n",
              "      <td>0</td>\n",
              "      <td>0</td>\n",
              "      <td>0</td>\n",
              "      <td>0</td>\n",
              "      <td>0</td>\n",
              "      <td>0</td>\n",
              "      <td>0</td>\n",
              "      <td>0</td>\n",
              "      <td>0</td>\n",
              "      <td>0</td>\n",
              "      <td>0</td>\n",
              "      <td>0</td>\n",
              "      <td>0</td>\n",
              "      <td>0</td>\n",
              "      <td>0</td>\n",
              "      <td>0</td>\n",
              "      <td>0</td>\n",
              "      <td>0</td>\n",
              "      <td>0</td>\n",
              "      <td>0</td>\n",
              "      <td>0</td>\n",
              "      <td>0</td>\n",
              "      <td>0</td>\n",
              "      <td>0</td>\n",
              "      <td>0</td>\n",
              "      <td>0</td>\n",
              "      <td>0</td>\n",
              "      <td>0</td>\n",
              "      <td>0</td>\n",
              "      <td>0</td>\n",
              "      <td>0</td>\n",
              "      <td>0</td>\n",
              "      <td>0</td>\n",
              "      <td>0</td>\n",
              "      <td>0</td>\n",
              "      <td>0</td>\n",
              "      <td>0</td>\n",
              "      <td>0</td>\n",
              "      <td>0</td>\n",
              "      <td>0</td>\n",
              "      <td>0</td>\n",
              "      <td>0</td>\n",
              "      <td>0</td>\n",
              "      <td>0</td>\n",
              "      <td>0</td>\n",
              "      <td>0</td>\n",
              "      <td>0</td>\n",
              "      <td>0</td>\n",
              "      <td>0</td>\n",
              "      <td>0</td>\n",
              "      <td>0</td>\n",
              "      <td>0</td>\n",
              "      <td>0</td>\n",
              "      <td>0</td>\n",
              "      <td>0</td>\n",
              "      <td>0</td>\n",
              "      <td>0</td>\n",
              "      <td>0</td>\n",
              "      <td>0</td>\n",
              "      <td>0</td>\n",
              "      <td>0</td>\n",
              "      <td>...</td>\n",
              "      <td>0</td>\n",
              "      <td>0</td>\n",
              "      <td>0</td>\n",
              "      <td>0</td>\n",
              "      <td>0</td>\n",
              "      <td>0</td>\n",
              "      <td>0</td>\n",
              "      <td>0</td>\n",
              "      <td>0</td>\n",
              "      <td>0</td>\n",
              "      <td>0</td>\n",
              "      <td>0</td>\n",
              "      <td>0</td>\n",
              "      <td>0</td>\n",
              "      <td>0</td>\n",
              "      <td>0</td>\n",
              "      <td>0</td>\n",
              "      <td>0</td>\n",
              "      <td>0</td>\n",
              "      <td>0</td>\n",
              "      <td>0</td>\n",
              "      <td>0</td>\n",
              "      <td>0</td>\n",
              "      <td>0</td>\n",
              "      <td>0</td>\n",
              "      <td>0</td>\n",
              "      <td>0</td>\n",
              "      <td>0</td>\n",
              "      <td>0</td>\n",
              "      <td>0</td>\n",
              "      <td>0</td>\n",
              "      <td>0</td>\n",
              "      <td>0</td>\n",
              "      <td>0</td>\n",
              "      <td>0</td>\n",
              "      <td>0</td>\n",
              "      <td>0</td>\n",
              "      <td>0</td>\n",
              "      <td>0</td>\n",
              "      <td>0</td>\n",
              "      <td>0</td>\n",
              "      <td>0</td>\n",
              "      <td>0</td>\n",
              "      <td>0</td>\n",
              "      <td>0</td>\n",
              "      <td>0</td>\n",
              "      <td>0</td>\n",
              "      <td>0</td>\n",
              "      <td>0</td>\n",
              "      <td>0</td>\n",
              "      <td>0</td>\n",
              "      <td>0</td>\n",
              "      <td>0</td>\n",
              "      <td>0</td>\n",
              "      <td>0</td>\n",
              "      <td>0</td>\n",
              "      <td>0</td>\n",
              "      <td>0</td>\n",
              "      <td>0</td>\n",
              "      <td>0</td>\n",
              "      <td>0</td>\n",
              "      <td>0</td>\n",
              "      <td>0</td>\n",
              "      <td>1</td>\n",
              "      <td>0</td>\n",
              "      <td>0</td>\n",
              "      <td>0</td>\n",
              "      <td>0</td>\n",
              "      <td>0</td>\n",
              "      <td>0</td>\n",
              "      <td>0</td>\n",
              "      <td>0</td>\n",
              "      <td>0</td>\n",
              "      <td>0</td>\n",
              "      <td>0</td>\n",
              "      <td>0</td>\n",
              "      <td>0</td>\n",
              "      <td>0</td>\n",
              "      <td>0</td>\n",
              "      <td>0</td>\n",
              "      <td>0</td>\n",
              "      <td>0</td>\n",
              "      <td>0</td>\n",
              "      <td>0</td>\n",
              "      <td>0</td>\n",
              "      <td>0</td>\n",
              "      <td>0</td>\n",
              "      <td>0</td>\n",
              "      <td>0</td>\n",
              "      <td>0</td>\n",
              "      <td>0</td>\n",
              "      <td>0</td>\n",
              "      <td>0</td>\n",
              "      <td>0</td>\n",
              "      <td>0</td>\n",
              "      <td>0</td>\n",
              "      <td>0</td>\n",
              "      <td>0</td>\n",
              "      <td>0</td>\n",
              "      <td>0</td>\n",
              "      <td>0</td>\n",
              "      <td>0</td>\n",
              "      <td>0</td>\n",
              "      <td>0</td>\n",
              "      <td>0</td>\n",
              "      <td>0</td>\n",
              "      <td>0</td>\n",
              "      <td>0</td>\n",
              "      <td>0</td>\n",
              "      <td>0</td>\n",
              "      <td>0</td>\n",
              "      <td>0</td>\n",
              "      <td>0</td>\n",
              "      <td>0</td>\n",
              "      <td>0</td>\n",
              "      <td>0</td>\n",
              "      <td>0</td>\n",
              "      <td>0</td>\n",
              "      <td>0</td>\n",
              "      <td>0</td>\n",
              "      <td>0</td>\n",
              "      <td>0</td>\n",
              "      <td>0</td>\n",
              "      <td>0</td>\n",
              "      <td>0</td>\n",
              "      <td>0</td>\n",
              "      <td>0</td>\n",
              "      <td>0</td>\n",
              "      <td>0</td>\n",
              "      <td>0</td>\n",
              "      <td>0</td>\n",
              "      <td>0</td>\n",
              "      <td>0</td>\n",
              "      <td>0</td>\n",
              "      <td>0</td>\n",
              "      <td>0</td>\n",
              "      <td>0</td>\n",
              "      <td>0</td>\n",
              "      <td>0</td>\n",
              "      <td>0</td>\n",
              "      <td>0</td>\n",
              "      <td>0</td>\n",
              "      <td>0</td>\n",
              "      <td>0</td>\n",
              "      <td>0</td>\n",
              "      <td>0</td>\n",
              "      <td>0</td>\n",
              "      <td>0</td>\n",
              "      <td>0</td>\n",
              "      <td>0</td>\n",
              "      <td>0</td>\n",
              "      <td>0</td>\n",
              "      <td>0</td>\n",
              "      <td>0</td>\n",
              "      <td>0</td>\n",
              "      <td>0</td>\n",
              "      <td>0</td>\n",
              "      <td>0</td>\n",
              "      <td>0</td>\n",
              "      <td>0</td>\n",
              "      <td>0</td>\n",
              "      <td>0</td>\n",
              "      <td>0</td>\n",
              "      <td>0</td>\n",
              "      <td>0</td>\n",
              "      <td>0</td>\n",
              "      <td>0</td>\n",
              "      <td>0</td>\n",
              "      <td>0</td>\n",
              "      <td>0</td>\n",
              "      <td>0</td>\n",
              "      <td>0</td>\n",
              "      <td>0</td>\n",
              "      <td>0</td>\n",
              "      <td>0</td>\n",
              "      <td>0</td>\n",
              "      <td>0</td>\n",
              "      <td>0</td>\n",
              "      <td>0</td>\n",
              "      <td>0</td>\n",
              "      <td>0</td>\n",
              "      <td>0</td>\n",
              "      <td>1</td>\n",
              "      <td>0</td>\n",
              "      <td>0</td>\n",
              "      <td>0</td>\n",
              "      <td>0</td>\n",
              "      <td>0</td>\n",
              "      <td>0</td>\n",
              "      <td>0</td>\n",
              "      <td>0</td>\n",
              "      <td>0</td>\n",
              "      <td>0</td>\n",
              "      <td>0</td>\n",
              "      <td>0</td>\n",
              "      <td>0</td>\n",
              "      <td>0</td>\n",
              "      <td>0</td>\n",
              "      <td>0</td>\n",
              "      <td>0</td>\n",
              "      <td>0</td>\n",
              "      <td>0</td>\n",
              "      <td>0</td>\n",
              "      <td>0</td>\n",
              "      <td>0</td>\n",
              "      <td>0</td>\n",
              "      <td>1</td>\n",
              "      <td>0</td>\n",
              "      <td>0</td>\n",
              "      <td>0</td>\n",
              "      <td>0</td>\n",
              "      <td>0</td>\n",
              "      <td>0</td>\n",
              "      <td>0</td>\n",
              "      <td>0</td>\n",
              "      <td>0</td>\n",
              "      <td>0</td>\n",
              "      <td>0</td>\n",
              "      <td>0</td>\n",
              "      <td>0</td>\n",
              "      <td>0</td>\n",
              "      <td>0</td>\n",
              "      <td>0</td>\n",
              "      <td>0</td>\n",
              "      <td>0</td>\n",
              "      <td>0</td>\n",
              "      <td>0</td>\n",
              "      <td>0</td>\n",
              "      <td>0</td>\n",
              "      <td>0</td>\n",
              "      <td>0</td>\n",
              "      <td>0</td>\n",
              "      <td>0</td>\n",
              "      <td>0</td>\n",
              "      <td>0</td>\n",
              "      <td>0</td>\n",
              "      <td>0</td>\n",
              "      <td>0</td>\n",
              "      <td>0</td>\n",
              "      <td>0</td>\n",
              "      <td>0</td>\n",
              "      <td>0</td>\n",
              "      <td>0</td>\n",
              "      <td>0</td>\n",
              "      <td>0</td>\n",
              "      <td>0</td>\n",
              "      <td>0</td>\n",
              "      <td>0</td>\n",
              "      <td>0</td>\n",
              "      <td>1</td>\n",
              "    </tr>\n",
              "  </tbody>\n",
              "</table>\n",
              "<p>2 rows × 1663 columns</p>\n",
              "</div>"
            ],
            "text/plain": [
              "    REF  Review Date  Cocoa Percent  chocolate_acceptance  Company_A. Morin  \\\n",
              "0  1876         2016           0.63                     1                 1   \n",
              "1  1676         2015           0.70                     0                 1   \n",
              "\n",
              "   Company_AMMA  Company_Acalli  Company_Adi  Company_Aequare (Gianduja)  \\\n",
              "0             0               0            0                           0   \n",
              "1             0               0            0                           0   \n",
              "\n",
              "   Company_Ah Cacao  Company_Akesson's (Pralus)  Company_Alain Ducasse  \\\n",
              "0                 0                           0                      0   \n",
              "1                 0                           0                      0   \n",
              "\n",
              "   Company_Alexandre  Company_Altus aka Cao Artisan  Company_Amano  \\\n",
              "0                  0                              0              0   \n",
              "1                  0                              0              0   \n",
              "\n",
              "   Company_Amatller (Simon Coll)  Company_Amazona  Company_Ambrosia  \\\n",
              "0                              0                0                 0   \n",
              "1                              0                0                 0   \n",
              "\n",
              "   Company_Amedei  Company_Anahata  Company_Animas  Company_Ara  \\\n",
              "0               0                0               0            0   \n",
              "1               0                0               0            0   \n",
              "\n",
              "   Company_Arete  Company_Artisan du Chocolat  \\\n",
              "0              0                            0   \n",
              "1              0                            0   \n",
              "\n",
              "   Company_Artisan du Chocolat (Casa Luker)  Company_Askinosie  \\\n",
              "0                                         0                  0   \n",
              "1                                         0                  0   \n",
              "\n",
              "   Company_Bahen & Co.  Company_Bakau  Company_Bar Au Chocolat  \\\n",
              "0                    0              0                        0   \n",
              "1                    0              0                        0   \n",
              "\n",
              "   Company_Baravelli's  Company_Batch  Company_Beau Cacao  Company_Beehive  \\\n",
              "0                    0              0                   0                0   \n",
              "1                    0              0                   0                0   \n",
              "\n",
              "   Company_Belcolade  Company_Bellflower  Company_Belyzium  \\\n",
              "0                  0                   0                 0   \n",
              "1                  0                   0                 0   \n",
              "\n",
              "   Company_Benoit Nihant  Company_Bernachon  Company_Beschle (Felchlin)  \\\n",
              "0                      0                  0                           0   \n",
              "1                      0                  0                           0   \n",
              "\n",
              "   Company_Bisou  Company_Bittersweet Origins  Company_Black Mountain  \\\n",
              "0              0                            0                       0   \n",
              "1              0                            0                       0   \n",
              "\n",
              "   Company_Black River (A. Morin)  Company_Blanxart  Company_Blue Bandana  \\\n",
              "0                               0                 0                     0   \n",
              "1                               0                 0                     0   \n",
              "\n",
              "   Company_Bonnat  Company_Bouga Cacao (Tulicorp)  Company_Bowler Man  \\\n",
              "0               0                               0                   0   \n",
              "1               0                               0                   0   \n",
              "\n",
              "   Company_Brasstown aka It's Chocolate  Company_Brazen  Company_Breeze Mill  \\\n",
              "0                                     0               0                    0   \n",
              "1                                     0               0                    0   \n",
              "\n",
              "   Company_Bright  Company_Britarev  Company_Bronx Grrl Chocolate  \\\n",
              "0               0                 0                             0   \n",
              "1               0                 0                             0   \n",
              "\n",
              "   Company_Burnt Fork Bend  Company_C-Amaro  Company_Cacao Arabuco  \\\n",
              "0                        0                0                      0   \n",
              "1                        0                0                      0   \n",
              "\n",
              "   Company_Cacao Atlanta  Company_Cacao Barry  Company_Cacao Hunters  \\\n",
              "0                      0                    0                      0   \n",
              "1                      0                    0                      0   \n",
              "\n",
              "   Company_Cacao Market  Company_Cacao Prieto  Company_Cacao Sampaka  \\\n",
              "0                     0                     0                      0   \n",
              "1                     0                     0                      0   \n",
              "\n",
              "   Company_Cacao Store  Company_Cacao de Origen  Company_Cacao de Origin  \\\n",
              "0                    0                        0                        0   \n",
              "1                    0                        0                        0   \n",
              "\n",
              "   Company_Cacaosuyo (Theobroma Inversiones)  Company_Cacaoyere (Ecuatoriana)  \\\n",
              "0                                          0                                0   \n",
              "1                                          0                                0   \n",
              "\n",
              "   Company_Callebaut  Company_Cao  Company_Caoni (Tulicorp)  \\\n",
              "0                  0            0                         0   \n",
              "1                  0            0                         0   \n",
              "\n",
              "   Company_Captain Pembleton  Company_Caribeans  Company_Carlotta Chocolat  \\\n",
              "0                          0                  0                          0   \n",
              "1                          0                  0                          0   \n",
              "\n",
              "   Company_Castronovo  Company_Cello  Company_Cemoi  Company_Chaleur B  \\\n",
              "0                   0              0              0                  0   \n",
              "1                   0              0              0                  0   \n",
              "\n",
              "   Company_Charm School  Company_Chchukululu (Tulicorp)  Company_Chequessett  \\\n",
              "0                     0                               0                    0   \n",
              "1                     0                               0                    0   \n",
              "\n",
              "   Company_Chloe Chocolat  Company_Chocablog  Company_Choco Del Sol  \\\n",
              "0                       0                  0                      0   \n",
              "1                       0                  0                      0   \n",
              "\n",
              "   Company_Choco Dong  Company_ChocoReko  Company_Chocola'te  \\\n",
              "0                   0                  0                   0   \n",
              "1                   0                  0                   0   \n",
              "\n",
              "   Company_Chocolarder  Company_Chocolate Alchemist-Philly  \\\n",
              "0                    0                                   0   \n",
              "1                    0                                   0   \n",
              "\n",
              "   Company_Chocolate Con Amor  Company_Chocolate Conspiracy  \\\n",
              "0                           0                             0   \n",
              "1                           0                             0   \n",
              "\n",
              "   Company_Chocolate Makers  Company_Chocolate Tree, The  \\\n",
              "0                         0                            0   \n",
              "1                         0                            0   \n",
              "\n",
              "   Company_Chocolats Privilege  Company_Chocosol  Company_Chocovic  \\\n",
              "0                            0                 0                 0   \n",
              "1                            0                 0                 0   \n",
              "\n",
              "   Company_Chocovivo  Company_Choklat  Company_Chokolat Elot (Girard)  \\\n",
              "0                  0                0                               0   \n",
              "1                  0                0                               0   \n",
              "\n",
              "   Company_Choocsol  Company_Christopher Morel (Felchlin)  \\\n",
              "0                 0                                     0   \n",
              "1                 0                                     0   \n",
              "\n",
              "   Company_Chuao Chocolatier  Company_Chuao Chocolatier (Pralus)  \\\n",
              "0                          0                                   0   \n",
              "1                          0                                   0   \n",
              "\n",
              "   Company_Claudio Corallo  Company_Cloudforest  Company_Coleman & Davis  \\\n",
              "0                        0                    0                        0   \n",
              "1                        0                    0                        0   \n",
              "\n",
              "   Company_Compania de Chocolate (Salgado)  Company_Condor  \\\n",
              "0                                        0               0   \n",
              "1                                        0               0   \n",
              "\n",
              "   Company_Confluence  Company_Coppeneur  Company_Cote d' Or (Kraft)  \\\n",
              "0                   0                  0                           0   \n",
              "1                   0                  0                           0   \n",
              "\n",
              "   Company_Cravve  Company_Creo  Company_DAR  Company_Daintree  \\\n",
              "0               0             0            0                 0   \n",
              "1               0             0            0                 0   \n",
              "\n",
              "   Company_Dalloway  Company_Damson  Company_Dandelion  Company_Danta  \\\n",
              "0                 0               0                  0              0   \n",
              "1                 0               0                  0              0   \n",
              "\n",
              "   Company_Dark Forest  Company_Davis  Company_De Mendes  Company_De Villiers  \\\n",
              "0                    0              0                  0                    0   \n",
              "1                    0              0                  0                    0   \n",
              "\n",
              "   Company_DeVries  Company_Dean and Deluca (Belcolade)  \\\n",
              "0                0                                    0   \n",
              "1                0                                    0   \n",
              "\n",
              "   Company_Debauve & Gallais (Michel Cluizel)  Company_Desbarres  \\\n",
              "0                                           0                  0   \n",
              "1                                           0                  0   \n",
              "\n",
              "   Company_Dick Taylor  Company_Doble & Bignall  Company_Dole (Guittard)  \\\n",
              "0                    0                        0                        0   \n",
              "1                    0                        0                        0   \n",
              "\n",
              "   Company_Dolfin (Belcolade)  Company_Domori  Company_Dormouse  \\\n",
              "0                           0               0                 0   \n",
              "1                           0               0                 0   \n",
              "\n",
              "   Company_Duffy's  Company_Dulcinea  Company_Durand  Company_Durci  \\\n",
              "0                0                 0               0              0   \n",
              "1                0                 0               0              0   \n",
              "\n",
              "   Company_ENNA  Company_East Van Roasters  Company_Eau de Rose  \\\n",
              "0             0                          0                    0   \n",
              "1             0                          0                    0   \n",
              "\n",
              "   Company_Eclat (Felchlin)  Company_Edelmond  Company_El Ceibo  \\\n",
              "0                         0                 0                 0   \n",
              "1                         0                 0                 0   \n",
              "\n",
              "   Company_El Rey  Company_Emerald Estate  Company_Emily's  \\\n",
              "0               0                       0                0   \n",
              "1               0                       0                0   \n",
              "\n",
              "   Company_Enric Rovira (Claudio Corallo)  Company_Erithaj (A. Morin)  \\\n",
              "0                                       0                           0   \n",
              "1                                       0                           0   \n",
              "\n",
              "   Company_Escazu  Company_Ethel's Artisan (Mars)  Company_Ethereal  \\\n",
              "0               0                               0                 0   \n",
              "1               0                               0                 0   \n",
              "\n",
              "   Company_Fearless (AMMA)  Company_Feitoria Cacao  Company_Felchlin  \\\n",
              "0                        0                       0                 0   \n",
              "1                        0                       0                 0   \n",
              "\n",
              "   Company_Finca  Company_Forever Cacao  Company_Forteza (Cortes)  \\\n",
              "0              0                      0                         0   \n",
              "1              0                      0                         0   \n",
              "\n",
              "   Company_Fossa  Company_Franceschi  Company_Frederic Blondeel  \\\n",
              "0              0                   0                          0   \n",
              "1              0                   0                          0   \n",
              "\n",
              "   Company_French Broad  Company_Fresco  Company_Friis Holm  \\\n",
              "0                     0               0                   0   \n",
              "1                     0               0                   0   \n",
              "\n",
              "   Company_Friis Holm (Bonnat)  Company_Fruition  Company_Garden Island  \\\n",
              "0                            0                 0                      0   \n",
              "1                            0                 0                      0   \n",
              "\n",
              "   Company_Georgia Ramon  Company_Glennmade  Company_Goodnow Farms  \\\n",
              "0                      0                  0                      0   \n",
              "1                      0                  0                      0   \n",
              "\n",
              "   Company_Grand Place  Company_Green & Black's (ICAM)  \\\n",
              "0                    0                               0   \n",
              "1                    0                               0   \n",
              "\n",
              "   Company_Green Bean to Bar  Company_Grenada Chocolate Co.  \\\n",
              "0                          0                              0   \n",
              "1                          0                              0   \n",
              "\n",
              "   Company_Guido Castagna  Company_Guittard  Company_Habitual  Company_Hachez  \\\n",
              "0                       0                 0                 0               0   \n",
              "1                       0                 0                 0               0   \n",
              "\n",
              "   Company_Hacienda El Castillo  Company_Haigh  Company_Harper Macaw  \\\n",
              "0                             0              0                     0   \n",
              "1                             0              0                     0   \n",
              "\n",
              "   Company_Heilemann  Company_Heirloom Cacao Preservation (Brasstown)  \\\n",
              "0                  0                                                0   \n",
              "1                  0                                                0   \n",
              "\n",
              "   Company_Heirloom Cacao Preservation (Fruition)  \\\n",
              "0                                               0   \n",
              "1                                               0   \n",
              "\n",
              "   Company_Heirloom Cacao Preservation (Guittard)  \\\n",
              "0                                               0   \n",
              "1                                               0   \n",
              "\n",
              "   Company_Heirloom Cacao Preservation (Manoa)  \\\n",
              "0                                            0   \n",
              "1                                            0   \n",
              "\n",
              "   Company_Heirloom Cacao Preservation (Millcreek)  \\\n",
              "0                                                0   \n",
              "1                                                0   \n",
              "\n",
              "   Company_Heirloom Cacao Preservation (Mindo)  \\\n",
              "0                                            0   \n",
              "1                                            0   \n",
              "\n",
              "   Company_Heirloom Cacao Preservation (Zokoko)  Company_Hogarth  \\\n",
              "0                                             0                0   \n",
              "1                                             0                0   \n",
              "\n",
              "   Company_Hoja Verde (Tulicorp)  Company_Holy Cacao  Company_Honest  \\\n",
              "0                              0                   0               0   \n",
              "1                              0                   0               0   \n",
              "\n",
              "   Company_Hotel Chocolat  Company_Hotel Chocolat (Coppeneur)  \\\n",
              "0                       0                                   0   \n",
              "1                       0                                   0   \n",
              "\n",
              "   Company_Hummingbird  Company_Idilio (Felchlin)  Company_Indah  \\\n",
              "0                    0                          0              0   \n",
              "1                    0                          0              0   \n",
              "\n",
              "   Company_Indaphoria  Company_Indi  Company_Isidro  Company_Izard  \\\n",
              "0                   0             0               0              0   \n",
              "1                   0             0               0              0   \n",
              "\n",
              "   Company_Jacque Torres  Company_Jordis  Company_Just Good Chocolate  \\\n",
              "0                      0               0                            0   \n",
              "1                      0               0                            0   \n",
              "\n",
              "   Company_K'ul  Company_Kah Kow  Company_Kakao  \\\n",
              "0             0                0              0   \n",
              "1             0                0              0   \n",
              "\n",
              "   Company_Kallari (Ecuatoriana)  Company_Kaoka (Cemoi)  Company_Kerchner  \\\n",
              "0                              0                      0                 0   \n",
              "1                              0                      0                 0   \n",
              "\n",
              "   Company_Ki' Xocolatl  Company_Kiskadee  Company_Kto  Company_Kyya  \\\n",
              "0                     0                 0            0             0   \n",
              "1                     0                 0            0             0   \n",
              "\n",
              "   Company_L'Amourette  Company_L.A. Burdick (Felchlin)  \\\n",
              "0                    0                                0   \n",
              "1                    0                                0   \n",
              "\n",
              "   Company_La Chocolaterie Nanairo  Company_La Maison du Chocolat (Valrhona)  \\\n",
              "0                                0                                         0   \n",
              "1                                0                                         0   \n",
              "\n",
              "   Company_La Oroquidea  Company_La Pepa de Oro  Company_Laia aka Chat-Noir  \\\n",
              "0                     0                       0                           0   \n",
              "1                     0                       0                           0   \n",
              "\n",
              "   Company_Lajedo do Ouro  Company_Lake Champlain (Callebaut)  \\\n",
              "0                       0                                   0   \n",
              "1                       0                                   0   \n",
              "\n",
              "   Company_Letterpress  Company_Levy  Company_Lilla  Company_Lillie Belle  \\\n",
              "0                    0             0              0                     0   \n",
              "1                    0             0              0                     0   \n",
              "\n",
              "   Company_Lindt & Sprungli  Company_Loiza  Company_Lonohana  \\\n",
              "0                         0              0                 0   \n",
              "1                         0              0                 0   \n",
              "\n",
              "   Company_Love Bar  Company_Luker  Company_Machu Picchu Trading Co.  \\\n",
              "0                 0              0                                 0   \n",
              "1                 0              0                                 0   \n",
              "\n",
              "   Company_Madecasse (Cinagra)  Company_Madre  Company_Maglio  Company_Majani  \\\n",
              "0                            0              0               0               0   \n",
              "1                            0              0               0               0   \n",
              "\n",
              "   Company_Malagasy (Chocolaterie Robert)  Company_Malagos  \\\n",
              "0                                       0                0   \n",
              "1                                       0                0   \n",
              "\n",
              "   Company_Malie Kai (Guittard)  Company_Malmo  Company_Mana  \\\n",
              "0                             0              0             0   \n",
              "1                             0              0             0   \n",
              "\n",
              "   Company_Manifesto Cacao  Company_Manoa  Company_Manufaktura Czekolady  \\\n",
              "0                        0              0                              0   \n",
              "1                        0              0                              0   \n",
              "\n",
              "   Company_Map Chocolate  Company_Marana  Company_Marigold's Finest  \\\n",
              "0                      0               0                          0   \n",
              "1                      0               0                          0   \n",
              "\n",
              "   Company_Marou  Company_Mars  ...  \\\n",
              "0              0             0  ...   \n",
              "1              0             0  ...   \n",
              "\n",
              "   Chocolate Bar Origin_Vale do Juliana E., Atlantic Forest  \\\n",
              "0                                                  0          \n",
              "1                                                  0          \n",
              "\n",
              "   Chocolate Bar Origin_Vale do Juliana, w/ nibs  \\\n",
              "0                                              0   \n",
              "1                                              0   \n",
              "\n",
              "   Chocolate Bar Origin_Vanua Levu  \\\n",
              "0                                0   \n",
              "1                                0   \n",
              "\n",
              "   Chocolate Bar Origin_Vanua Levu, Ami-Ami-CA  \\\n",
              "0                                            0   \n",
              "1                                            0   \n",
              "\n",
              "   Chocolate Bar Origin_Vanua Levu, Toto-A  Chocolate Bar Origin_Vanuatu  \\\n",
              "0                                        0                             0   \n",
              "1                                        0                             0   \n",
              "\n",
              "   Chocolate Bar Origin_Vanuatu, batch 2410  Chocolate Bar Origin_Venezuela  \\\n",
              "0                                         0                               0   \n",
              "1                                         0                               0   \n",
              "\n",
              "   Chocolate Bar Origin_Venezuela, Trinidad  \\\n",
              "0                                         0   \n",
              "1                                         0   \n",
              "\n",
              "   Chocolate Bar Origin_Venezuela, batch 122  \\\n",
              "0                                          0   \n",
              "1                                          0   \n",
              "\n",
              "   Chocolate Bar Origin_Venezuela; Barinos, Merida, Tachron  \\\n",
              "0                                                  0          \n",
              "1                                                  0          \n",
              "\n",
              "   Chocolate Bar Origin_Venzuela  Chocolate Bar Origin_Vietnam  \\\n",
              "0                              0                             0   \n",
              "1                              0                             0   \n",
              "\n",
              "   Chocolate Bar Origin_Vietnam, Batch 50/100  \\\n",
              "0                                           0   \n",
              "1                                           0   \n",
              "\n",
              "   Chocolate Bar Origin_Vila Gracinda  Chocolate Bar Origin_Villa Andina  \\\n",
              "0                                   0                                  0   \n",
              "1                                   0                                  0   \n",
              "\n",
              "   Chocolate Bar Origin_Vinces  Chocolate Bar Origin_Virunga  \\\n",
              "0                            0                             0   \n",
              "1                            0                             0   \n",
              "\n",
              "   Chocolate Bar Origin_Waiahole, O'ahu  \\\n",
              "0                                     0   \n",
              "1                                     0   \n",
              "\n",
              "   Chocolate Bar Origin_Wampusirpi Region  \\\n",
              "0                                       0   \n",
              "1                                       0   \n",
              "\n",
              "   Chocolate Bar Origin_Wampusirpi, batch 007  Chocolate Bar Origin_Wasatch  \\\n",
              "0                                           0                             0   \n",
              "1                                           0                             0   \n",
              "\n",
              "   Chocolate Bar Origin_West Africa  \\\n",
              "0                                 0   \n",
              "1                                 0   \n",
              "\n",
              "   Chocolate Bar Origin_Wild Beni, Lower Rio Beni, Tranquilidad, 2014  \\\n",
              "0                                                  0                    \n",
              "1                                                  0                    \n",
              "\n",
              "   Chocolate Bar Origin_Wild Beni, Lower Rio Beni, Tranquilidad, 2015  \\\n",
              "0                                                  0                    \n",
              "1                                                  0                    \n",
              "\n",
              "   Chocolate Bar Origin_Wild Beniano, 2016, batch 128, Heirloom  \\\n",
              "0                                                  0              \n",
              "1                                                  0              \n",
              "\n",
              "   Chocolate Bar Origin_Wild Bolivia  Chocolate Bar Origin_Wild Bolivian  \\\n",
              "0                                  0                                   0   \n",
              "1                                  0                                   0   \n",
              "\n",
              "   Chocolate Bar Origin_Wild Bolivian, Batch 2  \\\n",
              "0                                            0   \n",
              "1                                            0   \n",
              "\n",
              "   Chocolate Bar Origin_Wild Bolivian, Jungle Love  \\\n",
              "0                                                0   \n",
              "1                                                0   \n",
              "\n",
              "   Chocolate Bar Origin_Wild Thing  Chocolate Bar Origin_Winak Coop, Napo  \\\n",
              "0                                0                                      0   \n",
              "1                                0                                      0   \n",
              "\n",
              "   Chocolate Bar Origin_Winak, Sumaco  Chocolate Bar Origin_Xoconusco  \\\n",
              "0                                   0                               0   \n",
              "1                                   0                               0   \n",
              "\n",
              "   Chocolate Bar Origin_Xoconusco, Chiapas  \\\n",
              "0                                        0   \n",
              "1                                        0   \n",
              "\n",
              "   Chocolate Bar Origin_Xoconusco, cacao Real  \\\n",
              "0                                           0   \n",
              "1                                           0   \n",
              "\n",
              "   Chocolate Bar Origin_Xocunusco, Chiapas, Pichucalco  \\\n",
              "0                                                  0     \n",
              "1                                                  0     \n",
              "\n",
              "   Chocolate Bar Origin_Zorzal Reserva  \\\n",
              "0                                    0   \n",
              "1                                    0   \n",
              "\n",
              "   Chocolate Bar Origin_Zorzal Reserva w/ Charles Kerchner  \\\n",
              "0                                                  0         \n",
              "1                                                  0         \n",
              "\n",
              "   Chocolate Bar Origin_Zorzal Reserva, 2015 H., Kerchner  \\\n",
              "0                                                  0        \n",
              "1                                                  0        \n",
              "\n",
              "   Chocolate Bar Origin_black label  Chocolate Bar Origin_la Amistad  \\\n",
              "0                                 0                                0   \n",
              "1                                 0                                0   \n",
              "\n",
              "   Chocolate Bar Origin_one hundred  Chocolate Bar Origin_single estate  \\\n",
              "0                                 0                                   0   \n",
              "1                                 0                                   0   \n",
              "\n",
              "   Chocolate Bar Origin_the lost city, gracias a dias, batch 362  \\\n",
              "0                                                  0               \n",
              "1                                                  0               \n",
              "\n",
              "   Company Location_Amsterdam  Company Location_Argentina  \\\n",
              "0                           0                           0   \n",
              "1                           0                           0   \n",
              "\n",
              "   Company Location_Australia  Company Location_Austria  \\\n",
              "0                           0                         0   \n",
              "1                           0                         0   \n",
              "\n",
              "   Company Location_Belgium  Company Location_Bolivia  \\\n",
              "0                         0                         0   \n",
              "1                         0                         0   \n",
              "\n",
              "   Company Location_Brazil  Company Location_Canada  Company Location_Chile  \\\n",
              "0                        0                        0                       0   \n",
              "1                        0                        0                       0   \n",
              "\n",
              "   Company Location_Colombia  Company Location_Costa Rica  \\\n",
              "0                          0                            0   \n",
              "1                          0                            0   \n",
              "\n",
              "   Company Location_Czech Republic  Company Location_Denmark  \\\n",
              "0                                0                         0   \n",
              "1                                0                         0   \n",
              "\n",
              "   Company Location_Domincan Republic  Company Location_Ecuador  \\\n",
              "0                                   0                         0   \n",
              "1                                   0                         0   \n",
              "\n",
              "   Company Location_Eucador  Company Location_Fiji  Company Location_Finland  \\\n",
              "0                         0                      0                         0   \n",
              "1                         0                      0                         0   \n",
              "\n",
              "   Company Location_France  Company Location_Germany  Company Location_Ghana  \\\n",
              "0                        1                         0                       0   \n",
              "1                        1                         0                       0   \n",
              "\n",
              "   Company Location_Grenada  Company Location_Guatemala  \\\n",
              "0                         0                           0   \n",
              "1                         0                           0   \n",
              "\n",
              "   Company Location_Honduras  Company Location_Hungary  \\\n",
              "0                          0                         0   \n",
              "1                          0                         0   \n",
              "\n",
              "   Company Location_Iceland  Company Location_India  Company Location_Ireland  \\\n",
              "0                         0                       0                         0   \n",
              "1                         0                       0                         0   \n",
              "\n",
              "   Company Location_Israel  Company Location_Italy  Company Location_Japan  \\\n",
              "0                        0                       0                       0   \n",
              "1                        0                       0                       0   \n",
              "\n",
              "   Company Location_Lithuania  Company Location_Madagascar  \\\n",
              "0                           0                            0   \n",
              "1                           0                            0   \n",
              "\n",
              "   Company Location_Martinique  Company Location_Mexico  \\\n",
              "0                            0                        0   \n",
              "1                            0                        0   \n",
              "\n",
              "   Company Location_Netherlands  Company Location_New Zealand  \\\n",
              "0                             0                             0   \n",
              "1                             0                             0   \n",
              "\n",
              "   Company Location_Niacragua  Company Location_Nicaragua  \\\n",
              "0                           0                           0   \n",
              "1                           0                           0   \n",
              "\n",
              "   Company Location_Peru  Company Location_Philippines  \\\n",
              "0                      0                             0   \n",
              "1                      0                             0   \n",
              "\n",
              "   Company Location_Poland  Company Location_Portugal  \\\n",
              "0                        0                          0   \n",
              "1                        0                          0   \n",
              "\n",
              "   Company Location_Puerto Rico  Company Location_Russia  \\\n",
              "0                             0                        0   \n",
              "1                             0                        0   \n",
              "\n",
              "   Company Location_Sao Tome  Company Location_Scotland  \\\n",
              "0                          0                          0   \n",
              "1                          0                          0   \n",
              "\n",
              "   Company Location_Singapore  Company Location_South Africa  \\\n",
              "0                           0                              0   \n",
              "1                           0                              0   \n",
              "\n",
              "   Company Location_South Korea  Company Location_Spain  \\\n",
              "0                             0                       0   \n",
              "1                             0                       0   \n",
              "\n",
              "   Company Location_St. Lucia  Company Location_Suriname  \\\n",
              "0                           0                          0   \n",
              "1                           0                          0   \n",
              "\n",
              "   Company Location_Sweden  Company Location_Switzerland  \\\n",
              "0                        0                             0   \n",
              "1                        0                             0   \n",
              "\n",
              "   Company Location_U.K.  Company Location_U.S.A.  Company Location_Venezuela  \\\n",
              "0                      0                        0                           0   \n",
              "1                      0                        0                           0   \n",
              "\n",
              "   Company Location_Vietnam  Company Location_Wales  \\\n",
              "0                         0                       0   \n",
              "1                         0                       0   \n",
              "\n",
              "   Broad Bean Origin_Africa, Carribean, C. Am.  Broad Bean Origin_Australia  \\\n",
              "0                                            0                            0   \n",
              "1                                            0                            0   \n",
              "\n",
              "   Broad Bean Origin_Belize  Broad Bean Origin_Bolivia  \\\n",
              "0                         0                          0   \n",
              "1                         0                          0   \n",
              "\n",
              "   Broad Bean Origin_Brazil  Broad Bean Origin_Burma  \\\n",
              "0                         0                        0   \n",
              "1                         0                        0   \n",
              "\n",
              "   Broad Bean Origin_Cameroon  Broad Bean Origin_Carribean  \\\n",
              "0                           0                            0   \n",
              "1                           0                            0   \n",
              "\n",
              "   Broad Bean Origin_Carribean(DR/Jam/Tri)  \\\n",
              "0                                        0   \n",
              "1                                        0   \n",
              "\n",
              "   Broad Bean Origin_Central and S. America  Broad Bean Origin_Colombia  \\\n",
              "0                                         0                           0   \n",
              "1                                         0                           0   \n",
              "\n",
              "   Broad Bean Origin_Colombia, Ecuador  Broad Bean Origin_Congo  \\\n",
              "0                                    0                        0   \n",
              "1                                    0                        0   \n",
              "\n",
              "   Broad Bean Origin_Cost Rica, Ven  Broad Bean Origin_Costa Rica  \\\n",
              "0                                 0                             0   \n",
              "1                                 0                             0   \n",
              "\n",
              "   Broad Bean Origin_Cuba  Broad Bean Origin_DR, Ecuador, Peru  \\\n",
              "0                       0                                    0   \n",
              "1                       0                                    0   \n",
              "\n",
              "   Broad Bean Origin_Dom. Rep., Madagascar  \\\n",
              "0                                        0   \n",
              "1                                        0   \n",
              "\n",
              "   Broad Bean Origin_Domincan Republic  \\\n",
              "0                                    0   \n",
              "1                                    0   \n",
              "\n",
              "   Broad Bean Origin_Dominican Rep., Bali  \\\n",
              "0                                       0   \n",
              "1                                       0   \n",
              "\n",
              "   Broad Bean Origin_Dominican Republic  Broad Bean Origin_Ecuador  \\\n",
              "0                                     0                          0   \n",
              "1                                     0                          0   \n",
              "\n",
              "   Broad Bean Origin_Ecuador, Costa Rica  \\\n",
              "0                                      0   \n",
              "1                                      0   \n",
              "\n",
              "   Broad Bean Origin_Ecuador, Mad., PNG  Broad Bean Origin_El Salvador  \\\n",
              "0                                     0                              0   \n",
              "1                                     0                              0   \n",
              "\n",
              "   Broad Bean Origin_Fiji  Broad Bean Origin_Gabon  Broad Bean Origin_Ghana  \\\n",
              "0                       0                        0                        0   \n",
              "1                       0                        0                        0   \n",
              "\n",
              "   Broad Bean Origin_Ghana & Madagascar  Broad Bean Origin_Ghana, Domin. Rep  \\\n",
              "0                                     0                                    0   \n",
              "1                                     0                                    0   \n",
              "\n",
              "   Broad Bean Origin_Ghana, Panama, Ecuador  \\\n",
              "0                                         0   \n",
              "1                                         0   \n",
              "\n",
              "   Broad Bean Origin_Gre., PNG, Haw., Haiti, Mad  Broad Bean Origin_Grenada  \\\n",
              "0                                              0                          0   \n",
              "1                                              0                          0   \n",
              "\n",
              "   Broad Bean Origin_Guat., D.R., Peru, Mad., PNG  \\\n",
              "0                                               0   \n",
              "1                                               0   \n",
              "\n",
              "   Broad Bean Origin_Guatemala  Broad Bean Origin_Haiti  \\\n",
              "0                            0                        0   \n",
              "1                            0                        0   \n",
              "\n",
              "   Broad Bean Origin_Hawaii  Broad Bean Origin_Honduras  \\\n",
              "0                         0                           0   \n",
              "1                         0                           0   \n",
              "\n",
              "   Broad Bean Origin_India  Broad Bean Origin_Indonesia  \\\n",
              "0                        0                            0   \n",
              "1                        0                            0   \n",
              "\n",
              "   Broad Bean Origin_Indonesia, Ghana  Broad Bean Origin_Ivory Coast  \\\n",
              "0                                   0                              0   \n",
              "1                                   0                              0   \n",
              "\n",
              "   Broad Bean Origin_Jamaica  Broad Bean Origin_Liberia  \\\n",
              "0                          0                          0   \n",
              "1                          0                          0   \n",
              "\n",
              "   Broad Bean Origin_Mad., Java, PNG  Broad Bean Origin_Madagascar  \\\n",
              "0                                  0                             0   \n",
              "1                                  0                             0   \n",
              "\n",
              "   Broad Bean Origin_Madagascar & Ecuador  Broad Bean Origin_Malaysia  \\\n",
              "0                                       0                           0   \n",
              "1                                       0                           0   \n",
              "\n",
              "   Broad Bean Origin_Martinique  Broad Bean Origin_Mexico  \\\n",
              "0                             0                         0   \n",
              "1                             0                         0   \n",
              "\n",
              "   Broad Bean Origin_Nicaragua  Broad Bean Origin_Nigeria  \\\n",
              "0                            0                          0   \n",
              "1                            0                          0   \n",
              "\n",
              "   Broad Bean Origin_PNG, Vanuatu, Mad  Broad Bean Origin_Panama  \\\n",
              "0                                    0                         0   \n",
              "1                                    0                         0   \n",
              "\n",
              "   Broad Bean Origin_Papua New Guinea  Broad Bean Origin_Peru  \\\n",
              "0                                   0                       0   \n",
              "1                                   0                       0   \n",
              "\n",
              "   Broad Bean Origin_Peru(SMartin,Pangoa,nacional)  \\\n",
              "0                                                0   \n",
              "1                                                0   \n",
              "\n",
              "   Broad Bean Origin_Peru, Belize  Broad Bean Origin_Peru, Dom. Rep  \\\n",
              "0                               0                                 0   \n",
              "1                               0                                 0   \n",
              "\n",
              "   Broad Bean Origin_Peru, Ecuador  \\\n",
              "0                                0   \n",
              "1                                0   \n",
              "\n",
              "   Broad Bean Origin_Peru, Ecuador, Venezuela  \\\n",
              "0                                           0   \n",
              "1                                           0   \n",
              "\n",
              "   Broad Bean Origin_Peru, Mad., Dom. Rep.  \\\n",
              "0                                        0   \n",
              "1                                        0   \n",
              "\n",
              "   Broad Bean Origin_Peru, Madagascar  Broad Bean Origin_Philippines  \\\n",
              "0                                   0                              0   \n",
              "1                                   0                              0   \n",
              "\n",
              "   Broad Bean Origin_Principe  Broad Bean Origin_Puerto Rico  \\\n",
              "0                           0                              0   \n",
              "1                           0                              0   \n",
              "\n",
              "   Broad Bean Origin_Samoa  Broad Bean Origin_Sao Tome  \\\n",
              "0                        0                           1   \n",
              "1                        0                           0   \n",
              "\n",
              "   Broad Bean Origin_Sao Tome & Principe  Broad Bean Origin_Solomon Islands  \\\n",
              "0                                      0                                  0   \n",
              "1                                      0                                  0   \n",
              "\n",
              "   Broad Bean Origin_South America  Broad Bean Origin_South America, Africa  \\\n",
              "0                                0                                        0   \n",
              "1                                0                                        0   \n",
              "\n",
              "   Broad Bean Origin_Sri Lanka  Broad Bean Origin_St. Lucia  \\\n",
              "0                            0                            0   \n",
              "1                            0                            0   \n",
              "\n",
              "   Broad Bean Origin_Suriname  Broad Bean Origin_Tanzania  \\\n",
              "0                           0                           0   \n",
              "1                           0                           0   \n",
              "\n",
              "   Broad Bean Origin_Tobago  Broad Bean Origin_Togo  \\\n",
              "0                         0                       0   \n",
              "1                         0                       1   \n",
              "\n",
              "   Broad Bean Origin_Trinidad  Broad Bean Origin_Trinidad, Ecuador  \\\n",
              "0                           0                                    0   \n",
              "1                           0                                    0   \n",
              "\n",
              "   Broad Bean Origin_Trinidad, Tobago  Broad Bean Origin_Trinidad-Tobago  \\\n",
              "0                                   0                                  0   \n",
              "1                                   0                                  0   \n",
              "\n",
              "   Broad Bean Origin_Uganda  Broad Bean Origin_Vanuatu  \\\n",
              "0                         0                          0   \n",
              "1                         0                          0   \n",
              "\n",
              "   Broad Bean Origin_Ven, Trinidad, Ecuador  \\\n",
              "0                                         0   \n",
              "1                                         0   \n",
              "\n",
              "   Broad Bean Origin_Ven., Indonesia, Ecuad.  \\\n",
              "0                                          0   \n",
              "1                                          0   \n",
              "\n",
              "   Broad Bean Origin_Ven., Trinidad, Mad.  \\\n",
              "0                                       0   \n",
              "1                                       0   \n",
              "\n",
              "   Broad Bean Origin_Ven.,Ecu.,Peru,Nic.  \\\n",
              "0                                      0   \n",
              "1                                      0   \n",
              "\n",
              "   Broad Bean Origin_Venez,Africa,Brasil,Peru,Mex  \\\n",
              "0                                               0   \n",
              "1                                               0   \n",
              "\n",
              "   Broad Bean Origin_Venezuela  Broad Bean Origin_Venezuela, Carribean  \\\n",
              "0                            0                                       0   \n",
              "1                            0                                       0   \n",
              "\n",
              "   Broad Bean Origin_Venezuela, Dom. Rep.  Broad Bean Origin_Venezuela, Ghana  \\\n",
              "0                                       0                                   0   \n",
              "1                                       0                                   0   \n",
              "\n",
              "   Broad Bean Origin_Venezuela, Java  Broad Bean Origin_Venezuela, Trinidad  \\\n",
              "0                                  0                                      0   \n",
              "1                                  0                                      0   \n",
              "\n",
              "   Broad Bean Origin_Venezuela/ Ghana  Broad Bean Origin_Vietnam  \\\n",
              "0                                   0                          0   \n",
              "1                                   0                          0   \n",
              "\n",
              "   Broad Bean Origin_West Africa  Broad Bean Origin_unknown  \\\n",
              "0                              0                          0   \n",
              "1                              0                          0   \n",
              "\n",
              "   cocoa_percent_range_50% and under  cocoa_percent_range_51%-60%  \\\n",
              "0                                  0                            0   \n",
              "1                                  0                            0   \n",
              "\n",
              "   cocoa_percent_range_61%-70%  cocoa_percent_range_71%-80%  \\\n",
              "0                            1                            0   \n",
              "1                            1                            0   \n",
              "\n",
              "   cocoa_percent_range_over 80%  Bean Type_Amazon  Bean Type_Amazon mix  \\\n",
              "0                             0                 0                     0   \n",
              "1                             0                 0                     0   \n",
              "\n",
              "   Bean Type_Amazon, ICS  Bean Type_Beniano  Bean Type_Blend  \\\n",
              "0                      0                  0                0   \n",
              "1                      0                  0                0   \n",
              "\n",
              "   Bean Type_Blend-Forastero,Criollo  Bean Type_CCN51  Bean Type_Criollo  \\\n",
              "0                                  0                0                  0   \n",
              "1                                  0                0                  0   \n",
              "\n",
              "   Bean Type_Criollo (Amarru)  Bean Type_Criollo (Ocumare 61)  \\\n",
              "0                           0                               0   \n",
              "1                           0                               0   \n",
              "\n",
              "   Bean Type_Criollo (Ocumare 67)  Bean Type_Criollo (Ocumare 77)  \\\n",
              "0                               0                               0   \n",
              "1                               0                               0   \n",
              "\n",
              "   Bean Type_Criollo (Ocumare)  Bean Type_Criollo (Porcelana)  \\\n",
              "0                            0                              0   \n",
              "1                            0                              0   \n",
              "\n",
              "   Bean Type_Criollo (Wild)  Bean Type_Criollo, +  \\\n",
              "0                         0                     0   \n",
              "1                         0                     0   \n",
              "\n",
              "   Bean Type_Criollo, Forastero  Bean Type_Criollo, Trinitario  Bean Type_EET  \\\n",
              "0                             0                              0              0   \n",
              "1                             0                              0              0   \n",
              "\n",
              "   Bean Type_Forastero  Bean Type_Forastero (Amelonado)  \\\n",
              "0                    0                                0   \n",
              "1                    0                                0   \n",
              "\n",
              "   Bean Type_Forastero (Arriba)  Bean Type_Forastero (Arriba) ASS  \\\n",
              "0                             0                                 0   \n",
              "1                             0                                 0   \n",
              "\n",
              "   Bean Type_Forastero (Arriba) ASSS  Bean Type_Forastero (Catongo)  \\\n",
              "0                                  0                              0   \n",
              "1                                  0                              0   \n",
              "\n",
              "   Bean Type_Forastero (Nacional)  Bean Type_Forastero (Parazinho)  \\\n",
              "0                               0                                0   \n",
              "1                               0                                0   \n",
              "\n",
              "   Bean Type_Forastero(Arriba, CCN)  Bean Type_Forastero, Trinitario  \\\n",
              "0                                 0                                0   \n",
              "1                                 0                                0   \n",
              "\n",
              "   Bean Type_Matina  Bean Type_Nacional  Bean Type_Nacional (Arriba)  \\\n",
              "0                 0                   0                            0   \n",
              "1                 0                   0                            0   \n",
              "\n",
              "   Bean Type_Trinitario  Bean Type_Trinitario (85% Criollo)  \\\n",
              "0                     0                                   0   \n",
              "1                     0                                   0   \n",
              "\n",
              "   Bean Type_Trinitario (Amelonado)  Bean Type_Trinitario (Scavina)  \\\n",
              "0                                 0                               0   \n",
              "1                                 0                               0   \n",
              "\n",
              "   Bean Type_Trinitario, Criollo  Bean Type_Trinitario, Forastero  \\\n",
              "0                              0                                0   \n",
              "1                              0                                0   \n",
              "\n",
              "   Bean Type_Trinitario, Nacional  Bean Type_Trinitario, TCGA  \\\n",
              "0                               0                           0   \n",
              "1                               0                           0   \n",
              "\n",
              "   Bean Type_unknown  \n",
              "0                  1  \n",
              "1                  1  \n",
              "\n",
              "[2 rows x 1663 columns]"
            ]
          },
          "execution_count": 103,
          "metadata": {},
          "output_type": "execute_result"
        }
      ],
      "source": [
        "print(df_dummies.shape)\n",
        "\n",
        "df_dummies.head(2)"
      ]
    },
    {
      "cell_type": "markdown",
      "id": "1f880491",
      "metadata": {
        "id": "1f880491"
      },
      "source": [
        "### Separación en train y test"
      ]
    },
    {
      "cell_type": "code",
      "execution_count": null,
      "id": "c7bf45fb",
      "metadata": {
        "id": "c7bf45fb"
      },
      "outputs": [],
      "source": [
        "X = df_dummies.drop(['chocolate_acceptance'],axis=1)\n",
        "y= df_dummies.chocolate_acceptance"
      ]
    },
    {
      "cell_type": "code",
      "execution_count": null,
      "id": "764829a2",
      "metadata": {
        "id": "764829a2"
      },
      "outputs": [],
      "source": [
        "#Separacion en train y test de X e y\n",
        "X_train, X_test, y_train, y_test =train_test_split(X, y, random_state=14, stratify=y)"
      ]
    },
    {
      "cell_type": "code",
      "execution_count": null,
      "id": "c04e2fbc",
      "metadata": {
        "id": "c04e2fbc"
      },
      "outputs": [],
      "source": [
        "years=2006, 2007, 2008, 2009, 2010, 2011, 2012, 2013, 2014, 2015, 2016, 2017\n",
        "\n",
        "ref_cat=set(df.REF.unique())\n",
        "ref_cat=list(ref_cat)\n",
        "\n",
        "ref=ref_cat"
      ]
    },
    {
      "cell_type": "code",
      "execution_count": null,
      "id": "ceb33c99",
      "metadata": {
        "id": "ceb33c99"
      },
      "outputs": [],
      "source": [
        "enc=OrdinalEncoder(categories=[years,ref_cat])"
      ]
    },
    {
      "cell_type": "code",
      "execution_count": null,
      "id": "ab39e078",
      "metadata": {
        "id": "ab39e078",
        "outputId": "f0e4e7a7-af68-4b59-d92e-05021226a30d"
      },
      "outputs": [
        {
          "data": {
            "text/plain": [
              "OrdinalEncoder(categories=[(2006, 2007, 2008, 2009, 2010, 2011, 2012, 2013,\n",
              "                            2014, 2015, 2016, 2017),\n",
              "                           [5, 15, 24, 32, 40, 48, 56, 63, 75, 81, 87, 93, 99,\n",
              "                            105, 111, 117, 123, 129, 135, 141, 147, 153, 157,\n",
              "                            162, 166, 170, 175, 180, 184, 188, ...]])"
            ]
          },
          "execution_count": 108,
          "metadata": {},
          "output_type": "execute_result"
        }
      ],
      "source": [
        "enc.fit(X_train[[\"Review Date\",\"REF\"]])"
      ]
    },
    {
      "cell_type": "code",
      "execution_count": null,
      "id": "d14d8f3d",
      "metadata": {
        "id": "d14d8f3d"
      },
      "outputs": [],
      "source": [
        "ord_enc_cols=enc.transform(X_train[[\"Review Date\",\"REF\"]])\n"
      ]
    },
    {
      "cell_type": "code",
      "execution_count": null,
      "id": "fac84a2e",
      "metadata": {
        "id": "fac84a2e"
      },
      "outputs": [],
      "source": [
        "X_train[\"Review Date\"]=ord_enc_cols[:,0]\n",
        "X_train[\"REF\"]=ord_enc_cols[:,1]\n"
      ]
    },
    {
      "cell_type": "code",
      "execution_count": null,
      "id": "0996d0db",
      "metadata": {
        "id": "0996d0db"
      },
      "outputs": [],
      "source": [
        "ord_enc_cols=enc.transform(X_test[[\"Review Date\",\"REF\"]])\n",
        "\n",
        "X_test[\"Review Date\"]=ord_enc_cols[:,0]\n",
        "X_test[\"REF\"]=ord_enc_cols[:,1]"
      ]
    },
    {
      "cell_type": "markdown",
      "id": "bd8188c3",
      "metadata": {
        "id": "bd8188c3"
      },
      "source": [
        "### Estandarizacion de features numéricas"
      ]
    },
    {
      "cell_type": "code",
      "execution_count": null,
      "id": "db2b20fa",
      "metadata": {
        "id": "db2b20fa"
      },
      "outputs": [],
      "source": [
        "numerical_columns=['REF', 'Review Date','Cocoa Percent']\n"
      ]
    },
    {
      "cell_type": "code",
      "execution_count": null,
      "id": "731a2766",
      "metadata": {
        "id": "731a2766"
      },
      "outputs": [],
      "source": [
        "from sklearn.preprocessing import StandardScaler\n",
        "scaler=StandardScaler()"
      ]
    },
    {
      "cell_type": "code",
      "execution_count": null,
      "id": "78d8701d",
      "metadata": {
        "id": "78d8701d",
        "outputId": "daf14732-f13f-427b-d320-6ae1610d9c43"
      },
      "outputs": [
        {
          "data": {
            "text/html": [
              "<div>\n",
              "<style scoped>\n",
              "    .dataframe tbody tr th:only-of-type {\n",
              "        vertical-align: middle;\n",
              "    }\n",
              "\n",
              "    .dataframe tbody tr th {\n",
              "        vertical-align: top;\n",
              "    }\n",
              "\n",
              "    .dataframe thead th {\n",
              "        text-align: right;\n",
              "    }\n",
              "</style>\n",
              "<table border=\"1\" class=\"dataframe\">\n",
              "  <thead>\n",
              "    <tr style=\"text-align: right;\">\n",
              "      <th></th>\n",
              "      <th>REF</th>\n",
              "      <th>Review Date</th>\n",
              "      <th>Cocoa Percent</th>\n",
              "    </tr>\n",
              "  </thead>\n",
              "  <tbody>\n",
              "    <tr>\n",
              "      <th>count</th>\n",
              "      <td>1344.00</td>\n",
              "      <td>1344.00</td>\n",
              "      <td>1344.00</td>\n",
              "    </tr>\n",
              "    <tr>\n",
              "      <th>mean</th>\n",
              "      <td>-0.00</td>\n",
              "      <td>-0.00</td>\n",
              "      <td>-0.00</td>\n",
              "    </tr>\n",
              "    <tr>\n",
              "      <th>std</th>\n",
              "      <td>1.00</td>\n",
              "      <td>1.00</td>\n",
              "      <td>1.00</td>\n",
              "    </tr>\n",
              "    <tr>\n",
              "      <th>min</th>\n",
              "      <td>-1.68</td>\n",
              "      <td>-2.15</td>\n",
              "      <td>-7.00</td>\n",
              "    </tr>\n",
              "    <tr>\n",
              "      <th>25%</th>\n",
              "      <td>-0.91</td>\n",
              "      <td>-0.79</td>\n",
              "      <td>-0.07</td>\n",
              "    </tr>\n",
              "    <tr>\n",
              "      <th>50%</th>\n",
              "      <td>-0.01</td>\n",
              "      <td>0.22</td>\n",
              "      <td>-0.07</td>\n",
              "    </tr>\n",
              "    <tr>\n",
              "      <th>75%</th>\n",
              "      <td>0.87</td>\n",
              "      <td>0.90</td>\n",
              "      <td>0.50</td>\n",
              "    </tr>\n",
              "    <tr>\n",
              "      <th>max</th>\n",
              "      <td>1.71</td>\n",
              "      <td>1.58</td>\n",
              "      <td>3.27</td>\n",
              "    </tr>\n",
              "  </tbody>\n",
              "</table>\n",
              "</div>"
            ],
            "text/plain": [
              "           REF  Review Date  Cocoa Percent\n",
              "count  1344.00      1344.00        1344.00\n",
              "mean     -0.00        -0.00          -0.00\n",
              "std       1.00         1.00           1.00\n",
              "min      -1.68        -2.15          -7.00\n",
              "25%      -0.91        -0.79          -0.07\n",
              "50%      -0.01         0.22          -0.07\n",
              "75%       0.87         0.90           0.50\n",
              "max       1.71         1.58           3.27"
            ]
          },
          "execution_count": 114,
          "metadata": {},
          "output_type": "execute_result"
        }
      ],
      "source": [
        "X_train[numerical_columns] = scaler.fit_transform(X_train[numerical_columns])\n",
        "\n",
        "round(X_train[numerical_columns].describe(),2)\n",
        "\n"
      ]
    },
    {
      "cell_type": "code",
      "execution_count": null,
      "id": "78464b8a",
      "metadata": {
        "id": "78464b8a",
        "outputId": "4b168d79-9456-42e7-99b5-668abc01480f"
      },
      "outputs": [
        {
          "data": {
            "text/html": [
              "<div>\n",
              "<style scoped>\n",
              "    .dataframe tbody tr th:only-of-type {\n",
              "        vertical-align: middle;\n",
              "    }\n",
              "\n",
              "    .dataframe tbody tr th {\n",
              "        vertical-align: top;\n",
              "    }\n",
              "\n",
              "    .dataframe thead th {\n",
              "        text-align: right;\n",
              "    }\n",
              "</style>\n",
              "<table border=\"1\" class=\"dataframe\">\n",
              "  <thead>\n",
              "    <tr style=\"text-align: right;\">\n",
              "      <th></th>\n",
              "      <th>REF</th>\n",
              "      <th>Review Date</th>\n",
              "      <th>Cocoa Percent</th>\n",
              "    </tr>\n",
              "  </thead>\n",
              "  <tbody>\n",
              "    <tr>\n",
              "      <th>count</th>\n",
              "      <td>449.00</td>\n",
              "      <td>449.00</td>\n",
              "      <td>449.00</td>\n",
              "    </tr>\n",
              "    <tr>\n",
              "      <th>mean</th>\n",
              "      <td>-0.04</td>\n",
              "      <td>-0.02</td>\n",
              "      <td>0.03</td>\n",
              "    </tr>\n",
              "    <tr>\n",
              "      <th>std</th>\n",
              "      <td>0.96</td>\n",
              "      <td>0.97</td>\n",
              "      <td>0.93</td>\n",
              "    </tr>\n",
              "    <tr>\n",
              "      <th>min</th>\n",
              "      <td>-1.67</td>\n",
              "      <td>-2.15</td>\n",
              "      <td>-7.00</td>\n",
              "    </tr>\n",
              "    <tr>\n",
              "      <th>25%</th>\n",
              "      <td>-0.88</td>\n",
              "      <td>-0.79</td>\n",
              "      <td>-0.07</td>\n",
              "    </tr>\n",
              "    <tr>\n",
              "      <th>50%</th>\n",
              "      <td>0.04</td>\n",
              "      <td>0.22</td>\n",
              "      <td>-0.07</td>\n",
              "    </tr>\n",
              "    <tr>\n",
              "      <th>75%</th>\n",
              "      <td>0.75</td>\n",
              "      <td>0.90</td>\n",
              "      <td>0.50</td>\n",
              "    </tr>\n",
              "    <tr>\n",
              "      <th>max</th>\n",
              "      <td>1.70</td>\n",
              "      <td>1.58</td>\n",
              "      <td>2.35</td>\n",
              "    </tr>\n",
              "  </tbody>\n",
              "</table>\n",
              "</div>"
            ],
            "text/plain": [
              "          REF  Review Date  Cocoa Percent\n",
              "count  449.00       449.00         449.00\n",
              "mean    -0.04        -0.02           0.03\n",
              "std      0.96         0.97           0.93\n",
              "min     -1.67        -2.15          -7.00\n",
              "25%     -0.88        -0.79          -0.07\n",
              "50%      0.04         0.22          -0.07\n",
              "75%      0.75         0.90           0.50\n",
              "max      1.70         1.58           2.35"
            ]
          },
          "execution_count": 115,
          "metadata": {},
          "output_type": "execute_result"
        }
      ],
      "source": [
        "X_test[numerical_columns] = scaler.transform(X_test[numerical_columns])\n",
        "\n",
        "round(X_test[numerical_columns].describe(),2)"
      ]
    },
    {
      "cell_type": "markdown",
      "id": "63ecc8a1",
      "metadata": {
        "id": "63ecc8a1"
      },
      "source": [
        "## Random Forest"
      ]
    },
    {
      "cell_type": "code",
      "execution_count": null,
      "id": "79fd4f13",
      "metadata": {
        "id": "79fd4f13",
        "outputId": "30f73f17-919a-4588-e896-8df13b28db20"
      },
      "outputs": [
        {
          "data": {
            "text/plain": [
              "Index(['Company', 'Chocolate Bar Origin', 'REF', 'Review Date',\n",
              "       'Cocoa Percent', 'Company Location', 'Bean Type', 'Broad Bean Origin',\n",
              "       'chocolate_acceptance', 'cocoa_percent_range'],\n",
              "      dtype='object')"
            ]
          },
          "execution_count": 142,
          "metadata": {},
          "output_type": "execute_result"
        }
      ],
      "source": [
        "df.columns"
      ]
    },
    {
      "cell_type": "code",
      "execution_count": null,
      "id": "8f3dd607",
      "metadata": {
        "id": "8f3dd607"
      },
      "outputs": [],
      "source": [
        "numerical_columns = ['REF', 'Review Date',\n",
        "       'Cocoa Percent']\n",
        "\n",
        "categorical_cols = ['Company', 'Chocolate Bar Origin','Company Location', 'Bean Type', 'Broad Bean Origin',\"cocoa_percent_range\"]"
      ]
    },
    {
      "cell_type": "code",
      "execution_count": null,
      "id": "c9a88f09",
      "metadata": {
        "id": "c9a88f09"
      },
      "outputs": [],
      "source": [
        "from sklearn.ensemble import RandomForestClassifier"
      ]
    },
    {
      "cell_type": "code",
      "execution_count": null,
      "id": "beca04d6",
      "metadata": {
        "id": "beca04d6"
      },
      "outputs": [],
      "source": [
        "rf_clf = RandomForestClassifier(n_estimators=1000, n_jobs=-1 ,random_state=42)"
      ]
    },
    {
      "cell_type": "code",
      "execution_count": null,
      "id": "03e091a5",
      "metadata": {
        "id": "03e091a5",
        "outputId": "822c5378-9c06-4eba-954d-9f6f12673614"
      },
      "outputs": [
        {
          "data": {
            "text/plain": [
              "RandomForestClassifier(bootstrap=True, ccp_alpha=0.0, class_weight=None,\n",
              "                       criterion='gini', max_depth=None, max_features='auto',\n",
              "                       max_leaf_nodes=None, max_samples=None,\n",
              "                       min_impurity_decrease=0.0, min_impurity_split=None,\n",
              "                       min_samples_leaf=1, min_samples_split=2,\n",
              "                       min_weight_fraction_leaf=0.0, n_estimators=1000,\n",
              "                       n_jobs=-1, oob_score=False, random_state=42, verbose=0,\n",
              "                       warm_start=False)"
            ]
          },
          "execution_count": 161,
          "metadata": {},
          "output_type": "execute_result"
        }
      ],
      "source": [
        "rf_clf.fit(X_train, y_train)"
      ]
    },
    {
      "cell_type": "code",
      "execution_count": null,
      "id": "bc7edcdc",
      "metadata": {
        "id": "bc7edcdc"
      },
      "outputs": [],
      "source": [
        "from sklearn.metrics import f1_score"
      ]
    },
    {
      "cell_type": "code",
      "execution_count": null,
      "id": "7086b728",
      "metadata": {
        "id": "7086b728",
        "outputId": "88ed565d-5bed-4bb5-fd00-c9894b8497e2"
      },
      "outputs": [
        {
          "data": {
            "text/plain": [
              "0.6837416481069042"
            ]
          },
          "execution_count": 165,
          "metadata": {},
          "output_type": "execute_result"
        }
      ],
      "source": [
        "accuracy_score(y_test, rf_clf.predict(X_test))"
      ]
    },
    {
      "cell_type": "code",
      "execution_count": null,
      "id": "42f1e40c",
      "metadata": {
        "id": "42f1e40c",
        "outputId": "57d64441-ce9a-4004-a1d5-424e3f3326f2"
      },
      "outputs": [
        {
          "data": {
            "text/plain": [
              "array([[240,  33],\n",
              "       [109,  67]])"
            ]
          },
          "execution_count": 163,
          "metadata": {},
          "output_type": "execute_result"
        }
      ],
      "source": [
        "confusion_matrix(y_test, rf_clf.predict(X_test))"
      ]
    },
    {
      "cell_type": "markdown",
      "id": "8d660745",
      "metadata": {
        "id": "8d660745"
      },
      "source": [
        "## KNN"
      ]
    },
    {
      "cell_type": "code",
      "execution_count": null,
      "id": "ddbecc39",
      "metadata": {
        "id": "ddbecc39"
      },
      "outputs": [],
      "source": [
        "#Importamos nuestro buscador de mejores paramentros\n",
        "from sklearn.model_selection import GridSearchCV"
      ]
    },
    {
      "cell_type": "code",
      "execution_count": null,
      "id": "0fdfca43",
      "metadata": {
        "id": "0fdfca43"
      },
      "outputs": [],
      "source": [
        "#Empezamos probando con KNN\n",
        "knn = KNeighborsClassifier()"
      ]
    },
    {
      "cell_type": "code",
      "execution_count": null,
      "id": "7d657b8a",
      "metadata": {
        "id": "7d657b8a",
        "outputId": "fedb37f1-f710-4bcd-f883-c6f8e8a91f97"
      },
      "outputs": [
        {
          "name": "stdout",
          "output_type": "stream",
          "text": [
            "{'n_neighbors': [1, 2, 3, 4, 5, 6, 7, 8, 9, 10, 11, 12, 13, 14, 15, 16, 17, 18, 19, 20, 21, 22, 23, 24, 25, 26, 27, 28, 29, 30], 'weights': ['uniform', 'distance']}\n"
          ]
        }
      ],
      "source": [
        "#Se asignan los parametros que se quieren probar\n",
        "k_range = list(range(1, 31))\n",
        "weight_options = ['uniform', 'distance']\n",
        "\n",
        "param_grid = dict(n_neighbors=k_range, weights=weight_options)\n",
        "print(param_grid)"
      ]
    },
    {
      "cell_type": "code",
      "execution_count": null,
      "id": "ef1b7ad1",
      "metadata": {
        "id": "ef1b7ad1"
      },
      "outputs": [],
      "source": [
        "#Import de la herramienta de cross validation\n",
        "from sklearn.model_selection import StratifiedKFold"
      ]
    },
    {
      "cell_type": "code",
      "execution_count": null,
      "id": "14f2c478",
      "metadata": {
        "id": "14f2c478"
      },
      "outputs": [],
      "source": [
        "#Se instancia el grid search con todos los parametros y el CV\n",
        "folds=StratifiedKFold(n_splits=10, random_state=19, shuffle=True)\n",
        "grid = GridSearchCV(knn, param_grid, cv=folds, scoring=\"accuracy\")"
      ]
    },
    {
      "cell_type": "code",
      "execution_count": null,
      "id": "45a4adc3",
      "metadata": {
        "id": "45a4adc3",
        "outputId": "1aac7f4d-9175-4513-8b8d-eaaada093bd8"
      },
      "outputs": [
        {
          "data": {
            "text/plain": [
              "GridSearchCV(cv=StratifiedKFold(n_splits=10, random_state=19, shuffle=True),\n",
              "             estimator=KNeighborsClassifier(),\n",
              "             param_grid={'n_neighbors': [1, 2, 3, 4, 5, 6, 7, 8, 9, 10, 11, 12,\n",
              "                                         13, 14, 15, 16, 17, 18, 19, 20, 21, 22,\n",
              "                                         23, 24, 25, 26, 27, 28, 29, 30],\n",
              "                         'weights': ['uniform', 'distance']},\n",
              "             scoring='accuracy')"
            ]
          },
          "execution_count": 139,
          "metadata": {},
          "output_type": "execute_result"
        }
      ],
      "source": [
        "#Se entrena al modelo con los X e y train\n",
        "grid.fit(X_train, y_train)"
      ]
    },
    {
      "cell_type": "code",
      "execution_count": null,
      "id": "e8a15edb",
      "metadata": {
        "id": "e8a15edb",
        "outputId": "b7289861-e0b7-4861-82a8-9e8b9e041dea"
      },
      "outputs": [
        {
          "name": "stdout",
          "output_type": "stream",
          "text": [
            "Mejores hyperparametros: {'n_neighbors': 6, 'weights': 'distance'}\n",
            "Mejor score: 0.6426356589147287\n",
            "Mejor estimador: KNeighborsClassifier(n_neighbors=6, weights='distance')\n"
          ]
        }
      ],
      "source": [
        "#Observamos como le fue al modelo\n",
        "print(\"Mejores hyperparametros:\", grid.best_params_)\n",
        "print(\"Mejor score:\", grid.best_score_)\n",
        "print(\"Mejor estimador:\", grid.best_estimator_)"
      ]
    },
    {
      "cell_type": "markdown",
      "id": "d437dbca",
      "metadata": {
        "id": "d437dbca"
      },
      "source": [
        "## Regresión Logística"
      ]
    },
    {
      "cell_type": "code",
      "execution_count": null,
      "id": "fe00e479",
      "metadata": {
        "id": "fe00e479"
      },
      "outputs": [],
      "source": [
        "#Probamos con Logistic Regression\n",
        "from sklearn.linear_model import LogisticRegression"
      ]
    },
    {
      "cell_type": "code",
      "execution_count": null,
      "id": "92386035",
      "metadata": {
        "id": "92386035",
        "outputId": "27bb90f6-abe9-49e1-fbfb-aa0502e7f2d9"
      },
      "outputs": [
        {
          "data": {
            "text/plain": [
              "{'C': [0.1, 0.5, 1, 10, 100, 1000], 'penalty': ['l2'], 'solver': ['lbfgs']}"
            ]
          },
          "execution_count": 142,
          "metadata": {},
          "output_type": "execute_result"
        }
      ],
      "source": [
        "#Ponemos los parametros para que busque al mejor\n",
        "lr = LogisticRegression()\n",
        "\n",
        "c_option = [0.1, 0.5, 1, 10, 100, 1000]\n",
        "penalty_option = [\"l2\"]\n",
        "solver_option = [\"lbfgs\"]\n",
        "\n",
        "param_lr = dict(C=c_option, penalty=penalty_option, solver=solver_option)\n",
        "param_lr"
      ]
    },
    {
      "cell_type": "code",
      "execution_count": null,
      "id": "22b0bad5",
      "metadata": {
        "id": "22b0bad5"
      },
      "outputs": [],
      "source": [
        "grid_lr = GridSearchCV(lr, param_grid=param_lr, cv=folds, scoring=\"accuracy\")"
      ]
    },
    {
      "cell_type": "code",
      "execution_count": null,
      "id": "a4a96446",
      "metadata": {
        "id": "a4a96446",
        "outputId": "20590d85-8cd2-41cd-e537-eb83f8d3553d"
      },
      "outputs": [
        {
          "data": {
            "text/plain": [
              "GridSearchCV(cv=StratifiedKFold(n_splits=10, random_state=19, shuffle=True),\n",
              "             estimator=LogisticRegression(),\n",
              "             param_grid={'C': [0.1, 0.5, 1, 10, 100, 1000], 'penalty': ['l2'],\n",
              "                         'solver': ['lbfgs']},\n",
              "             scoring='accuracy')"
            ]
          },
          "execution_count": 144,
          "metadata": {},
          "output_type": "execute_result"
        }
      ],
      "source": [
        "#Se entrena al modelo\n",
        "grid_lr.fit(X_train, y_train)"
      ]
    },
    {
      "cell_type": "code",
      "execution_count": null,
      "id": "70ff5f1f",
      "metadata": {
        "id": "70ff5f1f",
        "outputId": "18626da0-69a0-444a-b322-769e2ebb3862"
      },
      "outputs": [
        {
          "name": "stdout",
          "output_type": "stream",
          "text": [
            "Mejores hyperparametros: {'C': 1, 'penalty': 'l2', 'solver': 'lbfgs'}\n",
            "Mejor score: 0.6674418604651164\n",
            "Mejor estimador: LogisticRegression(C=1)\n"
          ]
        }
      ],
      "source": [
        "#Vemos los valores\n",
        "print(\"Mejores hyperparametros:\", grid_lr.best_params_)\n",
        "print(\"Mejor score:\", grid_lr.best_score_)\n",
        "print(\"Mejor estimador:\", grid_lr.best_estimator_)"
      ]
    },
    {
      "cell_type": "markdown",
      "id": "414ea8fe",
      "metadata": {
        "id": "414ea8fe"
      },
      "source": [
        "## Naive Bayes"
      ]
    },
    {
      "cell_type": "code",
      "execution_count": null,
      "id": "fac82259",
      "metadata": {
        "id": "fac82259"
      },
      "outputs": [],
      "source": [
        "#Ahora con Gaussian Naive bayes\n",
        "from sklearn.naive_bayes import GaussianNB"
      ]
    },
    {
      "cell_type": "code",
      "execution_count": null,
      "id": "1ed94988",
      "metadata": {
        "id": "1ed94988"
      },
      "outputs": [],
      "source": [
        "naive_b = GaussianNB()"
      ]
    },
    {
      "cell_type": "code",
      "execution_count": null,
      "id": "856d73a9",
      "metadata": {
        "id": "856d73a9",
        "outputId": "e6ef706a-9aff-42ac-b323-b2bbb30bc53e"
      },
      "outputs": [
        {
          "data": {
            "text/plain": [
              "GaussianNB()"
            ]
          },
          "execution_count": 148,
          "metadata": {},
          "output_type": "execute_result"
        }
      ],
      "source": [
        "#Se entrena al modelo\n",
        "naive_b.fit(X_train, y_train)"
      ]
    },
    {
      "cell_type": "code",
      "execution_count": null,
      "id": "802087c8",
      "metadata": {
        "id": "802087c8",
        "outputId": "5e8f022a-1563-40c4-c02d-202240d4e048"
      },
      "outputs": [
        {
          "data": {
            "text/plain": [
              "0.57"
            ]
          },
          "execution_count": 149,
          "metadata": {},
          "output_type": "execute_result"
        }
      ],
      "source": [
        "#Predicion para ver el rendimiento del modelo\n",
        "y_pred_nb = naive_b.predict(X_test)\n",
        "\n",
        "round(accuracy_score(y_test, y_pred_nb), 2)"
      ]
    },
    {
      "cell_type": "code",
      "execution_count": null,
      "id": "b87a5ae5",
      "metadata": {
        "id": "b87a5ae5"
      },
      "outputs": [],
      "source": [
        "#Parece que el mejor modelo fue el de regresion logistica, probamos hacer un predict\n",
        "y_pred_lr = grid_lr.predict(X_test)"
      ]
    },
    {
      "cell_type": "code",
      "execution_count": null,
      "id": "dd3706ea",
      "metadata": {
        "id": "dd3706ea",
        "outputId": "ca7847c6-9807-425a-fb23-d9e4787c6e07"
      },
      "outputs": [
        {
          "data": {
            "image/png": "[encoded data removed]",
            "text/plain": [
              "<Figure size 1008x432 with 2 Axes>"
            ]
          },
          "metadata": {},
          "output_type": "display_data"
        }
      ],
      "source": [
        "#Visualizamos la matriz de confusion\n",
        "sns.heatmap(confusion_matrix(y_test, y_pred_lr), annot=True, fmt='.0f')\n",
        "plt.ylabel('Etiquetas reales')\n",
        "plt.xlabel('Etiquetas predichas');"
      ]
    },
    {
      "cell_type": "code",
      "execution_count": null,
      "id": "9b9d8084",
      "metadata": {
        "id": "9b9d8084",
        "outputId": "dac38eda-36de-4e11-aec3-e83adecf6999"
      },
      "outputs": [
        {
          "name": "stdout",
          "output_type": "stream",
          "text": [
            "              precision    recall  f1-score   support\n",
            "\n",
            "           0       0.71      0.80      0.75       261\n",
            "           1       0.62      0.49      0.54       169\n",
            "\n",
            "    accuracy                           0.68       430\n",
            "   macro avg       0.66      0.64      0.65       430\n",
            "weighted avg       0.67      0.68      0.67       430\n",
            "\n"
          ]
        }
      ],
      "source": [
        "#Vemos el reporte de clasificaicon\n",
        "print (classification_report(y_test, y_pred_lr))"
      ]
    },
    {
      "cell_type": "code",
      "execution_count": null,
      "id": "f273bb8b",
      "metadata": {
        "id": "f273bb8b"
      },
      "outputs": [],
      "source": [
        "#Importamos herramientas para verificar el modelo\n",
        "from sklearn.metrics import roc_curve\n",
        "from sklearn.metrics import auc"
      ]
    },
    {
      "cell_type": "code",
      "execution_count": null,
      "id": "6618fc6e",
      "metadata": {
        "id": "6618fc6e"
      },
      "outputs": [],
      "source": [
        "y_pred_proba = grid_lr.predict_proba(X_test)"
      ]
    },
    {
      "cell_type": "code",
      "execution_count": null,
      "id": "7c60a4f9",
      "metadata": {
        "id": "7c60a4f9"
      },
      "outputs": [],
      "source": [
        "fpr_log,tpr_log,thr_log = roc_curve(y_test, y_pred_proba[:,1])"
      ]
    },
    {
      "cell_type": "code",
      "execution_count": null,
      "id": "a6b645f8",
      "metadata": {
        "id": "a6b645f8",
        "outputId": "320e37ed-d1b4-4b42-c931-ed3329ec31aa"
      },
      "outputs": [
        {
          "data": {
            "image/png": "[encoded data removed]",
            "text/plain": [
              "<Figure size 1008x432 with 1 Axes>"
            ]
          },
          "metadata": {},
          "output_type": "display_data"
        }
      ],
      "source": [
        "#Vemos la curva roc\n",
        "df = pd.DataFrame(dict(fpr=fpr_log, tpr=tpr_log, thr = thr_log))\n",
        "\n",
        "plt.axis([0, 1.01, 0, 1.01])\n",
        "plt.xlabel('1 - Specificty'); plt.ylabel('TPR / Sensitivity'); plt.title('ROC Curve')\n",
        "plt.plot(df['fpr'],df['tpr'])\n",
        "plt.plot(np.arange(0,1, step =0.01), np.arange(0,1, step =0.01))\n",
        "plt.show()"
      ]
    }
  ],
  "metadata": {
    "kernelspec": {
      "display_name": "Python 3",
      "language": "python",
      "name": "python3"
    },
    "language_info": {
      "codemirror_mode": {
        "name": "ipython",
        "version": 3
      },
      "file_extension": ".py",
      "mimetype": "text/x-python",
      "name": "python",
      "nbconvert_exporter": "python",
      "pygments_lexer": "ipython3",
      "version": "3.8.2"
    },
    "colab": {
      "provenance": [],
      "toc_visible": true,
      "collapsed_sections": [
        "bc8864fd",
        "b36e7185",
        "4a68fb6e",
        "978c628f",
        "84d92ad5",
        "90215fa9",
        "b9b12aa5",
        "bb575b2d",
        "ee763cef",
        "37df7777",
        "fe59b22f",
        "9e477ef1",
        "88d951c9",
        "b8b53b0b",
        "f3d1e9e3",
        "8dca7a3d",
        "0d9a3d06",
        "1f880491",
        "bd8188c3",
        "63ecc8a1",
        "8d660745",
        "d437dbca",
        "414ea8fe"
      ],
      "include_colab_link": true
    }
  },
  "nbformat": 4,
  "nbformat_minor": 5
}